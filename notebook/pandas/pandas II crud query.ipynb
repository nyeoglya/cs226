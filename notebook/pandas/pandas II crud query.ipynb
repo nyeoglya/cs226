{
 "cells": [
  {
   "cell_type": "markdown",
   "id": "a5d1d677",
   "metadata": {},
   "source": [
    "# Pandas II — CRUD & Query over DataFrames\n",
    "\n",
    "Small cells; each operation is visible."
   ]
  },
  {
   "cell_type": "code",
   "execution_count": null,
   "id": "39d2b9f3",
   "metadata": {},
   "outputs": [],
   "source": [
    "import pandas as pd\n",
    "import numpy as np\n",
    "pd.set_option(\"display.max_rows\", 10)\n",
    "pd.set_option(\"display.max_columns\", 10)\n",
    "print(\"pandas\", pd.__version__)"
   ]
  },
  {
   "cell_type": "code",
   "execution_count": null,
   "id": "6f2967ef",
   "metadata": {},
   "outputs": [],
   "source": [
    "# Build a tiny, reproducible dataset\n",
    "data = {\n",
    "    \"State\": [\"CA\",\"CA\",\"CA\",\"CA\"],\n",
    "    \"Sex\":   [\"F\",\"F\",\"F\",\"F\"],\n",
    "    \"Year\":  [1910,1910,1910,1910],\n",
    "    \"Name\":  [\"Mary\",\"Helen\",\"Dorothy\",\"Margaret\"],\n",
    "    \"Count\": [295,239,220,163]\n",
    "}\n",
    "babynames = pd.DataFrame(data)\n",
    "babynames"
   ]
  },
  {
   "cell_type": "markdown",
   "id": "b23d5f33",
   "metadata": {},
   "source": [
    "## CRUD & Query Operations"
   ]
  },
  {
   "cell_type": "markdown",
   "id": "c4b06088",
   "metadata": {},
   "source": [
    "### Create: concat rows (axis=0)"
   ]
  },
  {
   "cell_type": "code",
   "execution_count": null,
   "id": "1226c8b5",
   "metadata": {},
   "outputs": [],
   "source": [
    "rows = [(\"CA\",\"M\",2023,\"Atlas\",9), (\"CA\",\"F\",2024,\"Mira\",7)]\n",
    "new_rows = pd.DataFrame(rows, columns=babynames.columns)\n",
    "babynames_rows = pd.concat([babynames, new_rows], ignore_index=True)\n",
    "babynames_rows.tail(3)"
   ]
  },
  {
   "cell_type": "markdown",
   "id": "dea7f0d4",
   "metadata": {},
   "source": [
    "**Exercise** 🔧\n",
    "\n",
    "Append two new rows to `babynames` using `pd.concat` but **keep only unique** rows (hint: `drop_duplicates`).\n",
    "\n",
    "_Write your code in the next cell._"
   ]
  },
  {
   "cell_type": "code",
   "execution_count": null,
   "id": "eda75608",
   "metadata": {},
   "outputs": [],
   "source": [
    "# your work here"
   ]
  },
  {
   "cell_type": "markdown",
   "id": "66331b9c",
   "metadata": {},
   "source": [
    "### Create: concat columns (axis=1)"
   ]
  },
  {
   "cell_type": "code",
   "execution_count": null,
   "id": "b777120e",
   "metadata": {},
   "outputs": [],
   "source": [
    "extra = pd.DataFrame({\"source\":[\"SSA\"]*len(babynames)})\n",
    "by_cols = pd.concat([babynames, extra], axis=1)\n",
    "by_cols.head(2)"
   ]
  },
  {
   "cell_type": "markdown",
   "id": "c3f66e20",
   "metadata": {},
   "source": [
    "**Exercise** 🔧\n",
    "\n",
    "Using `pd.concat(axis=1)`, attach a column `region='West'` to `babynames`.\n",
    "\n",
    "_Write your code in the next cell._"
   ]
  },
  {
   "cell_type": "code",
   "execution_count": null,
   "id": "78449168",
   "metadata": {},
   "outputs": [],
   "source": [
    "# your work here"
   ]
  },
  {
   "cell_type": "markdown",
   "id": "ba07db7d",
   "metadata": {},
   "source": [
    "### Create: assign (derive column)"
   ]
  },
  {
   "cell_type": "code",
   "execution_count": null,
   "id": "5d38cd0b",
   "metadata": {},
   "outputs": [],
   "source": [
    "with_decade = babynames.assign(decade=(babynames[\"Year\"]//10)*10)\n",
    "with_decade.head(2)"
   ]
  },
  {
   "cell_type": "markdown",
   "id": "20e2a100",
   "metadata": {},
   "source": [
    "**Exercise** 🔧\n",
    "\n",
    "Add a column `name_upper` as the uppercase of `Name` using `.assign`. Show the first 3 rows.\n",
    "\n",
    "_Write your code in the next cell._"
   ]
  },
  {
   "cell_type": "code",
   "execution_count": null,
   "id": "2f8baf09",
   "metadata": {},
   "outputs": [],
   "source": [
    "# your work here"
   ]
  },
  {
   "cell_type": "markdown",
   "id": "bc005c95",
   "metadata": {},
   "source": [
    "### Create: insert column at position"
   ]
  },
  {
   "cell_type": "code",
   "execution_count": null,
   "id": "19f78b53",
   "metadata": {},
   "outputs": [],
   "source": [
    "df_ins = babynames.copy()\n",
    "df_ins.insert(0, \"state_sex\", df_ins[\"State\"].str.cat(df_ins[\"Sex\"], sep=\"-\"))\n",
    "df_ins.head(2)"
   ]
  },
  {
   "cell_type": "markdown",
   "id": "fa122a72",
   "metadata": {},
   "source": [
    "**Exercise** 🔧\n",
    "\n",
    "Insert a column named `year_label` at the last position with value like `'Y1910'` built from `Year`.\n",
    "\n",
    "_Write your code in the next cell._"
   ]
  },
  {
   "cell_type": "code",
   "execution_count": null,
   "id": "6445aab5",
   "metadata": {},
   "outputs": [],
   "source": [
    "# your work here"
   ]
  },
  {
   "cell_type": "markdown",
   "id": "c3ce31ae",
   "metadata": {},
   "source": [
    "### Create: add a single row via .loc[new_index]"
   ]
  },
  {
   "cell_type": "code",
   "execution_count": null,
   "id": "787b0217",
   "metadata": {},
   "outputs": [],
   "source": [
    "df_add = babynames.copy()\n",
    "df_add.loc[len(df_add)] = [\"CA\",\"F\",2023,\"Nova\",12]\n",
    "df_add.tail(2)"
   ]
  },
  {
   "cell_type": "markdown",
   "id": "305df171",
   "metadata": {},
   "source": [
    "**Exercise** 🔧\n",
    "\n",
    "Using `.loc`, add a row for (`CA`,`M`,2025,`Leo`,5). Print the last 2 rows.\n",
    "\n",
    "_Write your code in the next cell._"
   ]
  },
  {
   "cell_type": "code",
   "execution_count": null,
   "id": "50800809",
   "metadata": {},
   "outputs": [],
   "source": [
    "# your work here"
   ]
  },
  {
   "cell_type": "markdown",
   "id": "b0063525",
   "metadata": {},
   "source": [
    "### Create: reindex to add missing labels"
   ]
  },
  {
   "cell_type": "code",
   "execution_count": null,
   "id": "bfc6d59e",
   "metadata": {},
   "outputs": [],
   "source": [
    "df_re = babynames.set_index(\"Name\")\n",
    "df_re = df_re.reindex(df_re.index.tolist()+[\"Alice\"])\n",
    "df_re.tail(3)"
   ]
  },
  {
   "cell_type": "markdown",
   "id": "b1da7c47",
   "metadata": {},
   "source": [
    "**Exercise** 🔧\n",
    "\n",
    "Reindex `babynames` so that it contains an index for `'Zoe'` in the Name index (set `Name` as index first).\n",
    "\n",
    "_Write your code in the next cell._"
   ]
  },
  {
   "cell_type": "code",
   "execution_count": null,
   "id": "6122b349",
   "metadata": {},
   "outputs": [],
   "source": [
    "# your work here"
   ]
  },
  {
   "cell_type": "markdown",
   "id": "0bf77501",
   "metadata": {},
   "source": [
    "### Update: loc set by label mask"
   ]
  },
  {
   "cell_type": "code",
   "execution_count": null,
   "id": "b3b82901",
   "metadata": {},
   "outputs": [],
   "source": [
    "df_upd = babynames.copy()\n",
    "ix = (df_upd[\"Name\"]==\"Mary\") & (df_upd[\"Year\"]==1910)\n",
    "df_upd.loc[ix, \"Count\"] = df_upd.loc[ix, \"Count\"] + 1\n",
    "df_upd.head(2)"
   ]
  },
  {
   "cell_type": "markdown",
   "id": "62cfdbdc",
   "metadata": {},
   "source": [
    "**Exercise** 🔧\n",
    "\n",
    "Increase `Count` by 10 for all rows where `Count < 200` using `.loc` with a mask.\n",
    "\n",
    "_Write your code in the next cell._"
   ]
  },
  {
   "cell_type": "code",
   "execution_count": null,
   "id": "f337716b",
   "metadata": {},
   "outputs": [],
   "source": [
    "# your work here"
   ]
  },
  {
   "cell_type": "markdown",
   "id": "48a9a913",
   "metadata": {},
   "source": [
    "### Update: at single scalar set"
   ]
  },
  {
   "cell_type": "code",
   "execution_count": null,
   "id": "874f1ef0",
   "metadata": {},
   "outputs": [],
   "source": [
    "df_at = babynames.copy()\n",
    "df_at.at[0, \"Count\"] = df_at.at[0, \"Count\"] + 2\n",
    "df_at.head(2)"
   ]
  },
  {
   "cell_type": "markdown",
   "id": "0c2bc436",
   "metadata": {},
   "source": [
    "**Exercise** 🔧\n",
    "\n",
    "Using `.at`, set the cell (row 1, column `Name`) to `'MARY'` (index 0). Print the first row.\n",
    "\n",
    "_Write your code in the next cell._"
   ]
  },
  {
   "cell_type": "code",
   "execution_count": null,
   "id": "b5571ad4",
   "metadata": {},
   "outputs": [],
   "source": [
    "# your work here"
   ]
  },
  {
   "cell_type": "markdown",
   "id": "0d55a409",
   "metadata": {},
   "source": [
    "### Update: where keep/replace"
   ]
  },
  {
   "cell_type": "code",
   "execution_count": null,
   "id": "2b1f369e",
   "metadata": {},
   "outputs": [],
   "source": [
    "df_wh = babynames.copy()\n",
    "cond = df_wh[\"Count\"] >= 230\n",
    "df_wh[\"pop_flag\"] = df_wh[\"Count\"].where(cond, other=np.nan)\n",
    "df_wh[[\"Name\",\"Count\",\"pop_flag\"]]"
   ]
  },
  {
   "cell_type": "markdown",
   "id": "1ec0d7e5",
   "metadata": {},
   "source": [
    "**Exercise** 🔧\n",
    "\n",
    "Create column `zero_small` that keeps `Count` where `Count>=200` else 0 using `.where`. Show Name/Count/zero_small.\n",
    "\n",
    "_Write your code in the next cell._"
   ]
  },
  {
   "cell_type": "code",
   "execution_count": null,
   "id": "55580973",
   "metadata": {},
   "outputs": [],
   "source": [
    "# your work here"
   ]
  },
  {
   "cell_type": "markdown",
   "id": "8500170b",
   "metadata": {},
   "source": [
    "### Update: mask replace where condition true"
   ]
  },
  {
   "cell_type": "code",
   "execution_count": null,
   "id": "7d9e2423",
   "metadata": {},
   "outputs": [],
   "source": [
    "df_ms = babynames.copy()\n",
    "cond = df_ms[\"Count\"] < 200\n",
    "df_ms[\"Count_masked\"] = df_ms[\"Count\"].mask(cond, other=0)\n",
    "df_ms[[\"Name\",\"Count\",\"Count_masked\"]]"
   ]
  },
  {
   "cell_type": "markdown",
   "id": "82349e58",
   "metadata": {},
   "source": [
    "**Exercise** 🔧\n",
    "\n",
    "Using `.mask`, replace `Count` values >= 230 with `999`. Show Name/Count/new column.\n",
    "\n",
    "_Write your code in the next cell._"
   ]
  },
  {
   "cell_type": "code",
   "execution_count": null,
   "id": "99adc25f",
   "metadata": {},
   "outputs": [],
   "source": [
    "# your work here"
   ]
  },
  {
   "cell_type": "markdown",
   "id": "de16101d",
   "metadata": {},
   "source": [
    "### Update: replace mapping"
   ]
  },
  {
   "cell_type": "code",
   "execution_count": null,
   "id": "9fda3108",
   "metadata": {},
   "outputs": [],
   "source": [
    "df_rp = babynames.copy()\n",
    "df_rp[\"Sex2\"] = df_rp[\"Sex\"].replace({\"F\":\"Female\",\"M\":\"Male\"})\n",
    "df_rp[[\"Sex\",\"Sex2\"]].head()"
   ]
  },
  {
   "cell_type": "markdown",
   "id": "0c488933",
   "metadata": {},
   "source": [
    "**Exercise** 🔧\n",
    "\n",
    "Replace names `{'Mary':'M.', 'Helen':'H.'}` in a new column `abbr` via `.replace`. Show Name/abbr.\n",
    "\n",
    "_Write your code in the next cell._"
   ]
  },
  {
   "cell_type": "code",
   "execution_count": null,
   "id": "0cbd6cf1",
   "metadata": {},
   "outputs": [],
   "source": [
    "# your work here"
   ]
  },
  {
   "cell_type": "markdown",
   "id": "cd0f9f22",
   "metadata": {},
   "source": [
    "### Delete: drop rows by label"
   ]
  },
  {
   "cell_type": "code",
   "execution_count": null,
   "id": "d49ba823",
   "metadata": {},
   "outputs": [],
   "source": [
    "df_dr = babynames.copy()\n",
    "to_remove = df_dr.index[:2]\n",
    "df_dr2 = df_dr.drop(index=to_remove)\n",
    "df_dr2.head()"
   ]
  },
  {
   "cell_type": "markdown",
   "id": "4c40a599",
   "metadata": {},
   "source": [
    "**Exercise** 🔧\n",
    "\n",
    "Drop the last two rows by index labels. Show resulting shape.\n",
    "\n",
    "_Write your code in the next cell._"
   ]
  },
  {
   "cell_type": "code",
   "execution_count": null,
   "id": "befb751f",
   "metadata": {},
   "outputs": [],
   "source": [
    "# your work here"
   ]
  },
  {
   "cell_type": "markdown",
   "id": "2833a13d",
   "metadata": {},
   "source": [
    "### Delete: drop columns"
   ]
  },
  {
   "cell_type": "code",
   "execution_count": null,
   "id": "69fa0713",
   "metadata": {},
   "outputs": [],
   "source": [
    "df_dc = babynames.drop(columns=[\"Sex\"])\n",
    "df_dc.head(2)"
   ]
  },
  {
   "cell_type": "markdown",
   "id": "a27384f3",
   "metadata": {},
   "source": [
    "**Exercise** 🔧\n",
    "\n",
    "Drop the `State` column. Print the remaining columns.\n",
    "\n",
    "_Write your code in the next cell._"
   ]
  },
  {
   "cell_type": "code",
   "execution_count": null,
   "id": "ef8ccc74",
   "metadata": {},
   "outputs": [],
   "source": [
    "# your work here"
   ]
  },
  {
   "cell_type": "markdown",
   "id": "0d716f4b",
   "metadata": {},
   "source": [
    "### Delete: dropna on subset"
   ]
  },
  {
   "cell_type": "code",
   "execution_count": null,
   "id": "cd3ee65e",
   "metadata": {},
   "outputs": [],
   "source": [
    "df_na = babynames.copy()\n",
    "df_na.loc[1, \"Count\"] = np.nan\n",
    "clean = df_na.dropna(subset=[\"Count\"])\n",
    "clean"
   ]
  },
  {
   "cell_type": "markdown",
   "id": "b6db883e",
   "metadata": {},
   "source": [
    "**Exercise** 🔧\n",
    "\n",
    "Introduce a NaN into `Name` (e.g., row 2), then drop rows where `Name` is NA.\n",
    "\n",
    "_Write your code in the next cell._"
   ]
  },
  {
   "cell_type": "code",
   "execution_count": null,
   "id": "39cd2672",
   "metadata": {},
   "outputs": [],
   "source": [
    "# your work here"
   ]
  },
  {
   "cell_type": "markdown",
   "id": "06298d97",
   "metadata": {},
   "source": [
    "### Delete: pop a column"
   ]
  },
  {
   "cell_type": "code",
   "execution_count": null,
   "id": "9d14112c",
   "metadata": {},
   "outputs": [],
   "source": [
    "df_pop = babynames.copy()\n",
    "cnt = df_pop.pop(\"Count\")  # returns a Series\n",
    "type(cnt), cnt.head(3)"
   ]
  },
  {
   "cell_type": "markdown",
   "id": "95b64d3e",
   "metadata": {},
   "source": [
    "**Exercise** 🔧\n",
    "\n",
    "Pop the `Sex` column into a Series called `sx`, and print its `.unique()` values.\n",
    "\n",
    "_Write your code in the next cell._"
   ]
  },
  {
   "cell_type": "code",
   "execution_count": null,
   "id": "bd75cd46",
   "metadata": {},
   "outputs": [],
   "source": [
    "# your work here"
   ]
  },
  {
   "cell_type": "markdown",
   "id": "d58c0202",
   "metadata": {},
   "source": [
    "### Query: boolean filter with .loc"
   ]
  },
  {
   "cell_type": "code",
   "execution_count": null,
   "id": "dd5e95d1",
   "metadata": {},
   "outputs": [],
   "source": [
    "mask = (babynames[\"Name\"].isin([\"Mary\",\"Helen\"])) & (babynames[\"Count\"]>200)\n",
    "babynames.loc[mask, [\"Name\",\"Count\"]]"
   ]
  },
  {
   "cell_type": "markdown",
   "id": "7a7ebb10",
   "metadata": {},
   "source": [
    "**Exercise** 🔧\n",
    "\n",
    "Select rows where `Name` is in {`Dorothy`,`Margaret`} and `Count>=200`. Show Name/Count.\n",
    "\n",
    "_Write your code in the next cell._"
   ]
  },
  {
   "cell_type": "code",
   "execution_count": null,
   "id": "c7775dc9",
   "metadata": {},
   "outputs": [],
   "source": [
    "# your work here"
   ]
  },
  {
   "cell_type": "markdown",
   "id": "da033c4c",
   "metadata": {},
   "source": [
    "### Query: .query string"
   ]
  },
  {
   "cell_type": "code",
   "execution_count": null,
   "id": "c0137eec",
   "metadata": {},
   "outputs": [],
   "source": [
    "babynames.query(\"Count >= 220 and Name in ['Mary','Helen']\")[[\"Name\",\"Count\"]]"
   ]
  },
  {
   "cell_type": "markdown",
   "id": "43dc920b",
   "metadata": {},
   "source": [
    "**Exercise** 🔧\n",
    "\n",
    "Using `.query`, get rows with `Count<230` or `Name=='Mary'`. Show Name/Count.\n",
    "\n",
    "_Write your code in the next cell._"
   ]
  },
  {
   "cell_type": "code",
   "execution_count": null,
   "id": "2e35b3a5",
   "metadata": {},
   "outputs": [],
   "source": [
    "# your work here"
   ]
  },
  {
   "cell_type": "markdown",
   "id": "4e1621da",
   "metadata": {},
   "source": [
    "### Query: drop_duplicates"
   ]
  },
  {
   "cell_type": "code",
   "execution_count": null,
   "id": "2323e179",
   "metadata": {},
   "outputs": [],
   "source": [
    "pairs = babynames[[\"Year\",\"Name\"]].drop_duplicates()\n",
    "pairs.head()"
   ]
  },
  {
   "cell_type": "markdown",
   "id": "4c9b3a61",
   "metadata": {},
   "source": [
    "**Exercise** 🔧\n",
    "\n",
    "Create a DataFrame of unique `Sex, Year` pairs. Show the result.\n",
    "\n",
    "_Write your code in the next cell._"
   ]
  },
  {
   "cell_type": "code",
   "execution_count": null,
   "id": "8f3a98f0",
   "metadata": {},
   "outputs": [],
   "source": [
    "# your work here"
   ]
  },
  {
   "cell_type": "markdown",
   "id": "6f0fe72e",
   "metadata": {},
   "source": [
    "### Query: sort_values"
   ]
  },
  {
   "cell_type": "code",
   "execution_count": null,
   "id": "a26674c4",
   "metadata": {},
   "outputs": [],
   "source": [
    "babynames.sort_values([\"Count\",\"Name\"], ascending=[False,True]).head(3)"
   ]
  },
  {
   "cell_type": "markdown",
   "id": "aa2d6f68",
   "metadata": {},
   "source": [
    "**Exercise** 🔧\n",
    "\n",
    "Sort by `Name` ascending and `Count` descending. Show all rows.\n",
    "\n",
    "_Write your code in the next cell._"
   ]
  },
  {
   "cell_type": "code",
   "execution_count": null,
   "id": "4026e7d8",
   "metadata": {},
   "outputs": [],
   "source": [
    "# your work here"
   ]
  },
  {
   "cell_type": "markdown",
   "id": "5ee5b4c8",
   "metadata": {},
   "source": [
    "### Query: groupby + agg"
   ]
  },
  {
   "cell_type": "code",
   "execution_count": null,
   "id": "ab2d2eef",
   "metadata": {},
   "outputs": [],
   "source": [
    "per_year = (babynames.groupby(\"Year\")[\"Count\"]\n",
    "            .agg(total=\"sum\", avg=\"mean\"))\n",
    "per_year"
   ]
  },
  {
   "cell_type": "markdown",
   "id": "3dff9660",
   "metadata": {},
   "source": [
    "**Exercise** 🔧\n",
    "\n",
    "Compute total and max of `Count` per `Sex`. Show the result.\n",
    "\n",
    "_Write your code in the next cell._"
   ]
  },
  {
   "cell_type": "code",
   "execution_count": null,
   "id": "bc7ac34a",
   "metadata": {},
   "outputs": [],
   "source": [
    "# your work here"
   ]
  },
  {
   "cell_type": "markdown",
   "id": "85a14e71",
   "metadata": {},
   "source": [
    "### Query: merge (equi-join on Year)"
   ]
  },
  {
   "cell_type": "code",
   "execution_count": null,
   "id": "557d428c",
   "metadata": {},
   "outputs": [],
   "source": [
    "yr_total = (babynames.groupby(\"Year\")[\"Count\"].sum()\n",
    "            .rename(\"year_total\").reset_index())\n",
    "joined = pd.merge(babynames, yr_total, on=\"Year\", how=\"left\")\n",
    "joined.head(3)"
   ]
  },
  {
   "cell_type": "markdown",
   "id": "1a0c79f7",
   "metadata": {},
   "source": [
    "**Exercise** 🔧\n",
    "\n",
    "Perform a left join that adds `sex_total = sum(Count) per Sex` to each row.\n",
    "\n",
    "_Write your code in the next cell._"
   ]
  },
  {
   "cell_type": "code",
   "execution_count": null,
   "id": "64d403e9",
   "metadata": {},
   "outputs": [],
   "source": [
    "# your work here"
   ]
  },
  {
   "cell_type": "markdown",
   "id": "6240b315",
   "metadata": {},
   "source": [
    "### Query: crosstab"
   ]
  },
  {
   "cell_type": "code",
   "execution_count": null,
   "id": "10748de1",
   "metadata": {},
   "outputs": [],
   "source": [
    "pd.crosstab(index=babynames[\"Year\"], columns=babynames[\"Name\"])"
   ]
  },
  {
   "cell_type": "markdown",
   "id": "589f18f3",
   "metadata": {},
   "source": [
    "**Exercise** 🔧\n",
    "\n",
    "Build a crosstab of `Name` by `Sex`.\n",
    "\n",
    "_Write your code in the next cell._"
   ]
  },
  {
   "cell_type": "code",
   "execution_count": null,
   "id": "0f45f933",
   "metadata": {},
   "outputs": [],
   "source": [
    "# your work here"
   ]
  },
  {
   "cell_type": "markdown",
   "id": "2a6ab040",
   "metadata": {},
   "source": [
    "### Query: pivot_table"
   ]
  },
  {
   "cell_type": "code",
   "execution_count": null,
   "id": "ff138721",
   "metadata": {},
   "outputs": [],
   "source": [
    "babynames.pivot_table(index=\"Year\", columns=\"Sex\", values=\"Count\",\n",
    "                      aggfunc=\"sum\", fill_value=0, margins=True)"
   ]
  },
  {
   "cell_type": "markdown",
   "id": "fc5f1b48",
   "metadata": {},
   "source": [
    "**Exercise** 🔧\n",
    "\n",
    "Create a pivot table of `index=Sex, columns=Name` showing `max(Count)` with `fill_value=0`.\n",
    "\n",
    "_Write your code in the next cell._"
   ]
  },
  {
   "cell_type": "code",
   "execution_count": null,
   "id": "794cdba6",
   "metadata": {},
   "outputs": [],
   "source": [
    "# your work here"
   ]
  }
 ],
 "metadata": {
  "kernelspec": {
   "display_name": "Python 3 (ipykernel)",
   "language": "python",
   "name": "python3"
  },
  "language_info": {
   "codemirror_mode": {
    "name": "ipython",
    "version": 3
   },
   "file_extension": ".py",
   "mimetype": "text/x-python",
   "name": "python",
   "nbconvert_exporter": "python",
   "pygments_lexer": "ipython3",
   "version": "3.10.18"
  }
 },
 "nbformat": 4,
 "nbformat_minor": 5
}
