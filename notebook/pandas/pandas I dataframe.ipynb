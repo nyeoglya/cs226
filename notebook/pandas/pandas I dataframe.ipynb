{
 "cells": [
  {
   "cell_type": "markdown",
   "id": "3a8130d3",
   "metadata": {},
   "source": [
    "# Pandas I — Introduction to Data Manipulation (DataFrame-focused)\n",
    "\n",
    "**Course:** Data Science 100 — Spring 2025  \n",
    "**Author:** Wook-Shin Han (POSTECH)  \n",
    "**Last generated:** 2025-09-17 00:14\n",
    "\n",
    "This notebook is a *hands-on* companion to the *Pandas I* lecture.\n",
    "Run cells one-by-one and observe the outputs. Explanations are in English.\n",
    "Each topic ends with **Exercises** and an **empty code cell** for you to type and run your answer.\n"
   ]
  },
  {
   "cell_type": "markdown",
   "id": "41874730",
   "metadata": {},
   "source": [
    "## Setup\n",
    "\n",
    "- Import pandas and numpy\n",
    "- Use friendly display options\n",
    "- Confirm library versions\n"
   ]
  },
  {
   "cell_type": "code",
   "execution_count": 1,
   "id": "f55f099d",
   "metadata": {},
   "outputs": [
    {
     "name": "stdout",
     "output_type": "stream",
     "text": [
      "pandas: 2.3.3\n",
      "numpy : 2.2.6\n"
     ]
    }
   ],
   "source": [
    "import pandas as pd\n",
    "import numpy as np\n",
    "\n",
    "pd.set_option(\"display.max_rows\", 20)\n",
    "pd.set_option(\"display.max_columns\", 20)\n",
    "pd.set_option(\"display.width\", 120)\n",
    "\n",
    "print(\"pandas:\", pd.__version__)\n",
    "print(\"numpy :\", np.__version__)"
   ]
  },
  {
   "cell_type": "markdown",
   "id": "78bf0fc6",
   "metadata": {},
   "source": [
    "## 1) DataFrame Anatomy & Diagnostics\n",
    "\n",
    "A **DataFrame** is a 2D table with labeled rows (index) and columns. Each column is a `Series` with its own dtype.\n",
    "Key attributes and methods you should know:\n",
    "- `df.index`, `df.columns`, `df.dtypes`, `df.shape`\n",
    "- `df.info()` for memory and non-null counts\n",
    "- `df.select_dtypes(include=...)` to pick numeric, string, category, etc.\n"
   ]
  },
  {
   "cell_type": "code",
   "execution_count": 2,
   "id": "5f0ff172",
   "metadata": {},
   "outputs": [
    {
     "data": {
      "text/html": [
       "<div>\n",
       "<style scoped>\n",
       "    .dataframe tbody tr th:only-of-type {\n",
       "        vertical-align: middle;\n",
       "    }\n",
       "\n",
       "    .dataframe tbody tr th {\n",
       "        vertical-align: top;\n",
       "    }\n",
       "\n",
       "    .dataframe thead th {\n",
       "        text-align: right;\n",
       "    }\n",
       "</style>\n",
       "<table border=\"1\" class=\"dataframe\">\n",
       "  <thead>\n",
       "    <tr style=\"text-align: right;\">\n",
       "      <th></th>\n",
       "      <th>city</th>\n",
       "      <th>population</th>\n",
       "      <th>area</th>\n",
       "    </tr>\n",
       "  </thead>\n",
       "  <tbody>\n",
       "    <tr>\n",
       "      <th>0</th>\n",
       "      <td>Oslo</td>\n",
       "      <td>698660</td>\n",
       "      <td>480.8</td>\n",
       "    </tr>\n",
       "    <tr>\n",
       "      <th>1</th>\n",
       "      <td>Vienna</td>\n",
       "      <td>1911191</td>\n",
       "      <td>414.8</td>\n",
       "    </tr>\n",
       "    <tr>\n",
       "      <th>2</th>\n",
       "      <td>Tokyo</td>\n",
       "      <td>14043239</td>\n",
       "      <td>2194.1</td>\n",
       "    </tr>\n",
       "  </tbody>\n",
       "</table>\n",
       "</div>"
      ],
      "text/plain": [
       "     city  population    area\n",
       "0    Oslo      698660   480.8\n",
       "1  Vienna     1911191   414.8\n",
       "2   Tokyo    14043239  2194.1"
      ]
     },
     "execution_count": 2,
     "metadata": {},
     "output_type": "execute_result"
    }
   ],
   "source": [
    "# Example city table with explicit dtypes\n",
    "df = pd.DataFrame({\n",
    "    \"city\":       pd.Series([\"Oslo\", \"Vienna\", \"Tokyo\"], dtype=\"string\"),\n",
    "    \"population\": pd.Series([698_660, 1_911_191, 14_043_239], dtype=\"Int64\"),\n",
    "    \"area\":       pd.Series([480.8, 414.8, 2194.1],     dtype=\"float64\"),\n",
    "})\n",
    "df"
   ]
  },
  {
   "cell_type": "code",
   "execution_count": 3,
   "id": "9692472a",
   "metadata": {},
   "outputs": [
    {
     "name": "stdout",
     "output_type": "stream",
     "text": [
      "Index: RangeIndex(start=0, stop=3, step=1)\n",
      "Columns: ['city', 'population', 'area']\n",
      "\n",
      "Dtypes:\n",
      "city          string[python]\n",
      "population             Int64\n",
      "area                 float64\n",
      "dtype: object\n",
      "\n",
      "Info:\n",
      "<class 'pandas.core.frame.DataFrame'>\n",
      "RangeIndex: 3 entries, 0 to 2\n",
      "Data columns (total 3 columns):\n",
      " #   Column      Non-Null Count  Dtype  \n",
      "---  ------      --------------  -----  \n",
      " 0   city        3 non-null      string \n",
      " 1   population  3 non-null      Int64  \n",
      " 2   area        3 non-null      float64\n",
      "dtypes: Int64(1), float64(1), string(1)\n",
      "memory usage: 203.0 bytes\n",
      "None\n"
     ]
    }
   ],
   "source": [
    "print(\"Index:\", df.index)\n",
    "print(\"Columns:\", list(df.columns))\n",
    "print(\"\\nDtypes:\")\n",
    "print(df.dtypes)\n",
    "print(\"\\nInfo:\")\n",
    "print(df.info())"
   ]
  },
  {
   "cell_type": "markdown",
   "id": "a2ec0e33",
   "metadata": {},
   "source": [
    "<a id='ex1'></a>\n",
    "### Exercise — Anatomy: density & index\n",
    "\n",
    "Use the `df` above and do the following:\n",
    "1. Create a new column `density = population / area` (people per km²).\n",
    "2. Set the index to `city`.\n",
    "3. Show the dtypes and the first 3 rows.\n"
   ]
  },
  {
   "cell_type": "code",
   "execution_count": 10,
   "id": "a4854c63",
   "metadata": {},
   "outputs": [
    {
     "data": {
      "text/plain": [
       "(city          string[python]\n",
       " population             Int64\n",
       " area                 float64\n",
       " density              Float64\n",
       " dtype: object,\n",
       "      city  population    area      density\n",
       " 0    Oslo      698660   480.8    1453.1198\n",
       " 1  Vienna     1911191   414.8       4607.5\n",
       " 2   Tokyo    14043239  2194.1  6400.455312)"
      ]
     },
     "execution_count": 10,
     "metadata": {},
     "output_type": "execute_result"
    }
   ],
   "source": [
    "# Type your answer here\n",
    "df['density']=df['population']/df['area']\n",
    "df.set_index('city')\n",
    "df.dtypes, df.head(3)"
   ]
  },
  {
   "cell_type": "markdown",
   "id": "20d138a9",
   "metadata": {},
   "source": [
    "<details>\n",
    "<summary><strong>▶ Show solution (click)</strong></summary>\n",
    "\n",
    "**Solution code:**\n",
    "```python\n",
    "df2 = df.copy()\n",
    "df2[\"density\"] = df2[\"population\"] / df2[\"area\"]\n",
    "df2 = df2.set_index(\"city\")\n",
    "display(df2.dtypes)\n",
    "display(df2.head(3))\n",
    "```\n",
    "\n",
    "**Explanation:**\n",
    "We compute density by vectorized division of two numeric columns.\n",
    "Setting the index to `city` changes the row labels, improving label-based selection.\n",
    "Dtypes show `Int64` for nullable integers, `float64` for continuous values, and `string` for text.\n",
    "</details>\n"
   ]
  },
  {
   "cell_type": "markdown",
   "id": "7bbdd5b3",
   "metadata": {},
   "source": [
    "## 2) Creating DataFrames\n",
    "\n",
    "Typical ways to build a DataFrame:\n",
    "- From **dict** of columns\n",
    "- From **lists** / list of records\n",
    "- From one or more **Series**\n",
    "- From **CSV / files** with `pd.read_csv(...)`\n",
    "\n",
    "Below we demonstrate each and inspect outcomes.\n"
   ]
  },
  {
   "cell_type": "code",
   "execution_count": 11,
   "id": "1d4861f5",
   "metadata": {},
   "outputs": [
    {
     "data": {
      "text/html": [
       "<div>\n",
       "<style scoped>\n",
       "    .dataframe tbody tr th:only-of-type {\n",
       "        vertical-align: middle;\n",
       "    }\n",
       "\n",
       "    .dataframe tbody tr th {\n",
       "        vertical-align: top;\n",
       "    }\n",
       "\n",
       "    .dataframe thead th {\n",
       "        text-align: right;\n",
       "    }\n",
       "</style>\n",
       "<table border=\"1\" class=\"dataframe\">\n",
       "  <thead>\n",
       "    <tr style=\"text-align: right;\">\n",
       "      <th></th>\n",
       "      <th>Name</th>\n",
       "      <th>Math</th>\n",
       "      <th>Science</th>\n",
       "    </tr>\n",
       "  </thead>\n",
       "  <tbody>\n",
       "    <tr>\n",
       "      <th>0</th>\n",
       "      <td>Alice</td>\n",
       "      <td>85</td>\n",
       "      <td>88</td>\n",
       "    </tr>\n",
       "    <tr>\n",
       "      <th>1</th>\n",
       "      <td>Bob</td>\n",
       "      <td>92</td>\n",
       "      <td>95</td>\n",
       "    </tr>\n",
       "    <tr>\n",
       "      <th>2</th>\n",
       "      <td>Charlie</td>\n",
       "      <td>78</td>\n",
       "      <td>82</td>\n",
       "    </tr>\n",
       "  </tbody>\n",
       "</table>\n",
       "</div>"
      ],
      "text/plain": [
       "      Name  Math  Science\n",
       "0    Alice    85       88\n",
       "1      Bob    92       95\n",
       "2  Charlie    78       82"
      ]
     },
     "execution_count": 11,
     "metadata": {},
     "output_type": "execute_result"
    }
   ],
   "source": [
    "# From a dictionary of columns\n",
    "student = pd.DataFrame({\n",
    "    \"Name\": [\"Alice\", \"Bob\", \"Charlie\"],\n",
    "    \"Math\": [85, 92, 78],\n",
    "    \"Science\": [88, 95, 82]\n",
    "})\n",
    "student"
   ]
  },
  {
   "cell_type": "code",
   "execution_count": 12,
   "id": "5f7adad2",
   "metadata": {},
   "outputs": [
    {
     "data": {
      "text/html": [
       "<div>\n",
       "<style scoped>\n",
       "    .dataframe tbody tr th:only-of-type {\n",
       "        vertical-align: middle;\n",
       "    }\n",
       "\n",
       "    .dataframe tbody tr th {\n",
       "        vertical-align: top;\n",
       "    }\n",
       "\n",
       "    .dataframe thead th {\n",
       "        text-align: right;\n",
       "    }\n",
       "</style>\n",
       "<table border=\"1\" class=\"dataframe\">\n",
       "  <thead>\n",
       "    <tr style=\"text-align: right;\">\n",
       "      <th></th>\n",
       "      <th>Name</th>\n",
       "      <th>Math</th>\n",
       "      <th>Science</th>\n",
       "    </tr>\n",
       "  </thead>\n",
       "  <tbody>\n",
       "    <tr>\n",
       "      <th>0</th>\n",
       "      <td>Alice</td>\n",
       "      <td>85</td>\n",
       "      <td>88</td>\n",
       "    </tr>\n",
       "    <tr>\n",
       "      <th>1</th>\n",
       "      <td>Bob</td>\n",
       "      <td>92</td>\n",
       "      <td>95</td>\n",
       "    </tr>\n",
       "    <tr>\n",
       "      <th>2</th>\n",
       "      <td>Charlie</td>\n",
       "      <td>78</td>\n",
       "      <td>82</td>\n",
       "    </tr>\n",
       "  </tbody>\n",
       "</table>\n",
       "</div>"
      ],
      "text/plain": [
       "      Name  Math  Science\n",
       "0    Alice    85       88\n",
       "1      Bob    92       95\n",
       "2  Charlie    78       82"
      ]
     },
     "execution_count": 12,
     "metadata": {},
     "output_type": "execute_result"
    }
   ],
   "source": [
    "# From a list of records + custom column names\n",
    "data = [[\"Alice\", 85, 88], [\"Bob\", 92, 95], [\"Charlie\", 78, 82]]\n",
    "student2 = pd.DataFrame(data, columns=[\"Name\", \"Math\", \"Science\"])\n",
    "student2"
   ]
  },
  {
   "cell_type": "code",
   "execution_count": 13,
   "id": "9a0f563e",
   "metadata": {},
   "outputs": [
    {
     "data": {
      "text/html": [
       "<div>\n",
       "<style scoped>\n",
       "    .dataframe tbody tr th:only-of-type {\n",
       "        vertical-align: middle;\n",
       "    }\n",
       "\n",
       "    .dataframe tbody tr th {\n",
       "        vertical-align: top;\n",
       "    }\n",
       "\n",
       "    .dataframe thead th {\n",
       "        text-align: right;\n",
       "    }\n",
       "</style>\n",
       "<table border=\"1\" class=\"dataframe\">\n",
       "  <thead>\n",
       "    <tr style=\"text-align: right;\">\n",
       "      <th></th>\n",
       "      <th>Name</th>\n",
       "      <th>Math</th>\n",
       "    </tr>\n",
       "  </thead>\n",
       "  <tbody>\n",
       "    <tr>\n",
       "      <th>0</th>\n",
       "      <td>Alice</td>\n",
       "      <td>85</td>\n",
       "    </tr>\n",
       "    <tr>\n",
       "      <th>1</th>\n",
       "      <td>Bob</td>\n",
       "      <td>92</td>\n",
       "    </tr>\n",
       "    <tr>\n",
       "      <th>2</th>\n",
       "      <td>Charlie</td>\n",
       "      <td>78</td>\n",
       "    </tr>\n",
       "  </tbody>\n",
       "</table>\n",
       "</div>"
      ],
      "text/plain": [
       "      Name  Math\n",
       "0    Alice    85\n",
       "1      Bob    92\n",
       "2  Charlie    78"
      ]
     },
     "execution_count": 13,
     "metadata": {},
     "output_type": "execute_result"
    }
   ],
   "source": [
    "# From multiple Series\n",
    "names = pd.Series([\"Alice\", \"Bob\", \"Charlie\"], name=\"Name\")\n",
    "math  = pd.Series([85, 92, 78], name=\"Math\")\n",
    "student3 = pd.DataFrame({\"Name\": names, \"Math\": math})\n",
    "student3"
   ]
  },
  {
   "cell_type": "code",
   "execution_count": 22,
   "id": "b6394654",
   "metadata": {},
   "outputs": [
    {
     "data": {
      "text/html": [
       "<div>\n",
       "<style scoped>\n",
       "    .dataframe tbody tr th:only-of-type {\n",
       "        vertical-align: middle;\n",
       "    }\n",
       "\n",
       "    .dataframe tbody tr th {\n",
       "        vertical-align: top;\n",
       "    }\n",
       "\n",
       "    .dataframe thead th {\n",
       "        text-align: right;\n",
       "    }\n",
       "</style>\n",
       "<table border=\"1\" class=\"dataframe\">\n",
       "  <thead>\n",
       "    <tr style=\"text-align: right;\">\n",
       "      <th></th>\n",
       "      <th>Year</th>\n",
       "      <th>Candidate</th>\n",
       "      <th>Party</th>\n",
       "      <th>Popular vote</th>\n",
       "      <th>Result</th>\n",
       "      <th>Percentage</th>\n",
       "    </tr>\n",
       "  </thead>\n",
       "  <tbody>\n",
       "    <tr>\n",
       "      <th>0</th>\n",
       "      <td>1824</td>\n",
       "      <td>Andrew Jackson</td>\n",
       "      <td>Democratic-Republican</td>\n",
       "      <td>151271</td>\n",
       "      <td>loss</td>\n",
       "      <td>41.4</td>\n",
       "    </tr>\n",
       "    <tr>\n",
       "      <th>1</th>\n",
       "      <td>1824</td>\n",
       "      <td>John Quincy Adams</td>\n",
       "      <td>Democratic-Republican</td>\n",
       "      <td>113142</td>\n",
       "      <td>win</td>\n",
       "      <td>31.0</td>\n",
       "    </tr>\n",
       "    <tr>\n",
       "      <th>2</th>\n",
       "      <td>1828</td>\n",
       "      <td>Andrew Jackson</td>\n",
       "      <td>Democratic</td>\n",
       "      <td>642806</td>\n",
       "      <td>win</td>\n",
       "      <td>56.2</td>\n",
       "    </tr>\n",
       "    <tr>\n",
       "      <th>3</th>\n",
       "      <td>2016</td>\n",
       "      <td>Donald Trump</td>\n",
       "      <td>Republican</td>\n",
       "      <td>62984828</td>\n",
       "      <td>win</td>\n",
       "      <td>46.1</td>\n",
       "    </tr>\n",
       "    <tr>\n",
       "      <th>4</th>\n",
       "      <td>2016</td>\n",
       "      <td>Hillary Clinton</td>\n",
       "      <td>Democratic</td>\n",
       "      <td>65853514</td>\n",
       "      <td>loss</td>\n",
       "      <td>48.2</td>\n",
       "    </tr>\n",
       "  </tbody>\n",
       "</table>\n",
       "</div>"
      ],
      "text/plain": [
       "   Year          Candidate                  Party  Popular vote Result  Percentage\n",
       "0  1824     Andrew Jackson  Democratic-Republican        151271   loss        41.4\n",
       "1  1824  John Quincy Adams  Democratic-Republican        113142    win        31.0\n",
       "2  1828     Andrew Jackson             Democratic        642806    win        56.2\n",
       "3  2016       Donald Trump             Republican      62984828    win        46.1\n",
       "4  2016    Hillary Clinton             Democratic      65853514   loss        48.2"
      ]
     },
     "execution_count": 22,
     "metadata": {},
     "output_type": "execute_result"
    }
   ],
   "source": [
    "# From CSV (we prepared a sample at: /mnt/data/elections.csv)\n",
    "elections = pd.read_csv(\"elections.csv\")\n",
    "elections.head(5)"
   ]
  },
  {
   "cell_type": "markdown",
   "id": "1853997c",
   "metadata": {},
   "source": [
    "<a id='ex2'></a>\n",
    "### Exercise — Create & filter from CSV\n",
    "\n",
    "Read the file `elections.csv` from `/mnt/data/elections.csv` and perform:\n",
    "1. Keep only rows where `Result == \"win\"` and `Year >= 2000`.\n",
    "2. Show the subset with columns `[\"Year\",\"Candidate\",\"Party\"]` sorted by `Year` ascending.\n",
    "3. Compute the number of wins per `Party` using `value_counts()` or `groupby().size()`.\n"
   ]
  },
  {
   "cell_type": "code",
   "execution_count": 47,
   "id": "5335c196",
   "metadata": {},
   "outputs": [
    {
     "data": {
      "text/plain": [
       "(Party\n",
       " Democratic               4\n",
       " Democratic-Republican    2\n",
       " Republican               2\n",
       " Name: count, dtype: int64,\n",
       " Party\n",
       " Democratic               4\n",
       " Democratic-Republican    2\n",
       " Republican               2\n",
       " dtype: int64)"
      ]
     },
     "execution_count": 47,
     "metadata": {},
     "output_type": "execute_result"
    }
   ],
   "source": [
    "# Type your answer here\n",
    "elections[(elections['Result'] == \"win\") & (elections['Year'] >= 2000)]\n",
    "st = elections[[\"Year\",\"Candidate\",\"Party\"]].sort_values(by='Year', ascending=True)\n",
    "st[\"Party\"].value_counts(), st.groupby(\"Party\").size()"
   ]
  },
  {
   "cell_type": "markdown",
   "id": "b12f7f01",
   "metadata": {},
   "source": [
    "<details>\n",
    "<summary><strong>▶ Show solution (click)</strong></summary>\n",
    "\n",
    "**Solution code:**\n",
    "```python\n",
    "e = pd.read_csv(\"/mnt/data/elections.csv\")\n",
    "w = e[(e[\"Result\"] == \"win\") & (e[\"Year\"] >= 2000)]\n",
    "subset = w[[\"Year\",\"Candidate\",\"Party\"]].sort_values(\"Year\")\n",
    "wins_by_party = w[\"Party\"].value_counts()\n",
    "display(subset)\n",
    "display(wins_by_party)\n",
    "```\n",
    "\n",
    "**Explanation:**\n",
    "We filter with a boolean mask combining conditions using `&`.\n",
    "Selecting columns keeps the view focused. Sorting clarifies chronology.\n",
    "`value_counts()` quickly yields party win frequencies; `groupby(\"Party\").size()` is equivalent.\n",
    "</details>\n"
   ]
  },
  {
   "cell_type": "markdown",
   "id": "66675ddb",
   "metadata": {},
   "source": [
    "## 3) Selection — `.loc`, `.iloc`, and `[]`\n",
    "\n",
    "- Use `.loc[row_labels, col_labels]` for **label-based** selection (inclusive slices).\n",
    "- Use `.iloc[row_positions, col_positions]` for **position-based** selection (exclusive slices).\n",
    "- Use `[]` for quick **column** selection, e.g., `df[\"col\"]` (returns a Series).\n"
   ]
  },
  {
   "cell_type": "code",
   "execution_count": 48,
   "id": "8721de47",
   "metadata": {},
   "outputs": [
    {
     "data": {
      "text/html": [
       "<div>\n",
       "<style scoped>\n",
       "    .dataframe tbody tr th:only-of-type {\n",
       "        vertical-align: middle;\n",
       "    }\n",
       "\n",
       "    .dataframe tbody tr th {\n",
       "        vertical-align: top;\n",
       "    }\n",
       "\n",
       "    .dataframe thead th {\n",
       "        text-align: right;\n",
       "    }\n",
       "</style>\n",
       "<table border=\"1\" class=\"dataframe\">\n",
       "  <thead>\n",
       "    <tr style=\"text-align: right;\">\n",
       "      <th></th>\n",
       "      <th>Math</th>\n",
       "      <th>Sci</th>\n",
       "      <th>Team</th>\n",
       "    </tr>\n",
       "    <tr>\n",
       "      <th>Name</th>\n",
       "      <th></th>\n",
       "      <th></th>\n",
       "      <th></th>\n",
       "    </tr>\n",
       "  </thead>\n",
       "  <tbody>\n",
       "    <tr>\n",
       "      <th>Alice</th>\n",
       "      <td>85</td>\n",
       "      <td>88</td>\n",
       "      <td>A</td>\n",
       "    </tr>\n",
       "    <tr>\n",
       "      <th>Bob</th>\n",
       "      <td>92</td>\n",
       "      <td>95</td>\n",
       "      <td>B</td>\n",
       "    </tr>\n",
       "    <tr>\n",
       "      <th>Charlie</th>\n",
       "      <td>78</td>\n",
       "      <td>82</td>\n",
       "      <td>A</td>\n",
       "    </tr>\n",
       "    <tr>\n",
       "      <th>Diana</th>\n",
       "      <td>96</td>\n",
       "      <td>91</td>\n",
       "      <td>B</td>\n",
       "    </tr>\n",
       "  </tbody>\n",
       "</table>\n",
       "</div>"
      ],
      "text/plain": [
       "         Math  Sci Team\n",
       "Name                   \n",
       "Alice      85   88    A\n",
       "Bob        92   95    B\n",
       "Charlie    78   82    A\n",
       "Diana      96   91    B"
      ]
     },
     "execution_count": 48,
     "metadata": {},
     "output_type": "execute_result"
    }
   ],
   "source": [
    "grades = pd.DataFrame({\n",
    "    \"Name\": [\"Alice\",\"Bob\",\"Charlie\",\"Diana\"],\n",
    "    \"Math\": [85, 92, 78, 96],\n",
    "    \"Sci\" : [88, 95, 82, 91],\n",
    "    \"Team\": [\"A\",\"B\",\"A\",\"B\"]\n",
    "}).set_index(\"Name\")\n",
    "grades"
   ]
  },
  {
   "cell_type": "code",
   "execution_count": 49,
   "id": "08c5137c",
   "metadata": {},
   "outputs": [
    {
     "data": {
      "text/html": [
       "<div>\n",
       "<style scoped>\n",
       "    .dataframe tbody tr th:only-of-type {\n",
       "        vertical-align: middle;\n",
       "    }\n",
       "\n",
       "    .dataframe tbody tr th {\n",
       "        vertical-align: top;\n",
       "    }\n",
       "\n",
       "    .dataframe thead th {\n",
       "        text-align: right;\n",
       "    }\n",
       "</style>\n",
       "<table border=\"1\" class=\"dataframe\">\n",
       "  <thead>\n",
       "    <tr style=\"text-align: right;\">\n",
       "      <th></th>\n",
       "      <th>Math</th>\n",
       "      <th>Sci</th>\n",
       "    </tr>\n",
       "    <tr>\n",
       "      <th>Name</th>\n",
       "      <th></th>\n",
       "      <th></th>\n",
       "    </tr>\n",
       "  </thead>\n",
       "  <tbody>\n",
       "    <tr>\n",
       "      <th>Alice</th>\n",
       "      <td>85</td>\n",
       "      <td>88</td>\n",
       "    </tr>\n",
       "    <tr>\n",
       "      <th>Bob</th>\n",
       "      <td>92</td>\n",
       "      <td>95</td>\n",
       "    </tr>\n",
       "    <tr>\n",
       "      <th>Charlie</th>\n",
       "      <td>78</td>\n",
       "      <td>82</td>\n",
       "    </tr>\n",
       "  </tbody>\n",
       "</table>\n",
       "</div>"
      ],
      "text/plain": [
       "         Math  Sci\n",
       "Name              \n",
       "Alice      85   88\n",
       "Bob        92   95\n",
       "Charlie    78   82"
      ]
     },
     "execution_count": 49,
     "metadata": {},
     "output_type": "execute_result"
    }
   ],
   "source": [
    "# Label-based: inclusive slice on index\n",
    "grades.loc[\"Alice\":\"Charlie\", [\"Math\",\"Sci\"]]"
   ]
  },
  {
   "cell_type": "code",
   "execution_count": 50,
   "id": "a89dc632",
   "metadata": {},
   "outputs": [
    {
     "data": {
      "text/html": [
       "<div>\n",
       "<style scoped>\n",
       "    .dataframe tbody tr th:only-of-type {\n",
       "        vertical-align: middle;\n",
       "    }\n",
       "\n",
       "    .dataframe tbody tr th {\n",
       "        vertical-align: top;\n",
       "    }\n",
       "\n",
       "    .dataframe thead th {\n",
       "        text-align: right;\n",
       "    }\n",
       "</style>\n",
       "<table border=\"1\" class=\"dataframe\">\n",
       "  <thead>\n",
       "    <tr style=\"text-align: right;\">\n",
       "      <th></th>\n",
       "      <th>Math</th>\n",
       "      <th>Sci</th>\n",
       "    </tr>\n",
       "    <tr>\n",
       "      <th>Name</th>\n",
       "      <th></th>\n",
       "      <th></th>\n",
       "    </tr>\n",
       "  </thead>\n",
       "  <tbody>\n",
       "    <tr>\n",
       "      <th>Alice</th>\n",
       "      <td>85</td>\n",
       "      <td>88</td>\n",
       "    </tr>\n",
       "    <tr>\n",
       "      <th>Bob</th>\n",
       "      <td>92</td>\n",
       "      <td>95</td>\n",
       "    </tr>\n",
       "  </tbody>\n",
       "</table>\n",
       "</div>"
      ],
      "text/plain": [
       "       Math  Sci\n",
       "Name            \n",
       "Alice    85   88\n",
       "Bob      92   95"
      ]
     },
     "execution_count": 50,
     "metadata": {},
     "output_type": "execute_result"
    }
   ],
   "source": [
    "# Position-based: exclusive stop (rows 0..1, cols 0..1)\n",
    "grades.iloc[0:2, 0:2]"
   ]
  },
  {
   "cell_type": "code",
   "execution_count": 51,
   "id": "f39be0db",
   "metadata": {},
   "outputs": [
    {
     "data": {
      "text/html": [
       "<div>\n",
       "<style scoped>\n",
       "    .dataframe tbody tr th:only-of-type {\n",
       "        vertical-align: middle;\n",
       "    }\n",
       "\n",
       "    .dataframe tbody tr th {\n",
       "        vertical-align: top;\n",
       "    }\n",
       "\n",
       "    .dataframe thead th {\n",
       "        text-align: right;\n",
       "    }\n",
       "</style>\n",
       "<table border=\"1\" class=\"dataframe\">\n",
       "  <thead>\n",
       "    <tr style=\"text-align: right;\">\n",
       "      <th></th>\n",
       "      <th>Math</th>\n",
       "      <th>Sci</th>\n",
       "    </tr>\n",
       "    <tr>\n",
       "      <th>Name</th>\n",
       "      <th></th>\n",
       "      <th></th>\n",
       "    </tr>\n",
       "  </thead>\n",
       "  <tbody>\n",
       "    <tr>\n",
       "      <th>Alice</th>\n",
       "      <td>85</td>\n",
       "      <td>88</td>\n",
       "    </tr>\n",
       "    <tr>\n",
       "      <th>Bob</th>\n",
       "      <td>92</td>\n",
       "      <td>95</td>\n",
       "    </tr>\n",
       "  </tbody>\n",
       "</table>\n",
       "</div>"
      ],
      "text/plain": [
       "       Math  Sci\n",
       "Name            \n",
       "Alice    85   88\n",
       "Bob      92   95"
      ]
     },
     "execution_count": 51,
     "metadata": {},
     "output_type": "execute_result"
    }
   ],
   "source": [
    "# Quick column take\n",
    "grades[[\"Math\",\"Sci\"]].head(2)"
   ]
  },
  {
   "cell_type": "markdown",
   "id": "8ec47c21",
   "metadata": {},
   "source": [
    "<a id='ex3'></a>\n",
    "### Exercise — Label vs Position Selection\n",
    "\n",
    "Using the `grades` DataFrame with `Name` as the index:\n",
    "1. Select `Bob` and `Diana` rows, columns `[\"Math\",\"Team\"]` (label-based).\n",
    "2. Select the last 2 rows and the first 2 columns (position-based).\n",
    "3. Return the subtable where `Sci >= 90` and show only `[\"Sci\",\"Team\"]`.\n"
   ]
  },
  {
   "cell_type": "code",
   "execution_count": 68,
   "id": "c8946b80",
   "metadata": {},
   "outputs": [
    {
     "data": {
      "text/html": [
       "<div>\n",
       "<style scoped>\n",
       "    .dataframe tbody tr th:only-of-type {\n",
       "        vertical-align: middle;\n",
       "    }\n",
       "\n",
       "    .dataframe tbody tr th {\n",
       "        vertical-align: top;\n",
       "    }\n",
       "\n",
       "    .dataframe thead th {\n",
       "        text-align: right;\n",
       "    }\n",
       "</style>\n",
       "<table border=\"1\" class=\"dataframe\">\n",
       "  <thead>\n",
       "    <tr style=\"text-align: right;\">\n",
       "      <th></th>\n",
       "      <th>Sci</th>\n",
       "      <th>Team</th>\n",
       "    </tr>\n",
       "    <tr>\n",
       "      <th>Name</th>\n",
       "      <th></th>\n",
       "      <th></th>\n",
       "    </tr>\n",
       "  </thead>\n",
       "  <tbody>\n",
       "    <tr>\n",
       "      <th>Bob</th>\n",
       "      <td>95</td>\n",
       "      <td>B</td>\n",
       "    </tr>\n",
       "    <tr>\n",
       "      <th>Diana</th>\n",
       "      <td>91</td>\n",
       "      <td>B</td>\n",
       "    </tr>\n",
       "  </tbody>\n",
       "</table>\n",
       "</div>"
      ],
      "text/plain": [
       "       Sci Team\n",
       "Name           \n",
       "Bob     95    B\n",
       "Diana   91    B"
      ]
     },
     "execution_count": 68,
     "metadata": {},
     "output_type": "execute_result"
    }
   ],
   "source": [
    "# Type your answer here\n",
    "grades.loc[['Bob','Diana'], [\"Math\",\"Team\"]]\n",
    "grades.iloc[-2:], grades.iloc[:2]\n",
    "grades.loc[grades['Sci']>=90, ['Sci','Team']]"
   ]
  },
  {
   "cell_type": "markdown",
   "id": "e283ef04",
   "metadata": {},
   "source": [
    "<details>\n",
    "<summary><strong>▶ Show solution (click)</strong></summary>\n",
    "\n",
    "**Solution code:**\n",
    "```python\n",
    "# 1) label-based\n",
    "part1 = grades.loc[[\"Bob\",\"Diana\"], [\"Math\",\"Team\"]]\n",
    "# 2) position-based\n",
    "part2 = grades.iloc[-2:, :2]\n",
    "# 3) conditional filter\n",
    "part3 = grades.loc[grades[\"Sci\"] >= 90, [\"Sci\",\"Team\"]]\n",
    "display(part1); display(part2); display(part3)\n",
    "```\n",
    "\n",
    "**Explanation:**\n",
    "`.loc` uses index labels and is inclusive for slices; `.iloc` uses integer positions and exclusive slicing.\n",
    "Boolean masks (`grades[\"Sci\"] >= 90`) filter rows by value conditions; column subsetting focuses the output.\n",
    "</details>\n"
   ]
  },
  {
   "cell_type": "markdown",
   "id": "e3bb53ee",
   "metadata": {},
   "source": [
    "## 4) Boolean Filtering & Across-Columns Tests\n",
    "\n",
    "- Build masks with comparisons, combine via `&`, `|`, `~` (use parentheses).\n",
    "- Use `df.isna().any(axis=1)` / `all(axis=1)` to test across columns per row.\n",
    "- `Series.isin([...])` supports set membership.\n"
   ]
  },
  {
   "cell_type": "code",
   "execution_count": 70,
   "id": "5b9cb1ce",
   "metadata": {},
   "outputs": [
    {
     "data": {
      "text/html": [
       "<div>\n",
       "<style scoped>\n",
       "    .dataframe tbody tr th:only-of-type {\n",
       "        vertical-align: middle;\n",
       "    }\n",
       "\n",
       "    .dataframe tbody tr th {\n",
       "        vertical-align: top;\n",
       "    }\n",
       "\n",
       "    .dataframe thead th {\n",
       "        text-align: right;\n",
       "    }\n",
       "</style>\n",
       "<table border=\"1\" class=\"dataframe\">\n",
       "  <thead>\n",
       "    <tr style=\"text-align: right;\">\n",
       "      <th></th>\n",
       "      <th>name</th>\n",
       "      <th>age</th>\n",
       "      <th>score</th>\n",
       "    </tr>\n",
       "  </thead>\n",
       "  <tbody>\n",
       "    <tr>\n",
       "      <th>0</th>\n",
       "      <td>Ann</td>\n",
       "      <td>25.0</td>\n",
       "      <td>88.0</td>\n",
       "    </tr>\n",
       "    <tr>\n",
       "      <th>1</th>\n",
       "      <td>Ben</td>\n",
       "      <td>19.0</td>\n",
       "      <td>77.0</td>\n",
       "    </tr>\n",
       "    <tr>\n",
       "      <th>2</th>\n",
       "      <td>Cat</td>\n",
       "      <td>31.0</td>\n",
       "      <td>93.0</td>\n",
       "    </tr>\n",
       "    <tr>\n",
       "      <th>3</th>\n",
       "      <td>Dan</td>\n",
       "      <td>NaN</td>\n",
       "      <td>85.0</td>\n",
       "    </tr>\n",
       "    <tr>\n",
       "      <th>4</th>\n",
       "      <td>Eve</td>\n",
       "      <td>28.0</td>\n",
       "      <td>NaN</td>\n",
       "    </tr>\n",
       "  </tbody>\n",
       "</table>\n",
       "</div>"
      ],
      "text/plain": [
       "  name   age  score\n",
       "0  Ann  25.0   88.0\n",
       "1  Ben  19.0   77.0\n",
       "2  Cat  31.0   93.0\n",
       "3  Dan   NaN   85.0\n",
       "4  Eve  28.0    NaN"
      ]
     },
     "execution_count": 70,
     "metadata": {},
     "output_type": "execute_result"
    }
   ],
   "source": [
    "people = pd.DataFrame({\n",
    "    \"name\": [\"Ann\",\"Ben\",\"Cat\",\"Dan\",\"Eve\"],\n",
    "    \"age\": [25, 19, 31, np.nan, 28],\n",
    "    \"score\": [88, 77, 93, 85, np.nan]\n",
    "})\n",
    "people"
   ]
  },
  {
   "cell_type": "code",
   "execution_count": 71,
   "id": "756d34da",
   "metadata": {},
   "outputs": [
    {
     "data": {
      "text/plain": [
       "(  name   age  score\n",
       " 0  Ann  25.0   88.0\n",
       " 2  Cat  31.0   93.0,\n",
       " 0    False\n",
       " 1    False\n",
       " 2    False\n",
       " 3     True\n",
       " 4     True\n",
       " dtype: bool)"
      ]
     },
     "execution_count": 71,
     "metadata": {},
     "output_type": "execute_result"
    }
   ],
   "source": [
    "mask = (people[\"age\"] >= 21) & (people[\"score\"] >= 85)\n",
    "adults_good = people.loc[mask, [\"name\",\"age\",\"score\"]]\n",
    "has_missing = people.isna().any(axis=1)\n",
    "adults_good, has_missing"
   ]
  },
  {
   "cell_type": "markdown",
   "id": "d3846ff9",
   "metadata": {},
   "source": [
    "<a id='ex4'></a>\n",
    "### Exercise — Boolean masks & missing tests\n",
    "\n",
    "With the `people` DataFrame above:\n",
    "1. Keep rows where `age >= 21` **or** `score >= 90`, show `[\"name\",\"age\",\"score\"]`.\n",
    "2. Add a new boolean column `good = (score >= 85)` (treat missing as `False`).\n",
    "3. Select rows where **any** column is missing. Then compute the per-column missing counts.\n"
   ]
  },
  {
   "cell_type": "code",
   "execution_count": 90,
   "id": "88cbff58",
   "metadata": {},
   "outputs": [
    {
     "data": {
      "text/plain": [
       "name     0\n",
       "age      1\n",
       "score    1\n",
       "good     0\n",
       "dtype: int64"
      ]
     },
     "execution_count": 90,
     "metadata": {},
     "output_type": "execute_result"
    }
   ],
   "source": [
    "# Type your answer here\n",
    "people.loc[(people['age']>=21) | (people['score']>=90), [\"name\",\"age\",\"score\"]]\n",
    "people['good'] = people['score'].fillna(-np.inf)>=85\n",
    "people.loc[people.isna().any(axis=1)]\n",
    "people.isna().sum(axis=0)"
   ]
  },
  {
   "cell_type": "markdown",
   "id": "8b26ec46",
   "metadata": {},
   "source": [
    "<details>\n",
    "<summary><strong>▶ Show solution (click)</strong></summary>\n",
    "\n",
    "**Solution code:**\n",
    "```python\n",
    "p = people.copy()\n",
    "part1 = p.loc[(p[\"age\"] >= 21) | (p[\"score\"] >= 90), [\"name\",\"age\",\"score\"]]\n",
    "p[\"good\"] = (p[\"score\"].fillna(-np.inf) >= 85)\n",
    "missing_rows = p[p.isna().any(axis=1)]\n",
    "missing_counts = p.isna().sum()\n",
    "display(part1); display(p); display(missing_rows); display(missing_counts)\n",
    "```\n",
    "\n",
    "**Explanation:**\n",
    "Use `|` for logical OR, `&` for AND, and wrap each side in parentheses.\n",
    "For the `good` column, we filled missing scores with `-inf` to avoid truthy comparison.\n",
    "Row-level missing detection uses `isna().any(axis=1)`; column totals use `isna().sum()`.\n",
    "</details>\n"
   ]
  },
  {
   "cell_type": "markdown",
   "id": "99b3907f",
   "metadata": {},
   "source": [
    "## 5) Missing Values — `fillna`, `ffill/bfill`, `interpolate`\n",
    "\n",
    "- `np.nan` is the NumPy floating NaN; `pd.NA` is pandas' missing sentinel for *nullable* dtypes (`Int64`, `boolean`, `string`).\n",
    "- Interpolation requires ordered index (`method=\"time\"` expects a `DatetimeIndex`).\n",
    "- Choose fills deliberately; document assumptions.\n"
   ]
  },
  {
   "cell_type": "code",
   "execution_count": 91,
   "id": "b6195c3a",
   "metadata": {},
   "outputs": [
    {
     "data": {
      "text/plain": [
       "0    1.0\n",
       "1    NaN\n",
       "2    NaN\n",
       "3    4.0\n",
       "4    NaN\n",
       "Name: s, dtype: float64"
      ]
     },
     "metadata": {},
     "output_type": "display_data"
    },
    {
     "data": {
      "text/plain": [
       "2024-01-01    1.0\n",
       "2024-01-02    NaN\n",
       "2024-01-03    4.0\n",
       "2024-01-04    NaN\n",
       "2024-01-05    9.0\n",
       "Freq: D, Name: t, dtype: float64"
      ]
     },
     "metadata": {},
     "output_type": "display_data"
    }
   ],
   "source": [
    "s = pd.Series([1.0, np.nan, np.nan, 4.0, np.nan], name=\"s\")\n",
    "t_idx = pd.date_range(\"2024-01-01\", periods=5, freq=\"D\")\n",
    "t = pd.Series([1.0, np.nan, 4.0, np.nan, 9.0], index=t_idx, name=\"t\")\n",
    "display(s)\n",
    "display(t.head())"
   ]
  },
  {
   "cell_type": "code",
   "execution_count": 92,
   "id": "12e5c7a8",
   "metadata": {},
   "outputs": [
    {
     "data": {
      "text/plain": [
       "0    1.0\n",
       "1    0.0\n",
       "2    0.0\n",
       "3    4.0\n",
       "4    0.0\n",
       "Name: s, dtype: float64"
      ]
     },
     "metadata": {},
     "output_type": "display_data"
    },
    {
     "data": {
      "text/plain": [
       "0    1.0\n",
       "1    1.0\n",
       "2    1.0\n",
       "3    4.0\n",
       "4    4.0\n",
       "Name: s, dtype: float64"
      ]
     },
     "metadata": {},
     "output_type": "display_data"
    },
    {
     "data": {
      "text/plain": [
       "0    1.0\n",
       "1    NaN\n",
       "2    4.0\n",
       "3    4.0\n",
       "4    NaN\n",
       "Name: s, dtype: float64"
      ]
     },
     "metadata": {},
     "output_type": "display_data"
    },
    {
     "data": {
      "text/plain": [
       "2024-01-01    1.0\n",
       "2024-01-02    2.5\n",
       "2024-01-03    4.0\n",
       "2024-01-04    6.5\n",
       "2024-01-05    9.0\n",
       "Freq: D, Name: t, dtype: float64"
      ]
     },
     "metadata": {},
     "output_type": "display_data"
    }
   ],
   "source": [
    "display(s.fillna(0))\n",
    "display(s.ffill())\n",
    "display(s.bfill(limit=1))\n",
    "display(t.interpolate(method=\"time\"))"
   ]
  },
  {
   "cell_type": "markdown",
   "id": "52662d13",
   "metadata": {},
   "source": [
    "<a id='ex5'></a>\n",
    "### Exercise — Fill strategies & residual NaNs\n",
    "\n",
    "Create a DataFrame:\n",
    "```\n",
    "df = pd.DataFrame({\n",
    "    \"a\": [1, np.nan, 3, np.nan],\n",
    "    \"b\": [np.nan, 2.5, np.nan, 5.0],\n",
    "})\n",
    "```\n",
    "Tasks:\n",
    "1. Count missings per column and overall.\n",
    "2. Fill `a` with its **median** and `b` with **forward-fill**.\n",
    "3. Create `c = a + b` and explain any `NaN` that remains.\n"
   ]
  },
  {
   "cell_type": "code",
   "execution_count": 102,
   "id": "61cd6c75",
   "metadata": {},
   "outputs": [
    {
     "data": {
      "text/html": [
       "<div>\n",
       "<style scoped>\n",
       "    .dataframe tbody tr th:only-of-type {\n",
       "        vertical-align: middle;\n",
       "    }\n",
       "\n",
       "    .dataframe tbody tr th {\n",
       "        vertical-align: top;\n",
       "    }\n",
       "\n",
       "    .dataframe thead th {\n",
       "        text-align: right;\n",
       "    }\n",
       "</style>\n",
       "<table border=\"1\" class=\"dataframe\">\n",
       "  <thead>\n",
       "    <tr style=\"text-align: right;\">\n",
       "      <th></th>\n",
       "      <th>a</th>\n",
       "      <th>b</th>\n",
       "      <th>c</th>\n",
       "    </tr>\n",
       "  </thead>\n",
       "  <tbody>\n",
       "    <tr>\n",
       "      <th>0</th>\n",
       "      <td>1.0</td>\n",
       "      <td>NaN</td>\n",
       "      <td>NaN</td>\n",
       "    </tr>\n",
       "    <tr>\n",
       "      <th>1</th>\n",
       "      <td>2.0</td>\n",
       "      <td>2.5</td>\n",
       "      <td>4.5</td>\n",
       "    </tr>\n",
       "    <tr>\n",
       "      <th>2</th>\n",
       "      <td>3.0</td>\n",
       "      <td>2.5</td>\n",
       "      <td>5.5</td>\n",
       "    </tr>\n",
       "    <tr>\n",
       "      <th>3</th>\n",
       "      <td>2.0</td>\n",
       "      <td>5.0</td>\n",
       "      <td>7.0</td>\n",
       "    </tr>\n",
       "  </tbody>\n",
       "</table>\n",
       "</div>"
      ],
      "text/plain": [
       "     a    b    c\n",
       "0  1.0  NaN  NaN\n",
       "1  2.0  2.5  4.5\n",
       "2  3.0  2.5  5.5\n",
       "3  2.0  5.0  7.0"
      ]
     },
     "execution_count": 102,
     "metadata": {},
     "output_type": "execute_result"
    }
   ],
   "source": [
    "# Type your answer here\n",
    "df = pd.DataFrame({\n",
    "    \"a\": [1, np.nan, 3, np.nan],\n",
    "    \"b\": [np.nan, 2.5, np.nan, 5.0],\n",
    "})\n",
    "df.isna().sum()\n",
    "df['a'] = df['a'].fillna(df['a'].median())\n",
    "df['b'] = df['b'].ffill()\n",
    "df['c'] = df['a'] + df['b']\n",
    "df"
   ]
  },
  {
   "cell_type": "markdown",
   "id": "d60bc45b",
   "metadata": {},
   "source": [
    "<details>\n",
    "<summary><strong>▶ Show solution (click)</strong></summary>\n",
    "\n",
    "**Solution code:**\n",
    "```python\n",
    "df = pd.DataFrame({\n",
    "    \"a\": [1, np.nan, 3, np.nan],\n",
    "    \"b\": [np.nan, 2.5, np.nan, 5.0],\n",
    "})\n",
    "miss_cols = df.isna().sum()\n",
    "miss_total = int(df.isna().sum().sum())\n",
    "df2 = df.copy()\n",
    "df2[\"a\"] = df2[\"a\"].fillna(df2[\"a\"].median())\n",
    "df2[\"b\"] = df2[\"b\"].ffill()\n",
    "df2[\"c\"] = df2[\"a\"] + df2[\"b\"]\n",
    "display(miss_cols, miss_total)\n",
    "display(df2)\n",
    "```\n",
    "\n",
    "**Explanation:**\n",
    "Column `a` uses the column median for a robust fill; `b` uses forward-fill to propagate last seen values.\n",
    "Any remaining `NaN` in `c` occur where both `a` and `b` were missing at the same location (no value to compute).\n",
    "</details>\n"
   ]
  },
  {
   "cell_type": "markdown",
   "id": "eef1bb8c",
   "metadata": {},
   "source": [
    "## 6) Alignment in Arithmetic\n",
    "\n",
    "Binary operations align on **labels**. Non-overlapping labels produce `NaN` unless you use method forms with `fill_value`.\n"
   ]
  },
  {
   "cell_type": "code",
   "execution_count": 103,
   "id": "fedd1464",
   "metadata": {},
   "outputs": [
    {
     "data": {
      "text/plain": [
       "a     NaN\n",
       "b    12.0\n",
       "c     NaN\n",
       "dtype: float64"
      ]
     },
     "metadata": {},
     "output_type": "display_data"
    },
    {
     "data": {
      "text/plain": [
       "a      1.0\n",
       "b     12.0\n",
       "c    100.0\n",
       "dtype: float64"
      ]
     },
     "metadata": {},
     "output_type": "display_data"
    }
   ],
   "source": [
    "s1 = pd.Series({\"a\": 1.0, \"b\": 2.0})\n",
    "s2 = pd.Series({\"b\": 10.0, \"c\": 100.0})\n",
    "display(s1 + s2)\n",
    "display(s1.add(s2, fill_value=0))"
   ]
  },
  {
   "cell_type": "markdown",
   "id": "d6b31c89",
   "metadata": {},
   "source": [
    "<a id='ex6'></a>\n",
    "### Exercise — Alignment & fill_value\n",
    "\n",
    "Given:\n",
    "```\n",
    "x = pd.Series({\"k1\": 10.0, \"k2\": 20.0})\n",
    "y = pd.Series({\"k2\": 1.5, \"k3\": 2.0})\n",
    "```\n",
    "Tasks:\n",
    "1. Compute `x + y` and explain the `NaN`s.\n",
    "2. Recompute with `.add(..., fill_value=0)` and compare.\n",
    "3. Convert the result to integers by filling NaNs with 0 and casting to `Int64`.\n"
   ]
  },
  {
   "cell_type": "code",
   "execution_count": 112,
   "id": "a40d7024",
   "metadata": {},
   "outputs": [
    {
     "data": {
      "text/plain": [
       "k1     0\n",
       "k2    21\n",
       "k3     0\n",
       "dtype: int64"
      ]
     },
     "execution_count": 112,
     "metadata": {},
     "output_type": "execute_result"
    }
   ],
   "source": [
    "# Type your answer here\n",
    "x = pd.Series({\"k1\": 10.0, \"k2\": 20.0})\n",
    "y = pd.Series({\"k2\": 1.5, \"k3\": 2.0})\n",
    "x.add(y).fillna(0).astype(int)"
   ]
  },
  {
   "cell_type": "markdown",
   "id": "a085a273",
   "metadata": {},
   "source": [
    "<details>\n",
    "<summary><strong>▶ Show solution (click)</strong></summary>\n",
    "\n",
    "**Solution code:**\n",
    "```python\n",
    "x = pd.Series({\"k1\": 10.0, \"k2\": 20.0})\n",
    "y = pd.Series({\"k2\": 1.5, \"k3\": 2.0})\n",
    "r1 = x + y\n",
    "r2 = x.add(y, fill_value=0)\n",
    "r3 = r2.fillna(0).astype(\"Int64\")\n",
    "display(r1); display(r2); display(r3)\n",
    "```\n",
    "\n",
    "**Explanation:**\n",
    "`x + y` produces a union of keys; entries without counterparts become `NaN`.\n",
    "Method form with `fill_value=0` treats missing as zero during the operation.\n",
    "Finally, we fill any remaining `NaN` and cast to nullable integer `Int64`.\n",
    "</details>\n"
   ]
  },
  {
   "cell_type": "markdown",
   "id": "e1cc14d1",
   "metadata": {},
   "source": [
    "## 7) Sorting, Ranking, Top-k, Quantiles\n",
    "\n",
    "- `df.sort_values(by=[...])` for ordering by columns\n",
    "- `df.nlargest(k, \"col\")`/`nsmallest` for quick top/bottom by a column\n",
    "- `df.rank(method=\"dense\", ascending=False)` for ranks with ties\n",
    "- `df.quantile([0.25, 0.5, 0.75])` for quartiles\n"
   ]
  },
  {
   "cell_type": "code",
   "execution_count": 113,
   "id": "ed99c39c",
   "metadata": {},
   "outputs": [
    {
     "data": {
      "text/html": [
       "<div>\n",
       "<style scoped>\n",
       "    .dataframe tbody tr th:only-of-type {\n",
       "        vertical-align: middle;\n",
       "    }\n",
       "\n",
       "    .dataframe tbody tr th {\n",
       "        vertical-align: top;\n",
       "    }\n",
       "\n",
       "    .dataframe thead th {\n",
       "        text-align: right;\n",
       "    }\n",
       "</style>\n",
       "<table border=\"1\" class=\"dataframe\">\n",
       "  <thead>\n",
       "    <tr style=\"text-align: right;\">\n",
       "      <th></th>\n",
       "      <th>Name</th>\n",
       "      <th>Math</th>\n",
       "      <th>Sci</th>\n",
       "      <th>Total</th>\n",
       "    </tr>\n",
       "  </thead>\n",
       "  <tbody>\n",
       "    <tr>\n",
       "      <th>0</th>\n",
       "      <td>Ann</td>\n",
       "      <td>81</td>\n",
       "      <td>79</td>\n",
       "      <td>160</td>\n",
       "    </tr>\n",
       "    <tr>\n",
       "      <th>1</th>\n",
       "      <td>Ben</td>\n",
       "      <td>95</td>\n",
       "      <td>92</td>\n",
       "      <td>187</td>\n",
       "    </tr>\n",
       "    <tr>\n",
       "      <th>2</th>\n",
       "      <td>Cat</td>\n",
       "      <td>95</td>\n",
       "      <td>91</td>\n",
       "      <td>186</td>\n",
       "    </tr>\n",
       "    <tr>\n",
       "      <th>3</th>\n",
       "      <td>Dan</td>\n",
       "      <td>77</td>\n",
       "      <td>85</td>\n",
       "      <td>162</td>\n",
       "    </tr>\n",
       "    <tr>\n",
       "      <th>4</th>\n",
       "      <td>Eve</td>\n",
       "      <td>89</td>\n",
       "      <td>83</td>\n",
       "      <td>172</td>\n",
       "    </tr>\n",
       "  </tbody>\n",
       "</table>\n",
       "</div>"
      ],
      "text/plain": [
       "  Name  Math  Sci  Total\n",
       "0  Ann    81   79    160\n",
       "1  Ben    95   92    187\n",
       "2  Cat    95   91    186\n",
       "3  Dan    77   85    162\n",
       "4  Eve    89   83    172"
      ]
     },
     "execution_count": 113,
     "metadata": {},
     "output_type": "execute_result"
    }
   ],
   "source": [
    "scores = pd.DataFrame({\n",
    "    \"Name\": [\"Ann\",\"Ben\",\"Cat\",\"Dan\",\"Eve\"],\n",
    "    \"Math\": [81, 95, 95, 77, 89],\n",
    "    \"Sci\":  [79, 92, 91, 85, 83],\n",
    "})\n",
    "scores[\"Total\"] = scores[\"Math\"] + scores[\"Sci\"]\n",
    "scores"
   ]
  },
  {
   "cell_type": "code",
   "execution_count": 114,
   "id": "1a58e614",
   "metadata": {},
   "outputs": [
    {
     "data": {
      "text/html": [
       "<div>\n",
       "<style scoped>\n",
       "    .dataframe tbody tr th:only-of-type {\n",
       "        vertical-align: middle;\n",
       "    }\n",
       "\n",
       "    .dataframe tbody tr th {\n",
       "        vertical-align: top;\n",
       "    }\n",
       "\n",
       "    .dataframe thead th {\n",
       "        text-align: right;\n",
       "    }\n",
       "</style>\n",
       "<table border=\"1\" class=\"dataframe\">\n",
       "  <thead>\n",
       "    <tr style=\"text-align: right;\">\n",
       "      <th></th>\n",
       "      <th>Name</th>\n",
       "      <th>Math</th>\n",
       "      <th>Sci</th>\n",
       "      <th>Total</th>\n",
       "    </tr>\n",
       "  </thead>\n",
       "  <tbody>\n",
       "    <tr>\n",
       "      <th>1</th>\n",
       "      <td>Ben</td>\n",
       "      <td>95</td>\n",
       "      <td>92</td>\n",
       "      <td>187</td>\n",
       "    </tr>\n",
       "    <tr>\n",
       "      <th>2</th>\n",
       "      <td>Cat</td>\n",
       "      <td>95</td>\n",
       "      <td>91</td>\n",
       "      <td>186</td>\n",
       "    </tr>\n",
       "    <tr>\n",
       "      <th>4</th>\n",
       "      <td>Eve</td>\n",
       "      <td>89</td>\n",
       "      <td>83</td>\n",
       "      <td>172</td>\n",
       "    </tr>\n",
       "  </tbody>\n",
       "</table>\n",
       "</div>"
      ],
      "text/plain": [
       "  Name  Math  Sci  Total\n",
       "1  Ben    95   92    187\n",
       "2  Cat    95   91    186\n",
       "4  Eve    89   83    172"
      ]
     },
     "execution_count": 114,
     "metadata": {},
     "output_type": "execute_result"
    }
   ],
   "source": [
    "scores.sort_values(by=[\"Total\",\"Math\"], ascending=[False, False]).head(3)  # tie-breaker by Math"
   ]
  },
  {
   "cell_type": "markdown",
   "id": "4c0a0d42",
   "metadata": {},
   "source": [
    "<a id='ex7'></a>\n",
    "### Exercise — Top-k & ranks\n",
    "\n",
    "Using `scores` (with a `Total` column):\n",
    "1. Get the **top-3** rows by `Total`. If ties occur, break them by `Math` descending.\n",
    "2. Add a column `Rank = dense rank of Total (descending)`.\n",
    "3. Compute the quartiles (25%, 50%, 75%) of `Total`.\n"
   ]
  },
  {
   "cell_type": "code",
   "execution_count": 122,
   "id": "119d0e8f",
   "metadata": {},
   "outputs": [
    {
     "data": {
      "text/plain": [
       "0.25    162.0\n",
       "0.50    172.0\n",
       "0.75    186.0\n",
       "Name: Total, dtype: float64"
      ]
     },
     "execution_count": 122,
     "metadata": {},
     "output_type": "execute_result"
    }
   ],
   "source": [
    "# Type your answer here\n",
    "scores.sort_values(by=['Total','Math'], ascending=[False, False]).head(3)\n",
    "scores['rank'] = scores['Total'].rank(method='dense', ascending=False)\n",
    "scores['Total'].quantile([0.25,0.5,0.75])"
   ]
  },
  {
   "cell_type": "markdown",
   "id": "fbef3ddb",
   "metadata": {},
   "source": [
    "<details>\n",
    "<summary><strong>▶ Show solution (click)</strong></summary>\n",
    "\n",
    "**Solution code:**\n",
    "```python\n",
    "top3 = scores.sort_values(by=[\"Total\",\"Math\"], ascending=[False, False]).head(3)\n",
    "scores[\"Rank\"] = scores[\"Total\"].rank(method=\"dense\", ascending=False)\n",
    "quart = scores[\"Total\"].quantile([0.25, 0.5, 0.75])\n",
    "display(top3); display(scores); display(quart)\n",
    "```\n",
    "\n",
    "**Explanation:**\n",
    "We sort by multiple keys to break ties deterministically.\n",
    "`dense` ranking gives 1,2,3,... even when values tie.\n",
    "Quantiles summarize distribution; the median is the 0.5 quantile.\n",
    "</details>\n"
   ]
  },
  {
   "cell_type": "markdown",
   "id": "0bff395f",
   "metadata": {},
   "source": [
    "## 8) Windows — Rolling, Expanding, EWM\n",
    "\n",
    "- `rolling(w, min_periods)` computes statistics over the last `w` rows\n",
    "- `expanding()` uses a growing window from the start\n",
    "- `ewm(alpha, adjust=False)` applies exponentially decaying weights\n"
   ]
  },
  {
   "cell_type": "code",
   "execution_count": 123,
   "id": "d3e62450",
   "metadata": {},
   "outputs": [
    {
     "data": {
      "text/plain": [
       "a    5.0000\n",
       "b    3.5000\n",
       "c    4.6667\n",
       "d    4.3333\n",
       "e    6.6667\n",
       "dtype: float64"
      ]
     },
     "metadata": {},
     "output_type": "display_data"
    },
    {
     "data": {
      "text/plain": [
       "a     5.0\n",
       "b     7.0\n",
       "c    14.0\n",
       "d    18.0\n",
       "e    27.0\n",
       "dtype: float64"
      ]
     },
     "metadata": {},
     "output_type": "display_data"
    },
    {
     "data": {
      "text/plain": [
       "a    5.0000\n",
       "b    3.5000\n",
       "c    5.2500\n",
       "d    4.6250\n",
       "e    6.8125\n",
       "dtype: float64"
      ]
     },
     "metadata": {},
     "output_type": "display_data"
    }
   ],
   "source": [
    "s = pd.Series([5, 2, 7, 4, 9], index=list(\"abcde\"))\n",
    "roll3 = s.rolling(3, min_periods=1).mean()\n",
    "expd  = s.expanding().sum()\n",
    "expo  = s.ewm(alpha=0.5, adjust=False).mean()\n",
    "display(roll3.round(4)); display(expd); display(expo.round(4))"
   ]
  },
  {
   "cell_type": "markdown",
   "id": "76feab0e",
   "metadata": {},
   "source": [
    "<a id='ex8'></a>\n",
    "### Exercise — Windowed stats\n",
    "\n",
    "For `s = [5,2,7,4,9]` (index a..e):\n",
    "1. Compute a 3-point rolling **mean** with `min_periods=2` and round to 4 decimals.\n",
    "2. Compute the **expanding mean**.\n",
    "3. Compute `ewm(alpha=0.3, adjust=False).mean()` and explain how `alpha` affects smoothing.\n"
   ]
  },
  {
   "cell_type": "code",
   "execution_count": 132,
   "id": "a3803ace",
   "metadata": {},
   "outputs": [
    {
     "data": {
      "text/plain": [
       "a    5.0000\n",
       "b    4.1000\n",
       "c    4.9700\n",
       "d    4.6790\n",
       "e    5.9753\n",
       "dtype: float64"
      ]
     },
     "execution_count": 132,
     "metadata": {},
     "output_type": "execute_result"
    }
   ],
   "source": [
    "# Type your answer here\n",
    "s.rolling(3, min_periods=2).mean().round(4)\n",
    "s.expanding().mean().round(4)\n",
    "s.ewm(alpha=0.3, adjust=False).mean().round(4)"
   ]
  },
  {
   "cell_type": "markdown",
   "id": "7c358850",
   "metadata": {},
   "source": [
    "<details>\n",
    "<summary><strong>▶ Show solution (click)</strong></summary>\n",
    "\n",
    "**Solution code:**\n",
    "```python\n",
    "s = pd.Series([5, 2, 7, 4, 9], index=list(\"abcde\"))\n",
    "r = s.rolling(3, min_periods=2).mean().round(4)\n",
    "e = s.expanding().mean().round(4)\n",
    "w = s.ewm(alpha=0.3, adjust=False).mean().round(4)\n",
    "display(r); display(e); display(w)\n",
    "```\n",
    "\n",
    "**Explanation:**\n",
    "`min_periods=2` requires at least 2 observations before producing a value (early entries are NaN).\n",
    "`expanding().mean()` averages from the start to each step.\n",
    "For EWM, smaller `alpha` places more weight on the past (heavier smoothing); larger `alpha` reacts more to recent values.\n",
    "</details>\n"
   ]
  },
  {
   "cell_type": "markdown",
   "id": "991ee384",
   "metadata": {},
   "source": [
    "## 9) GroupBy Basics — Sum, Count, Mean\n",
    "\n",
    "- `df.groupby(keys).agg({...})` for grouped aggregations\n",
    "- Use `transform` to broadcast per-group stats back to rows (same shape as original)\n"
   ]
  },
  {
   "cell_type": "code",
   "execution_count": 134,
   "id": "8dae5b4c",
   "metadata": {},
   "outputs": [
    {
     "data": {
      "text/html": [
       "<div>\n",
       "<style scoped>\n",
       "    .dataframe tbody tr th:only-of-type {\n",
       "        vertical-align: middle;\n",
       "    }\n",
       "\n",
       "    .dataframe tbody tr th {\n",
       "        vertical-align: top;\n",
       "    }\n",
       "\n",
       "    .dataframe thead th {\n",
       "        text-align: right;\n",
       "    }\n",
       "</style>\n",
       "<table border=\"1\" class=\"dataframe\">\n",
       "  <thead>\n",
       "    <tr style=\"text-align: right;\">\n",
       "      <th></th>\n",
       "      <th>store</th>\n",
       "      <th>day</th>\n",
       "      <th>revenue</th>\n",
       "    </tr>\n",
       "  </thead>\n",
       "  <tbody>\n",
       "    <tr>\n",
       "      <th>0</th>\n",
       "      <td>A</td>\n",
       "      <td>Mon</td>\n",
       "      <td>100</td>\n",
       "    </tr>\n",
       "    <tr>\n",
       "      <th>1</th>\n",
       "      <td>A</td>\n",
       "      <td>Tue</td>\n",
       "      <td>120</td>\n",
       "    </tr>\n",
       "    <tr>\n",
       "      <th>2</th>\n",
       "      <td>A</td>\n",
       "      <td>Wed</td>\n",
       "      <td>130</td>\n",
       "    </tr>\n",
       "    <tr>\n",
       "      <th>3</th>\n",
       "      <td>B</td>\n",
       "      <td>Mon</td>\n",
       "      <td>80</td>\n",
       "    </tr>\n",
       "    <tr>\n",
       "      <th>4</th>\n",
       "      <td>B</td>\n",
       "      <td>Tue</td>\n",
       "      <td>70</td>\n",
       "    </tr>\n",
       "    <tr>\n",
       "      <th>5</th>\n",
       "      <td>B</td>\n",
       "      <td>Wed</td>\n",
       "      <td>150</td>\n",
       "    </tr>\n",
       "  </tbody>\n",
       "</table>\n",
       "</div>"
      ],
      "text/plain": [
       "  store  day  revenue\n",
       "0     A  Mon      100\n",
       "1     A  Tue      120\n",
       "2     A  Wed      130\n",
       "3     B  Mon       80\n",
       "4     B  Tue       70\n",
       "5     B  Wed      150"
      ]
     },
     "execution_count": 134,
     "metadata": {},
     "output_type": "execute_result"
    }
   ],
   "source": [
    "sales = pd.DataFrame({\n",
    "    \"store\": [\"A\",\"A\",\"A\",\"B\",\"B\",\"B\"],\n",
    "    \"day\":   [\"Mon\",\"Tue\",\"Wed\",\"Mon\",\"Tue\",\"Wed\"],\n",
    "    \"revenue\": [100, 120, 130, 80, 70, 150]\n",
    "})\n",
    "sales"
   ]
  },
  {
   "cell_type": "code",
   "execution_count": 135,
   "id": "55d7047f",
   "metadata": {},
   "outputs": [
    {
     "data": {
      "text/plain": [
       "store\n",
       "A    350\n",
       "B    300\n",
       "Name: revenue, dtype: int64"
      ]
     },
     "metadata": {},
     "output_type": "display_data"
    },
    {
     "data": {
      "text/plain": [
       "store\n",
       "A    116.67\n",
       "B    100.00\n",
       "Name: revenue, dtype: float64"
      ]
     },
     "metadata": {},
     "output_type": "display_data"
    }
   ],
   "source": [
    "total_by_store = sales.groupby(\"store\")[\"revenue\"].sum()\n",
    "mean_by_store  = sales.groupby(\"store\")[\"revenue\"].mean().round(2)\n",
    "display(total_by_store, mean_by_store)"
   ]
  },
  {
   "cell_type": "markdown",
   "id": "dc5afc3a",
   "metadata": {},
   "source": [
    "<a id='ex9'></a>\n",
    "### Exercise — Per-store normalization & pivot\n",
    "\n",
    "With `sales` above:\n",
    "1. Create a column `rev_norm` = revenue **divided by the store's mean revenue** (hint: `transform(\"mean\")`).\n",
    "2. Get a pivot table with rows=store, columns=day, values=revenue (use `pivot`).\n",
    "3. For each store, compute the day with **max revenue** (return a Series mapping store -> day).\n"
   ]
  },
  {
   "cell_type": "code",
   "execution_count": 148,
   "id": "0997a48c",
   "metadata": {},
   "outputs": [
    {
     "data": {
      "text/plain": [
       "store\n",
       "A    Wed\n",
       "B    Wed\n",
       "Name: day, dtype: object"
      ]
     },
     "execution_count": 148,
     "metadata": {},
     "output_type": "execute_result"
    }
   ],
   "source": [
    "# Type your answer here\n",
    "s2 = sales.copy()\n",
    "s2[\"rev_norm\"] = s2[\"revenue\"] / s2.groupby(by=['store'])['revenue'].transform('mean')\n",
    "piv = s2.pivot(index='store',columns='day',values='revenue')\n",
    "argmax_day = s2.loc[s2.groupby('store')['revenue'].idxmax()].set_index(\"store\")[\"day\"]\n",
    "argmax_day"
   ]
  },
  {
   "cell_type": "code",
   "execution_count": 190,
   "id": "397270a6-dc28-4748-b1a5-4423b0fe0f2b",
   "metadata": {},
   "outputs": [
    {
     "data": {
      "text/html": [
       "<div>\n",
       "<style scoped>\n",
       "    .dataframe tbody tr th:only-of-type {\n",
       "        vertical-align: middle;\n",
       "    }\n",
       "\n",
       "    .dataframe tbody tr th {\n",
       "        vertical-align: top;\n",
       "    }\n",
       "\n",
       "    .dataframe thead th {\n",
       "        text-align: right;\n",
       "    }\n",
       "</style>\n",
       "<table border=\"1\" class=\"dataframe\">\n",
       "  <thead>\n",
       "    <tr style=\"text-align: right;\">\n",
       "      <th></th>\n",
       "      <th>store</th>\n",
       "      <th>day</th>\n",
       "      <th>revenue</th>\n",
       "      <th>rev_norm</th>\n",
       "    </tr>\n",
       "  </thead>\n",
       "  <tbody>\n",
       "    <tr>\n",
       "      <th>0</th>\n",
       "      <td>A</td>\n",
       "      <td>Mon</td>\n",
       "      <td>100</td>\n",
       "      <td>0.857143</td>\n",
       "    </tr>\n",
       "    <tr>\n",
       "      <th>1</th>\n",
       "      <td>A</td>\n",
       "      <td>Tue</td>\n",
       "      <td>120</td>\n",
       "      <td>1.028571</td>\n",
       "    </tr>\n",
       "    <tr>\n",
       "      <th>2</th>\n",
       "      <td>A</td>\n",
       "      <td>Wed</td>\n",
       "      <td>130</td>\n",
       "      <td>1.114286</td>\n",
       "    </tr>\n",
       "    <tr>\n",
       "      <th>3</th>\n",
       "      <td>B</td>\n",
       "      <td>Mon</td>\n",
       "      <td>80</td>\n",
       "      <td>0.800000</td>\n",
       "    </tr>\n",
       "    <tr>\n",
       "      <th>4</th>\n",
       "      <td>B</td>\n",
       "      <td>Tue</td>\n",
       "      <td>70</td>\n",
       "      <td>0.700000</td>\n",
       "    </tr>\n",
       "    <tr>\n",
       "      <th>5</th>\n",
       "      <td>B</td>\n",
       "      <td>Wed</td>\n",
       "      <td>150</td>\n",
       "      <td>1.500000</td>\n",
       "    </tr>\n",
       "  </tbody>\n",
       "</table>\n",
       "</div>"
      ],
      "text/plain": [
       "  store  day  revenue  rev_norm\n",
       "0     A  Mon      100  0.857143\n",
       "1     A  Tue      120  1.028571\n",
       "2     A  Wed      130  1.114286\n",
       "3     B  Mon       80  0.800000\n",
       "4     B  Tue       70  0.700000\n",
       "5     B  Wed      150  1.500000"
      ]
     },
     "execution_count": 190,
     "metadata": {},
     "output_type": "execute_result"
    }
   ],
   "source": [
    "s4 = sales.copy()\n",
    "s5 = s4.groupby('store').agg(temp=('revenue', 'mean'))\n",
    "s4 = s4.merge(s5, on='store', how='left')\n",
    "s4['rev_norm'] = s4['revenue'] / s4['temp']\n",
    "s4 = s4.drop('temp', axis=1)\n",
    "s4"
   ]
  },
  {
   "cell_type": "markdown",
   "id": "a91a839a",
   "metadata": {},
   "source": [
    "<details>\n",
    "<summary><strong>▶ Show solution (click)</strong></summary>\n",
    "\n",
    "**Solution code:**\n",
    "```python\n",
    "s2 = sales.copy()\n",
    "s2[\"rev_norm\"] = s2[\"revenue\"] / s2.groupby(\"store\")[\"revenue\"].transform(\"mean\")\n",
    "piv = s2.pivot(index=\"store\", columns=\"day\", values=\"revenue\")\n",
    "argmax_day = s2.loc[s2.groupby(\"store\")[\"revenue\"].idxmax()].set_index(\"store\")[\"day\"]\n",
    "display(s2, piv, argmax_day)\n",
    "```\n",
    "\n",
    "**Explanation:**\n",
    "`transform` returns a Series aligned to the original shape, enabling row-wise normalization.\n",
    "`pivot` reshapes long -> wide (one value per (store,day)).\n",
    "`idxmax` finds the row index of the maximum per group; selecting those rows and reindexing yields store -> day.\n",
    "</details>\n"
   ]
  },
  {
   "cell_type": "markdown",
   "id": "3da07151",
   "metadata": {},
   "source": [
    "---\n",
    "## Wrap-up\n",
    "\n",
    "- You practiced DataFrame anatomy, creation, selection, filtering, missing-value handling, alignment, sorting/ranking, windows, and GroupBy.\n",
    "- Each section included runnable examples and exercises.\n",
    "- Keep this notebook handy as a template for future labs.\n"
   ]
  }
 ],
 "metadata": {
  "kernelspec": {
   "display_name": "Python 3 (ipykernel)",
   "language": "python",
   "name": "python3"
  },
  "language_info": {
   "codemirror_mode": {
    "name": "ipython",
    "version": 3
   },
   "file_extension": ".py",
   "mimetype": "text/x-python",
   "name": "python",
   "nbconvert_exporter": "python",
   "pygments_lexer": "ipython3",
   "version": "3.10.18"
  }
 },
 "nbformat": 4,
 "nbformat_minor": 5
}
