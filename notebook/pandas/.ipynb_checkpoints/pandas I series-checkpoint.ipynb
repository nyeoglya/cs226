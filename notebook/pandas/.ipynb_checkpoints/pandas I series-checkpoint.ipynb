{
 "cells": [
  {
   "cell_type": "markdown",
   "id": "89d2a994",
   "metadata": {},
   "source": [
    "> **Toggle solutions:** Click **Show solution** to expand the hidden answer. Works in JupyterLab, VS Code, and classic Notebook without extensions."
   ]
  },
  {
   "cell_type": "code",
   "execution_count": 2,
   "id": "50f5dd42",
   "metadata": {},
   "outputs": [],
   "source": [
    "import pandas as pd\n",
    "import numpy as np"
   ]
  },
  {
   "cell_type": "markdown",
   "id": "9d6433a3",
   "metadata": {},
   "source": [
    "## Labeled Array Model vs Relational Model (Concept)\n",
    "\n",
    "**Key model differences to remember** (for all subsequent hands-on parts):\n",
    "\n",
    "- **Index & Order (pandas):** `Series` has a first-class *Index*; **order is intrinsic and preserved**. Binary ops implicitly **align by labels**.\n",
    "- **Keys & Order (relational):** Relations (tables) are sets/bags of tuples; **order is not part of the model**. Alignment is explicit via **JOIN** on keys.\n",
    "- **Missing:** `NaN`/`pd.NA` propagate or are skipped per operation in pandas; SQL has `NULL` and three-valued logic.\n",
    "\n",
    "The code below demonstrates **label alignment** in pandas using two Series with partially overlapping labels.\n"
   ]
  },
  {
   "cell_type": "code",
   "execution_count": 4,
   "id": "b7cc1469",
   "metadata": {},
   "outputs": [],
   "source": [
    "s1 = pd.Series({'a': 1.0, 'b': 2.0})\n",
    "s2 = pd.Series({'b':10.0, 'c':100.0})"
   ]
  },
  {
   "cell_type": "code",
   "execution_count": 5,
   "id": "b86b29d1",
   "metadata": {},
   "outputs": [
    {
     "data": {
      "text/plain": [
       "a     NaN\n",
       "b    12.0\n",
       "c     NaN\n",
       "dtype: float64"
      ]
     },
     "execution_count": 5,
     "metadata": {},
     "output_type": "execute_result"
    }
   ],
   "source": [
    "s1 + s2 # s1.add(s2)"
   ]
  },
  {
   "cell_type": "code",
   "execution_count": 6,
   "id": "2fabefc5",
   "metadata": {},
   "outputs": [
    {
     "data": {
      "text/plain": [
       "a      1.0\n",
       "b     12.0\n",
       "c    100.0\n",
       "dtype: float64"
      ]
     },
     "execution_count": 6,
     "metadata": {},
     "output_type": "execute_result"
    }
   ],
   "source": [
    "s1.add(s2, fill_value=0)"
   ]
  },
  {
   "cell_type": "markdown",
   "id": "c707e750",
   "metadata": {},
   "source": [
    "**Exercise (Concept):**\n",
    "1. Create two new Series with partially overlapping labels (e.g., keys from `'x'..'z'` and `'y'..'w'`) and show how plain `+` vs `.add(..., fill_value=0)` differ.\n",
    "2. Explain in a sentence how pandas' implicit label alignment relates to a **FULL OUTER JOIN** in SQL."
   ]
  },
  {
   "cell_type": "markdown",
   "id": "3d96f0c3",
   "metadata": {
    "tags": [
     "solution",
     "toggle"
    ]
   },
   "source": [
    "<details>\n",
    "<summary><b>Show solution</b></summary>\n",
    "\n",
    "```python\n",
    "import pandas as pd\n",
    "x1 = pd.Series({'x': 1, 'y': 2})\n",
    "x2 = pd.Series({'y': 10, 'w': 100})\n",
    "plain = x1 + x2\n",
    "filled = x1.add(x2, fill_value=0)\n",
    "plain, filled\n",
    "```\n",
    "\n",
    "**Explanation.** Plain `+` aligns on the union of labels and leaves non-overlaps as `NaN`. `add(..., fill_value=0)` performs the same alignment but substitutes `0` for missing before computing — analogous to a FULL OUTER JOIN followed by arithmetic with NULL→0.\n",
    "\n",
    "</details>"
   ]
  },
  {
   "cell_type": "code",
   "execution_count": 15,
   "id": "671025a0",
   "metadata": {
    "tags": [
     "exercise"
    ]
   },
   "outputs": [
    {
     "data": {
      "text/plain": [
       "(w    3.0\n",
       " x    2.0\n",
       " y    4.0\n",
       " z    6.0\n",
       " dtype: float64,\n",
       " w    NaN\n",
       " x    NaN\n",
       " y    4.0\n",
       " z    6.0\n",
       " dtype: float64)"
      ]
     },
     "execution_count": 15,
     "metadata": {},
     "output_type": "execute_result"
    }
   ],
   "source": [
    "# Your code here\n",
    "X = pd.Series([2,3,4],index=['x','y','z'])\n",
    "Y = pd.Series([1,2,3],index=['y','z','w'])\n",
    "X.add(Y, fill_value=0), X+Y"
   ]
  },
  {
   "cell_type": "markdown",
   "id": "f7f10193",
   "metadata": {},
   "source": [
    "## Series Index\n",
    "\n",
    "- The **Index** is a first-class axis of labels. It is not a data column but drives selection and alignment.\n",
    "- Useful checks: `s.index.is_unique`, `s.index.dtype`, monotonicity flags.\n",
    "- Avoid in-place edits of individual index labels; prefer replacing the whole `Index` or using helpers like `rename_axis`, `reindex`, `sort_index`.\n"
   ]
  },
  {
   "cell_type": "code",
   "execution_count": 13,
   "id": "d2efdb55",
   "metadata": {},
   "outputs": [],
   "source": [
    "s = pd.Series([10, 20, 30], index=['u01','u02','u03'], name='score')"
   ]
  },
  {
   "cell_type": "code",
   "execution_count": 17,
   "id": "6b533411",
   "metadata": {},
   "outputs": [
    {
     "data": {
      "text/plain": [
       "u01    10\n",
       "u02    20\n",
       "u03    30\n",
       "Name: score, dtype: int64"
      ]
     },
     "execution_count": 17,
     "metadata": {},
     "output_type": "execute_result"
    }
   ],
   "source": [
    "s"
   ]
  },
  {
   "cell_type": "code",
   "execution_count": 18,
   "id": "f29fc50d",
   "metadata": {},
   "outputs": [
    {
     "data": {
      "text/plain": [
       "Index(['u01', 'u02', 'u03'], dtype='object')"
      ]
     },
     "execution_count": 18,
     "metadata": {},
     "output_type": "execute_result"
    }
   ],
   "source": [
    "s.index"
   ]
  },
  {
   "cell_type": "code",
   "execution_count": 24,
   "id": "350fc231",
   "metadata": {},
   "outputs": [
    {
     "data": {
      "text/plain": [
       "user_id\n",
       "u01    10\n",
       "u02    20\n",
       "u03    30\n",
       "Name: score, dtype: int64"
      ]
     },
     "execution_count": 24,
     "metadata": {},
     "output_type": "execute_result"
    }
   ],
   "source": [
    "s.rename_axis('user_id')"
   ]
  },
  {
   "cell_type": "code",
   "execution_count": 20,
   "id": "d3f708e0",
   "metadata": {},
   "outputs": [
    {
     "data": {
      "text/plain": [
       "True"
      ]
     },
     "execution_count": 20,
     "metadata": {},
     "output_type": "execute_result"
    }
   ],
   "source": [
    "s.index.is_unique"
   ]
  },
  {
   "cell_type": "code",
   "execution_count": 21,
   "id": "33fbce54",
   "metadata": {},
   "outputs": [
    {
     "data": {
      "text/plain": [
       "dtype('O')"
      ]
     },
     "execution_count": 21,
     "metadata": {},
     "output_type": "execute_result"
    }
   ],
   "source": [
    "s.index.dtype"
   ]
  },
  {
   "cell_type": "code",
   "execution_count": 22,
   "id": "42ee0fa3",
   "metadata": {},
   "outputs": [
    {
     "data": {
      "text/plain": [
       "u03    30\n",
       "u02    20\n",
       "u01    10\n",
       "Name: score, dtype: int64"
      ]
     },
     "execution_count": 22,
     "metadata": {},
     "output_type": "execute_result"
    }
   ],
   "source": [
    "s.sort_index(ascending=False)"
   ]
  },
  {
   "cell_type": "code",
   "execution_count": 23,
   "id": "c62b0d43",
   "metadata": {},
   "outputs": [
    {
     "data": {
      "text/plain": [
       "u01    10.0\n",
       "u02    20.0\n",
       "u04     NaN\n",
       "Name: score, dtype: float64"
      ]
     },
     "execution_count": 23,
     "metadata": {},
     "output_type": "execute_result"
    }
   ],
   "source": [
    "s.reindex(['u01','u02','u04'])"
   ]
  },
  {
   "cell_type": "markdown",
   "id": "e0aba553",
   "metadata": {},
   "source": [
    "**Exercise (Series Index):**\n",
    "- Construct a `Series` with **duplicate** labels (e.g., two `'u02'`s). Show that `s.loc['u02']` returns multiple values.\n",
    "- Then create a version where the index is unique (e.g., append a suffix) and demonstrate that `s.loc['u02_1']` returns a single scalar.\n"
   ]
  },
  {
   "cell_type": "markdown",
   "id": "35d38c89",
   "metadata": {
    "tags": [
     "solution",
     "toggle"
    ]
   },
   "source": [
    "<details>\n",
    "<summary><b>Show solution</b></summary>\n",
    "\n",
    "```python\n",
    "import pandas as pd\n",
    "dup = pd.Series([10, 40], index=['u02','u02'])\n",
    "sel_dup = dup.loc['u02']\n",
    "\n",
    "uniq = pd.Series([10, 40], index=['u02_1','u02_2'])\n",
    "sel_uniq = uniq.loc['u02_1']\n",
    "type(sel_dup), sel_dup.tolist(), type(sel_uniq), sel_uniq\n",
    "```\n",
    "\n",
    "**Explanation.** `dup` has duplicate labels, so `loc['u02']` returns *both* rows (a Series). After making labels unique, `loc['u02_1']` returns a single scalar.\n",
    "\n",
    "</details>"
   ]
  },
  {
   "cell_type": "code",
   "execution_count": 17,
   "id": "872596e6",
   "metadata": {
    "tags": [
     "exercise"
    ]
   },
   "outputs": [
    {
     "data": {
      "text/plain": [
       "(numpy.int64, pandas.core.series.Series)"
      ]
     },
     "execution_count": 17,
     "metadata": {},
     "output_type": "execute_result"
    }
   ],
   "source": [
    "# Your code here\n",
    "s = pd.Series([1,2,3], index=['u1','u2','u2'])\n",
    "type(s.loc['u1']), type(s.loc['u2'])"
   ]
  },
  {
   "cell_type": "markdown",
   "id": "c7a12c6c",
   "metadata": {},
   "source": [
    "## Label vs Position Indexing\n",
    "\n",
    "- **Label-based**: `s.loc[label/list/slice]` — slices are **inclusive** of the stop label.\n",
    "- **Position-based**: `s.iloc[pos/list/slice]` — slices are **exclusive** of the stop.\n",
    "- Prefer explicit `.loc`/`.iloc` to avoid ambiguity, especially with integer-like indexes.\n"
   ]
  },
  {
   "cell_type": "code",
   "execution_count": 18,
   "id": "8d3340ea",
   "metadata": {},
   "outputs": [],
   "source": [
    "grades = pd.Series([85, 92, 78, 96],\n",
    "                   index=['Alice','Bob','Charlie','Diana'],\n",
    "                   name='grades')"
   ]
  },
  {
   "cell_type": "code",
   "execution_count": 19,
   "id": "fd2a44ae",
   "metadata": {},
   "outputs": [
    {
     "data": {
      "text/plain": [
       "np.int64(85)"
      ]
     },
     "execution_count": 19,
     "metadata": {},
     "output_type": "execute_result"
    }
   ],
   "source": [
    "grades.loc['Alice']"
   ]
  },
  {
   "cell_type": "code",
   "execution_count": 20,
   "id": "c858faee",
   "metadata": {},
   "outputs": [
    {
     "data": {
      "text/plain": [
       "Alice      85\n",
       "Bob        92\n",
       "Charlie    78\n",
       "Name: grades, dtype: int64"
      ]
     },
     "execution_count": 20,
     "metadata": {},
     "output_type": "execute_result"
    }
   ],
   "source": [
    "grades.loc['Alice':'Charlie']"
   ]
  },
  {
   "cell_type": "code",
   "execution_count": 21,
   "id": "14d83496",
   "metadata": {},
   "outputs": [
    {
     "data": {
      "text/plain": [
       "np.int64(85)"
      ]
     },
     "execution_count": 21,
     "metadata": {},
     "output_type": "execute_result"
    }
   ],
   "source": [
    "grades.iloc[0]"
   ]
  },
  {
   "cell_type": "code",
   "execution_count": 22,
   "id": "4603a791",
   "metadata": {},
   "outputs": [
    {
     "data": {
      "text/plain": [
       "Alice    85\n",
       "Bob      92\n",
       "Name: grades, dtype: int64"
      ]
     },
     "execution_count": 22,
     "metadata": {},
     "output_type": "execute_result"
    }
   ],
   "source": [
    "grades.iloc[0:2]"
   ]
  },
  {
   "cell_type": "markdown",
   "id": "7e6ed74f",
   "metadata": {},
   "source": [
    "**Exercise (Selection):**\n",
    "- Select scores for `['Charlie','Diana']` using **labels**.\n",
    "- Select the last two elements using **positions** only.\n",
    "- Select all names whose label starts with `'A'` using a boolean mask on the **index**.\n"
   ]
  },
  {
   "cell_type": "markdown",
   "id": "cbfef1c3",
   "metadata": {
    "tags": [
     "solution",
     "toggle"
    ]
   },
   "source": [
    "<details>\n",
    "<summary><b>Show solution</b></summary>\n",
    "\n",
    "```python\n",
    "import pandas as pd\n",
    "grades = pd.Series([85, 92, 78, 96],\n",
    "                   index=['Alice','Bob','Charlie','Diana'])\n",
    "part1 = grades.loc[['Charlie','Diana']]\n",
    "part2 = grades.iloc[-2:]\n",
    "part3 = grades.loc[grades.index.str.startswith('A')]\n",
    "part1, part2, part3\n",
    "```\n",
    "\n",
    "**Explanation.** `loc` selects by labels, `iloc` by positions, and the index-based mask chooses labels beginning with `'A'`.\n",
    "\n",
    "</details>"
   ]
  },
  {
   "cell_type": "code",
   "execution_count": 35,
   "id": "4fc588fc",
   "metadata": {
    "tags": [
     "exercise"
    ]
   },
   "outputs": [
    {
     "data": {
      "text/plain": [
       "(Charlie    78\n",
       " Diana      96\n",
       " Name: grades, dtype: int64,\n",
       " Charlie    78\n",
       " Diana      96\n",
       " Name: grades, dtype: int64,\n",
       " Alice    85\n",
       " Name: grades, dtype: int64)"
      ]
     },
     "execution_count": 35,
     "metadata": {},
     "output_type": "execute_result"
    }
   ],
   "source": [
    "# Your code here\n",
    "part1 = grades[['Charlie', 'Diana']]\n",
    "part2 = grades[-2:]\n",
    "part3 = grades[grades.index.str.startswith('A')]\n",
    "part1, part2, part3"
   ]
  },
  {
   "cell_type": "markdown",
   "id": "20c993d9",
   "metadata": {},
   "source": [
    "## Boolean Filtering Idioms — `isin`, `between`\n",
    "\n",
    "- Value filters: `s.isin([...])` and `s.between(lo, hi)` (inclusive by default).\n",
    "- Remember to combine masks with `&`, `|`, and `~` and wrap each side with parentheses.\n"
   ]
  },
  {
   "cell_type": "code",
   "execution_count": 3,
   "id": "a506f00d",
   "metadata": {},
   "outputs": [],
   "source": [
    "t = pd.Series([1, 3, 7, 4, 9], index=list('abcde'))"
   ]
  },
  {
   "cell_type": "code",
   "execution_count": null,
   "id": "3e0e19ca",
   "metadata": {},
   "outputs": [],
   "source": [
    "t.isin([3,9])"
   ]
  },
  {
   "cell_type": "code",
   "execution_count": null,
   "id": "9ce2ed4e",
   "metadata": {},
   "outputs": [],
   "source": [
    "t[t.isin([3,9])]"
   ]
  },
  {
   "cell_type": "code",
   "execution_count": null,
   "id": "6da7043d",
   "metadata": {},
   "outputs": [],
   "source": [
    "t.between(3,7)"
   ]
  },
  {
   "cell_type": "code",
   "execution_count": null,
   "id": "b469e607",
   "metadata": {},
   "outputs": [],
   "source": [
    "t[t.between(3,7)]"
   ]
  },
  {
   "cell_type": "markdown",
   "id": "ef6a6670",
   "metadata": {},
   "source": [
    "**Exercise (Filtering):**\n",
    "- From `t`, select values **not** in `{3, 4}` using a boolean mask.\n",
    "- Using `between`, select values in `[2, 8]` and then invert the mask.\n"
   ]
  },
  {
   "cell_type": "markdown",
   "id": "3388861e",
   "metadata": {
    "tags": [
     "solution",
     "toggle"
    ]
   },
   "source": [
    "<details>\n",
    "<summary><b>Show solution</b></summary>\n",
    "\n",
    "```python\n",
    "import pandas as pd\n",
    "t = pd.Series([1, 3, 7, 4, 9], index=list('abcde'))\n",
    "ans1 = t[~t.isin([3,4])]\n",
    "mask_between = t.between(2,8)\n",
    "ans2 = t[~mask_between]\n",
    "ans1, mask_between, ans2\n",
    "```\n",
    "\n",
    "**Explanation.** `isin` builds a membership mask; `~` negates it. `between(2,8)` is inclusive; negating selects outside the interval.\n",
    "\n",
    "</details>"
   ]
  },
  {
   "cell_type": "code",
   "execution_count": 6,
   "id": "90cecae6",
   "metadata": {
    "tags": [
     "exercise"
    ]
   },
   "outputs": [
    {
     "data": {
      "text/plain": [
       "(a    1\n",
       " c    7\n",
       " e    9\n",
       " dtype: int64,\n",
       " a     True\n",
       " b    False\n",
       " c    False\n",
       " d    False\n",
       " e     True\n",
       " dtype: bool,\n",
       " a    1\n",
       " e    9\n",
       " dtype: int64)"
      ]
     },
     "execution_count": 6,
     "metadata": {},
     "output_type": "execute_result"
    }
   ],
   "source": [
    "# Your code here\n",
    "part1 = t[~t.isin([3,4])]\n",
    "mask = ~t.between(2,8)\n",
    "part2 = t[mask]\n",
    "part1, mask, part2"
   ]
  },
  {
   "cell_type": "markdown",
   "id": "e2d3ab62",
   "metadata": {},
   "source": [
    "## Take by Labels or Positions\n",
    "\n",
    "- By labels: `s.loc[[...]]`\n",
    "- By positions: `s.take([pos,...])` (ignores labels; fast positional gather)\n"
   ]
  },
  {
   "cell_type": "code",
   "execution_count": 7,
   "id": "528c4b79",
   "metadata": {},
   "outputs": [],
   "source": [
    "u = pd.Series([10, 20, 30, 40, 50], index=list('ABCDE'))"
   ]
  },
  {
   "cell_type": "code",
   "execution_count": 9,
   "id": "8cf13c37",
   "metadata": {},
   "outputs": [
    {
     "data": {
      "text/plain": [
       "A    10\n",
       "E    50\n",
       "C    30\n",
       "dtype: int64"
      ]
     },
     "execution_count": 9,
     "metadata": {},
     "output_type": "execute_result"
    }
   ],
   "source": [
    "u.loc[['A','E','C']]"
   ]
  },
  {
   "cell_type": "code",
   "execution_count": 10,
   "id": "887af8be",
   "metadata": {},
   "outputs": [
    {
     "data": {
      "text/plain": [
       "A    10\n",
       "E    50\n",
       "C    30\n",
       "dtype: int64"
      ]
     },
     "execution_count": 10,
     "metadata": {},
     "output_type": "execute_result"
    }
   ],
   "source": [
    "u.take([0, 4, 2])"
   ]
  },
  {
   "cell_type": "markdown",
   "id": "d2901c3f",
   "metadata": {},
   "source": [
    "**Exercise (Take):**\n",
    "- Produce the order `['B','B','E']` using positions **only** (i.e., `take`).\n",
    "- Use labels to get `['E','A']` in that order.\n"
   ]
  },
  {
   "cell_type": "markdown",
   "id": "648451ea",
   "metadata": {
    "tags": [
     "solution",
     "toggle"
    ]
   },
   "source": [
    "<details>\n",
    "<summary><b>Show solution</b></summary>\n",
    "\n",
    "```python\n",
    "import pandas as pd\n",
    "u = pd.Series([10, 20, 30, 40, 50], index=list('ABCDE'))\n",
    "pos_only = u.take([1,1,4])\n",
    "labels_only = u.loc[['E','A']]\n",
    "pos_only, labels_only\n",
    "```\n",
    "\n",
    "**Explanation.** `take` gathers by position (ignores labels), enabling duplicates; `loc` gathers by label in the specified order.\n",
    "\n",
    "</details>"
   ]
  },
  {
   "cell_type": "code",
   "execution_count": 14,
   "id": "a64c1d29",
   "metadata": {
    "tags": [
     "exercise"
    ]
   },
   "outputs": [
    {
     "data": {
      "text/plain": [
       "(B    20\n",
       " B    20\n",
       " E    50\n",
       " dtype: int64,\n",
       " E    50\n",
       " A    10\n",
       " dtype: int64)"
      ]
     },
     "execution_count": 14,
     "metadata": {},
     "output_type": "execute_result"
    }
   ],
   "source": [
    "# Your code here\n",
    "part1 = u.take([1,1,4])\n",
    "part2 = u.loc[['E','A']]\n",
    "part1, part2"
   ]
  },
  {
   "cell_type": "markdown",
   "id": "dd4c02a9",
   "metadata": {},
   "source": [
    "## Index Edits — Assign, Sort, Delete (Series-focused)\n",
    "\n",
    "- Assign a new `Index`: `s.set_axis(new_index, axis='index')` (returns a copy).\n",
    "- Sort by labels: `s.sort_index(...)`.\n",
    "- Delete labels: `s.drop(labels, axis='index')`.\n"
   ]
  },
  {
   "cell_type": "code",
   "execution_count": 15,
   "id": "fba6bd18",
   "metadata": {},
   "outputs": [],
   "source": [
    "v = pd.Series([5, 1, 9], index=['z','x','y'])"
   ]
  },
  {
   "cell_type": "code",
   "execution_count": 16,
   "id": "7b1fdf86",
   "metadata": {},
   "outputs": [
    {
     "data": {
      "text/plain": [
       "z    5\n",
       "x    1\n",
       "y    9\n",
       "dtype: int64"
      ]
     },
     "execution_count": 16,
     "metadata": {},
     "output_type": "execute_result"
    }
   ],
   "source": [
    "v"
   ]
  },
  {
   "cell_type": "code",
   "execution_count": 17,
   "id": "0be7b96d",
   "metadata": {},
   "outputs": [
    {
     "data": {
      "text/plain": [
       "x    1\n",
       "y    9\n",
       "z    5\n",
       "dtype: int64"
      ]
     },
     "execution_count": 17,
     "metadata": {},
     "output_type": "execute_result"
    }
   ],
   "source": [
    "v.sort_index()"
   ]
  },
  {
   "cell_type": "code",
   "execution_count": 18,
   "id": "70f452da",
   "metadata": {},
   "outputs": [
    {
     "data": {
      "text/plain": [
       "z    5\n",
       "y    9\n",
       "dtype: int64"
      ]
     },
     "execution_count": 18,
     "metadata": {},
     "output_type": "execute_result"
    }
   ],
   "source": [
    "v.drop(['x'])"
   ]
  },
  {
   "cell_type": "code",
   "execution_count": 19,
   "id": "8a57e302",
   "metadata": {},
   "outputs": [
    {
     "data": {
      "text/plain": [
       "u    5\n",
       "v    1\n",
       "w    9\n",
       "dtype: int64"
      ]
     },
     "execution_count": 19,
     "metadata": {},
     "output_type": "execute_result"
    }
   ],
   "source": [
    "v.set_axis(['u','v','w'], axis='index')"
   ]
  },
  {
   "cell_type": "markdown",
   "id": "6cf50a61",
   "metadata": {},
   "source": [
    "**Exercise (Index Edits):**\n",
    "- Given `v`, create a version with the index reversed lexicographically.\n",
    "- Drop label `'z'` and verify the resulting index/order.\n"
   ]
  },
  {
   "cell_type": "markdown",
   "id": "859770a6",
   "metadata": {
    "tags": [
     "solution",
     "toggle"
    ]
   },
   "source": [
    "<details>\n",
    "<summary><b>Show solution</b></summary>\n",
    "\n",
    "```python\n",
    "import pandas as pd\n",
    "v = pd.Series([5, 1, 9], index=['z','x','y'])\n",
    "rev = v.sort_index(ascending=False)\n",
    "dropped = rev.drop(['z'])\n",
    "rev.index.tolist(), dropped.index.tolist()\n",
    "```\n",
    "\n",
    "**Explanation.** Sorting by labels yields `['z','y','x']`; dropping `'z'` leaves `['y','x']`. Values remain associated to their labels.\n",
    "\n",
    "</details>"
   ]
  },
  {
   "cell_type": "code",
   "execution_count": 22,
   "id": "dcdb3db9",
   "metadata": {
    "tags": [
     "exercise"
    ]
   },
   "outputs": [
    {
     "data": {
      "text/plain": [
       "(['z', 'y', 'x'], ['y', 'x'])"
      ]
     },
     "execution_count": 22,
     "metadata": {},
     "output_type": "execute_result"
    }
   ],
   "source": [
    "# Your code here\n",
    "rev = v.sort_index(ascending=False)\n",
    "dropped = rev.drop(['z'])\n",
    "rev.index.tolist(), dropped.index.tolist()"
   ]
  },
  {
   "cell_type": "markdown",
   "id": "bd52b633",
   "metadata": {},
   "source": [
    "## Find Element by Value — Vector Scan vs Indexed Lookup\n",
    "\n",
    "- Vector scan: `s.eq(v)` -> mask -> labels/positions.\n",
    "- Extremes: `s.idxmax()`, `s.idxmin()`.\n",
    "- Reverse map for value->label(s): `s.reset_index().groupby(0)['index'].apply(list)`.\n"
   ]
  },
  {
   "cell_type": "code",
   "execution_count": 23,
   "id": "def08b59",
   "metadata": {},
   "outputs": [],
   "source": [
    "w = pd.Series([85, 92, 78, 92, 96], index=['Alice','Bob','Charlie','Eve','Diana'])"
   ]
  },
  {
   "cell_type": "code",
   "execution_count": 24,
   "id": "f1fa9fb3",
   "metadata": {},
   "outputs": [
    {
     "data": {
      "text/plain": [
       "Alice      False\n",
       "Bob         True\n",
       "Charlie    False\n",
       "Eve         True\n",
       "Diana      False\n",
       "dtype: bool"
      ]
     },
     "execution_count": 24,
     "metadata": {},
     "output_type": "execute_result"
    }
   ],
   "source": [
    "w.eq(92)"
   ]
  },
  {
   "cell_type": "code",
   "execution_count": 26,
   "id": "d3381c37",
   "metadata": {},
   "outputs": [
    {
     "data": {
      "text/plain": [
       "['Bob', 'Eve']"
      ]
     },
     "execution_count": 26,
     "metadata": {},
     "output_type": "execute_result"
    }
   ],
   "source": [
    "w.index[w.eq(92)].tolist()"
   ]
  },
  {
   "cell_type": "code",
   "execution_count": 27,
   "id": "04095f05",
   "metadata": {},
   "outputs": [
    {
     "data": {
      "text/plain": [
       "'Diana'"
      ]
     },
     "execution_count": 27,
     "metadata": {},
     "output_type": "execute_result"
    }
   ],
   "source": [
    "w.idxmax()"
   ]
  },
  {
   "cell_type": "code",
   "execution_count": 28,
   "id": "bace9311",
   "metadata": {},
   "outputs": [
    {
     "data": {
      "text/plain": [
       "'Charlie'"
      ]
     },
     "execution_count": 28,
     "metadata": {},
     "output_type": "execute_result"
    }
   ],
   "source": [
    "w.idxmin()"
   ]
  },
  {
   "cell_type": "code",
   "execution_count": 29,
   "id": "371059f3",
   "metadata": {},
   "outputs": [
    {
     "data": {
      "text/plain": [
       "array([1, 3])"
      ]
     },
     "execution_count": 29,
     "metadata": {},
     "output_type": "execute_result"
    }
   ],
   "source": [
    "np.flatnonzero(w.to_numpy() == 92)"
   ]
  },
  {
   "cell_type": "markdown",
   "id": "d45b5858",
   "metadata": {},
   "source": [
    "**Exercise (Find):**\n",
    "- Build a reverse map (value -> list of labels) from `w` and use it to return the labels for value `78`.\n",
    "- Find the **position indices** of all values greater than `90`.\n"
   ]
  },
  {
   "cell_type": "markdown",
   "id": "4750f315",
   "metadata": {
    "tags": [
     "solution",
     "toggle"
    ]
   },
   "source": [
    "<details>\n",
    "<summary><b>Show solution</b></summary>\n",
    "\n",
    "```python\n",
    "import numpy as np, pandas as pd\n",
    "w = pd.Series([85, 92, 78, 92, 96], index=['Alice','Bob','Charlie','Eve','Diana'])\n",
    "rev = w.reset_index().groupby(0)['index'].apply(list)\n",
    "labels_92 = rev.loc[92]\n",
    "pos_gt90 = np.flatnonzero(w.to_numpy() > 90)\n",
    "labels_92, pos_gt90\n",
    "```\n",
    "\n",
    "**Explanation.** Group by value to collect all labels (handles duplicates). Positions come from a NumPy condition over the values array.\n",
    "\n",
    "</details>"
   ]
  },
  {
   "cell_type": "code",
   "execution_count": 41,
   "id": "38536da1",
   "metadata": {
    "tags": [
     "exercise"
    ]
   },
   "outputs": [
    {
     "data": {
      "text/plain": [
       "array([1, 3, 4])"
      ]
     },
     "execution_count": 41,
     "metadata": {},
     "output_type": "execute_result"
    }
   ],
   "source": [
    "# Your code here\n",
    "rev = w.reset_index().groupby(0)['index'].apply(list)\n",
    "rev.loc[92]\n",
    "np.flatnonzero(w.to_numpy() > 90)"
   ]
  },
  {
   "cell_type": "markdown",
   "id": "9455e55b",
   "metadata": {},
   "source": [
    "## Missing Values — dtypes and `isna()`\n",
    "\n",
    "- `np.nan` (float NaN) vs `pd.NA` (scalar for NA-aware dtypes like `'Int64'`, `'boolean'`, `'string'`).\n",
    "- `s.isna()` / `s.notna()` for detection.\n"
   ]
  },
  {
   "cell_type": "code",
   "execution_count": 43,
   "id": "8403d0e7",
   "metadata": {},
   "outputs": [],
   "source": [
    "a = pd.Series([1, 2, np.nan, 4])\n",
    "b = pd.Series([1, pd.NA, 3], dtype='Int64')"
   ]
  },
  {
   "cell_type": "code",
   "execution_count": 44,
   "id": "b1ac6b18",
   "metadata": {},
   "outputs": [
    {
     "data": {
      "text/plain": [
       "0    1.0\n",
       "1    2.0\n",
       "2    NaN\n",
       "3    4.0\n",
       "dtype: float64"
      ]
     },
     "execution_count": 44,
     "metadata": {},
     "output_type": "execute_result"
    }
   ],
   "source": [
    "a"
   ]
  },
  {
   "cell_type": "code",
   "execution_count": 45,
   "id": "baf7d201",
   "metadata": {},
   "outputs": [
    {
     "data": {
      "text/plain": [
       "0    False\n",
       "1    False\n",
       "2     True\n",
       "3    False\n",
       "dtype: bool"
      ]
     },
     "execution_count": 45,
     "metadata": {},
     "output_type": "execute_result"
    }
   ],
   "source": [
    "a.isna()"
   ]
  },
  {
   "cell_type": "code",
   "execution_count": 46,
   "id": "50acd101",
   "metadata": {},
   "outputs": [
    {
     "data": {
      "text/plain": [
       "0       1\n",
       "1    <NA>\n",
       "2       3\n",
       "dtype: Int64"
      ]
     },
     "execution_count": 46,
     "metadata": {},
     "output_type": "execute_result"
    }
   ],
   "source": [
    "b"
   ]
  },
  {
   "cell_type": "code",
   "execution_count": 47,
   "id": "d7b23e94",
   "metadata": {},
   "outputs": [
    {
     "data": {
      "text/plain": [
       "Int64Dtype()"
      ]
     },
     "execution_count": 47,
     "metadata": {},
     "output_type": "execute_result"
    }
   ],
   "source": [
    "b.dtype"
   ]
  },
  {
   "cell_type": "markdown",
   "id": "90bb1530",
   "metadata": {},
   "source": [
    "**Exercise (Missing — detect):**\n",
    "- Create a `Series` mixing integers and `np.nan` and check its `dtype`.\n",
    "- Create an NA-aware integer `Series` with `pd.NA` and verify the dtype remains `'Int64'`.\n"
   ]
  },
  {
   "cell_type": "markdown",
   "id": "fd0ebb3b",
   "metadata": {
    "tags": [
     "solution",
     "toggle"
    ]
   },
   "source": [
    "<details>\n",
    "<summary><b>Show solution</b></summary>\n",
    "\n",
    "```python\n",
    "import numpy as np, pandas as pd\n",
    "mix = pd.Series([1, 2, np.nan])\n",
    "nullable = pd.Series([1, pd.NA, 3], dtype='Int64')\n",
    "mix.dtype, nullable.dtype\n",
    "```\n",
    "\n",
    "**Explanation.** `np.nan` forces float; `pd.NA` keeps nullable int 'Int64'.\n",
    "\n",
    "</details>"
   ]
  },
  {
   "cell_type": "code",
   "execution_count": 52,
   "id": "63f6718c",
   "metadata": {
    "tags": [
     "exercise"
    ]
   },
   "outputs": [
    {
     "data": {
      "text/plain": [
       "Int64Dtype()"
      ]
     },
     "execution_count": 52,
     "metadata": {},
     "output_type": "execute_result"
    }
   ],
   "source": [
    "# Your code here\n",
    "a.dtype\n",
    "b = pd.Series([1,2,pd.NA], dtype='Int64')\n",
    "b.dtype"
   ]
  },
  {
   "cell_type": "markdown",
   "id": "7b839e85",
   "metadata": {},
   "source": [
    "## Missing Values II — Fill or Interpolate\n",
    "\n",
    "- `fillna(value)`, `ffill()`, `bfill(limit=...)`.\n",
    "- Time-aware interpolation with `method='time'` requires a `DatetimeIndex`.\n"
   ]
  },
  {
   "cell_type": "code",
   "execution_count": 53,
   "id": "c23c556c",
   "metadata": {},
   "outputs": [],
   "source": [
    "m = pd.Series([1.0, np.nan, np.nan, 4.0, np.nan])\n",
    "idx = pd.date_range('2024-01-01', periods=5, freq='D')\n",
    "t = pd.Series([1.0, np.nan, 4.0, np.nan, 9.0], index=idx)"
   ]
  },
  {
   "cell_type": "code",
   "execution_count": 54,
   "id": "af81bea5",
   "metadata": {},
   "outputs": [
    {
     "data": {
      "text/plain": [
       "0    1.0\n",
       "1    0.0\n",
       "2    0.0\n",
       "3    4.0\n",
       "4    0.0\n",
       "dtype: float64"
      ]
     },
     "execution_count": 54,
     "metadata": {},
     "output_type": "execute_result"
    }
   ],
   "source": [
    "m.fillna(0)"
   ]
  },
  {
   "cell_type": "code",
   "execution_count": 55,
   "id": "ebc25c0d",
   "metadata": {},
   "outputs": [
    {
     "data": {
      "text/plain": [
       "0    1.0\n",
       "1    1.0\n",
       "2    1.0\n",
       "3    4.0\n",
       "4    4.0\n",
       "dtype: float64"
      ]
     },
     "execution_count": 55,
     "metadata": {},
     "output_type": "execute_result"
    }
   ],
   "source": [
    "m.ffill()"
   ]
  },
  {
   "cell_type": "code",
   "execution_count": 56,
   "id": "2bb646ca",
   "metadata": {},
   "outputs": [
    {
     "data": {
      "text/plain": [
       "0    1.0\n",
       "1    NaN\n",
       "2    4.0\n",
       "3    4.0\n",
       "4    NaN\n",
       "dtype: float64"
      ]
     },
     "execution_count": 56,
     "metadata": {},
     "output_type": "execute_result"
    }
   ],
   "source": [
    "m.bfill(limit=1)"
   ]
  },
  {
   "cell_type": "code",
   "execution_count": 57,
   "id": "2abce8ef",
   "metadata": {},
   "outputs": [
    {
     "data": {
      "text/plain": [
       "2024-01-01    1.0\n",
       "2024-01-02    2.5\n",
       "2024-01-03    4.0\n",
       "2024-01-04    6.5\n",
       "2024-01-05    9.0\n",
       "Freq: D, dtype: float64"
      ]
     },
     "execution_count": 57,
     "metadata": {},
     "output_type": "execute_result"
    }
   ],
   "source": [
    "t.interpolate(method='time')"
   ]
  },
  {
   "cell_type": "markdown",
   "id": "32485d77",
   "metadata": {},
   "source": [
    "**Exercise (Missing — fill/interpolate):**\n",
    "- Forward-fill only the **first** gap in `m` and leave the rest as `NaN` (hint: `limit`).\n",
    "- Interpolate `t` using `method='index'` and compare briefly to `method='time'`.\n"
   ]
  },
  {
   "cell_type": "markdown",
   "id": "c5448621",
   "metadata": {
    "tags": [
     "solution",
     "toggle"
    ]
   },
   "source": [
    "<details>\n",
    "<summary><b>Show solution</b></summary>\n",
    "\n",
    "```python\n",
    "import numpy as np, pandas as pd\n",
    "m = pd.Series([1.0, np.nan, np.nan, 4.0, np.nan])\n",
    "ffirst = m.ffill(limit=1)\n",
    "idx = pd.date_range('2024-01-01', periods=5, freq='D')\n",
    "t = pd.Series([1.0, np.nan, 4.0, np.nan, 9.0], index=idx)\n",
    "interp_index = t.interpolate(method='index')\n",
    "interp_time = t.interpolate(method='time')\n",
    "ffirst, interp_index, interp_time\n",
    "```\n",
    "\n",
    "**Explanation.** `limit=1` caps contiguous fill; 'index' vs 'time' coincide on daily spacing.\n",
    "\n",
    "</details>"
   ]
  },
  {
   "cell_type": "code",
   "execution_count": 59,
   "id": "b0dc6435",
   "metadata": {
    "tags": [
     "exercise"
    ]
   },
   "outputs": [
    {
     "data": {
      "text/plain": [
       "2024-01-01    1.0\n",
       "2024-01-02    2.5\n",
       "2024-01-03    4.0\n",
       "2024-01-04    6.5\n",
       "2024-01-05    9.0\n",
       "Freq: D, dtype: float64"
      ]
     },
     "execution_count": 59,
     "metadata": {},
     "output_type": "execute_result"
    }
   ],
   "source": [
    "# Your code here\n",
    "m.ffill(limit=1)\n",
    "t.interpolate(method='index') # index 기준으로 regular하게. time이면 실제 시간을 고려한 보간을 함."
   ]
  },
  {
   "cell_type": "markdown",
   "id": "97eef65a",
   "metadata": {},
   "source": [
    "## Missing Values III — Reductions with `NaN`\n",
    "\n",
    "- Many reductions default to `skipna=True` (`sum`, `mean`, ...).\n",
    "- Use `skipna=False` to demand complete data.\n"
   ]
  },
  {
   "cell_type": "code",
   "execution_count": 60,
   "id": "d9fe2b02",
   "metadata": {},
   "outputs": [],
   "source": [
    "r = pd.Series([1.0, np.nan, 3.0, np.nan])\n",
    "bb = pd.Series([True, pd.NA, False], dtype='boolean')"
   ]
  },
  {
   "cell_type": "code",
   "execution_count": 61,
   "id": "aeda3c6d",
   "metadata": {},
   "outputs": [
    {
     "data": {
      "text/plain": [
       "np.float64(4.0)"
      ]
     },
     "execution_count": 61,
     "metadata": {},
     "output_type": "execute_result"
    }
   ],
   "source": [
    "r.sum()"
   ]
  },
  {
   "cell_type": "code",
   "execution_count": 62,
   "id": "c29abb6d",
   "metadata": {},
   "outputs": [
    {
     "data": {
      "text/plain": [
       "np.float64(2.0)"
      ]
     },
     "execution_count": 62,
     "metadata": {},
     "output_type": "execute_result"
    }
   ],
   "source": [
    "r.mean()"
   ]
  },
  {
   "cell_type": "code",
   "execution_count": 63,
   "id": "589df879",
   "metadata": {},
   "outputs": [
    {
     "data": {
      "text/plain": [
       "np.float64(nan)"
      ]
     },
     "execution_count": 63,
     "metadata": {},
     "output_type": "execute_result"
    }
   ],
   "source": [
    "r.mean(skipna=False)"
   ]
  },
  {
   "cell_type": "code",
   "execution_count": 64,
   "id": "812690d4",
   "metadata": {},
   "outputs": [
    {
     "data": {
      "text/plain": [
       "np.int64(2)"
      ]
     },
     "execution_count": 64,
     "metadata": {},
     "output_type": "execute_result"
    }
   ],
   "source": [
    "r.count()"
   ]
  },
  {
   "cell_type": "code",
   "execution_count": 65,
   "id": "6e57a2c6",
   "metadata": {},
   "outputs": [
    {
     "data": {
      "text/plain": [
       "np.True_"
      ]
     },
     "execution_count": 65,
     "metadata": {},
     "output_type": "execute_result"
    }
   ],
   "source": [
    "bb.any()"
   ]
  },
  {
   "cell_type": "code",
   "execution_count": 66,
   "id": "aa64b9ed",
   "metadata": {},
   "outputs": [
    {
     "data": {
      "text/plain": [
       "np.False_"
      ]
     },
     "execution_count": 66,
     "metadata": {},
     "output_type": "execute_result"
    }
   ],
   "source": [
    "bb.all()"
   ]
  },
  {
   "cell_type": "markdown",
   "id": "4f36dc08",
   "metadata": {},
   "source": [
    "**Exercise (Missing — reductions):**\n",
    "- For `r`, compute `min` and `max` with and without `skipna=False` and comment on the difference.\n",
    "- For `bb`, verify how `sum()` behaves and why.\n"
   ]
  },
  {
   "cell_type": "markdown",
   "id": "70237137",
   "metadata": {
    "tags": [
     "solution",
     "toggle"
    ]
   },
   "source": [
    "<details>\n",
    "<summary><b>Show solution</b></summary>\n",
    "\n",
    "```python\n",
    "import numpy as np, pandas as pd\n",
    "r  = pd.Series([1.0, np.nan, 3.0, np.nan])\n",
    "bb = pd.Series([True, pd.NA, False], dtype='boolean')\n",
    "min_skip, max_skip = r.min(), r.max()\n",
    "min_nos, max_nos = r.min(skipna=False), r.max(skipna=False)\n",
    "b_sum = bb.sum()\n",
    "(min_skip, max_skip, min_nos, max_nos, b_sum)\n",
    "```\n",
    "\n",
    "**Explanation.** Skip semantics ignore NaNs by default; NA is ignored in boolean sum.\n",
    "\n",
    "</details>"
   ]
  },
  {
   "cell_type": "code",
   "execution_count": 69,
   "id": "3e3da30c",
   "metadata": {
    "tags": [
     "exercise"
    ]
   },
   "outputs": [
    {
     "data": {
      "text/plain": [
       "(np.float64(nan),\n",
       " np.float64(1.0),\n",
       " np.float64(nan),\n",
       " np.float64(3.0),\n",
       " np.int64(1))"
      ]
     },
     "execution_count": 69,
     "metadata": {},
     "output_type": "execute_result"
    }
   ],
   "source": [
    "# Your code here\n",
    "r.min(skipna=False), r.min(skipna=True), r.max(skipna=False), r.max(skipna=True), bb.sum()"
   ]
  },
  {
   "cell_type": "markdown",
   "id": "44debe09",
   "metadata": {},
   "source": [
    "## Missing Values IV — Alignment in Arithmetic\n",
    "\n",
    "- Binary ops align on **labels**; non-overlapping labels introduce `NaN`.\n",
    "- Method forms like `.add(other, fill_value=0)` can replace missing entries on the fly.\n"
   ]
  },
  {
   "cell_type": "code",
   "execution_count": 70,
   "id": "c48c38bb",
   "metadata": {},
   "outputs": [],
   "source": [
    "p = pd.Series({'a': 1.0, 'b': 2.0})\n",
    "q = pd.Series({'b':10.0, 'c':100.0})"
   ]
  },
  {
   "cell_type": "code",
   "execution_count": 71,
   "id": "f87236e4",
   "metadata": {},
   "outputs": [
    {
     "data": {
      "text/plain": [
       "a     NaN\n",
       "b    12.0\n",
       "c     NaN\n",
       "dtype: float64"
      ]
     },
     "execution_count": 71,
     "metadata": {},
     "output_type": "execute_result"
    }
   ],
   "source": [
    "p + q"
   ]
  },
  {
   "cell_type": "code",
   "execution_count": 72,
   "id": "3a8922c8",
   "metadata": {},
   "outputs": [
    {
     "data": {
      "text/plain": [
       "a      1.0\n",
       "b     12.0\n",
       "c    100.0\n",
       "dtype: float64"
      ]
     },
     "execution_count": 72,
     "metadata": {},
     "output_type": "execute_result"
    }
   ],
   "source": [
    "p.add(q, fill_value=0)"
   ]
  },
  {
   "cell_type": "markdown",
   "id": "0bde9104",
   "metadata": {},
   "source": [
    "**Exercise (Alignment):**\n",
    "- Create two Series with disjoint labels and show that `+` yields all `NaN`.\n",
    "- Then use `.add(..., fill_value=...)` to make a meaningful result.\n"
   ]
  },
  {
   "cell_type": "markdown",
   "id": "20f3a56a",
   "metadata": {
    "tags": [
     "solution",
     "toggle"
    ]
   },
   "source": [
    "<details>\n",
    "<summary><b>Show solution</b></summary>\n",
    "\n",
    "```python\n",
    "import pandas as pd\n",
    "pp = pd.Series({'x': 1.0})\n",
    "qq = pd.Series({'y': 2.0})\n",
    "plain = pp + qq\n",
    "fixed = pp.add(qq, fill_value=0)\n",
    "plain, fixed\n",
    "```\n",
    "\n",
    "**Explanation.** With disjoint labels, `+` yields all `NaN` after alignment. Using `fill_value=0` substitutes missing with 0 at compute time.\n",
    "\n",
    "</details>"
   ]
  },
  {
   "cell_type": "code",
   "execution_count": 73,
   "id": "81af87b3",
   "metadata": {
    "tags": [
     "exercise"
    ]
   },
   "outputs": [
    {
     "data": {
      "text/plain": [
       "a      1.0\n",
       "b     12.0\n",
       "c    100.0\n",
       "dtype: float64"
      ]
     },
     "execution_count": 73,
     "metadata": {},
     "output_type": "execute_result"
    }
   ],
   "source": [
    "# Your code here\n",
    "p.add(q, fill_value=0)"
   ]
  },
  {
   "cell_type": "markdown",
   "id": "34639590",
   "metadata": {},
   "source": [
    "## Sort, Rank, Top-k, Quantiles"
   ]
  },
  {
   "cell_type": "code",
   "execution_count": 74,
   "id": "17978a35",
   "metadata": {},
   "outputs": [],
   "source": [
    "srt = pd.Series([5, 2, 7, 4, 9], index=list('abcde'))"
   ]
  },
  {
   "cell_type": "code",
   "execution_count": 75,
   "id": "4220c294",
   "metadata": {},
   "outputs": [
    {
     "data": {
      "text/plain": [
       "e    9\n",
       "c    7\n",
       "a    5\n",
       "d    4\n",
       "b    2\n",
       "dtype: int64"
      ]
     },
     "execution_count": 75,
     "metadata": {},
     "output_type": "execute_result"
    }
   ],
   "source": [
    "srt.sort_values(ascending=False)"
   ]
  },
  {
   "cell_type": "code",
   "execution_count": 76,
   "id": "6677ed9c",
   "metadata": {},
   "outputs": [
    {
     "data": {
      "text/plain": [
       "a    5\n",
       "b    2\n",
       "c    7\n",
       "d    4\n",
       "e    9\n",
       "dtype: int64"
      ]
     },
     "execution_count": 76,
     "metadata": {},
     "output_type": "execute_result"
    }
   ],
   "source": [
    "srt.sort_index()"
   ]
  },
  {
   "cell_type": "code",
   "execution_count": 77,
   "id": "fa203f2b",
   "metadata": {},
   "outputs": [
    {
     "data": {
      "text/plain": [
       "a    3.0\n",
       "b    5.0\n",
       "c    2.0\n",
       "d    4.0\n",
       "e    1.0\n",
       "dtype: float64"
      ]
     },
     "execution_count": 77,
     "metadata": {},
     "output_type": "execute_result"
    }
   ],
   "source": [
    "srt.rank(method='dense', ascending=False)"
   ]
  },
  {
   "cell_type": "code",
   "execution_count": 78,
   "id": "10637348",
   "metadata": {},
   "outputs": [
    {
     "data": {
      "text/plain": [
       "e    9\n",
       "c    7\n",
       "dtype: int64"
      ]
     },
     "execution_count": 78,
     "metadata": {},
     "output_type": "execute_result"
    }
   ],
   "source": [
    "srt.nlargest(2)"
   ]
  },
  {
   "cell_type": "code",
   "execution_count": 79,
   "id": "1058ecb6",
   "metadata": {},
   "outputs": [
    {
     "data": {
      "text/plain": [
       "b    2\n",
       "d    4\n",
       "dtype: int64"
      ]
     },
     "execution_count": 79,
     "metadata": {},
     "output_type": "execute_result"
    }
   ],
   "source": [
    "srt.nsmallest(2)"
   ]
  },
  {
   "cell_type": "code",
   "execution_count": 80,
   "id": "2b5322e8",
   "metadata": {},
   "outputs": [
    {
     "data": {
      "text/plain": [
       "0.25    4.0\n",
       "0.50    5.0\n",
       "0.75    7.0\n",
       "dtype: float64"
      ]
     },
     "execution_count": 80,
     "metadata": {},
     "output_type": "execute_result"
    }
   ],
   "source": [
    "srt.quantile([0.25, 0.50, 0.75])"
   ]
  },
  {
   "cell_type": "markdown",
   "id": "38aa3cfc",
   "metadata": {},
   "source": [
    "**Exercise (Sort/Rank):**\n",
    "- Get the labels of the **top-3** values in descending order.\n",
    "- Compute the 10th and 90th percentiles.\n"
   ]
  },
  {
   "cell_type": "markdown",
   "id": "573d3893",
   "metadata": {
    "tags": [
     "solution",
     "toggle"
    ]
   },
   "source": [
    "<details>\n",
    "<summary><b>Show solution</b></summary>\n",
    "\n",
    "```python\n",
    "import pandas as pd\n",
    "srt = pd.Series([5, 2, 7, 4, 9], index=list('abcde'))\n",
    "top3_labels = srt.nlargest(3).index.tolist()\n",
    "q1090 = srt.quantile([0.10, 0.90])\n",
    "top3_labels, q1090\n",
    "```\n",
    "\n",
    "**Explanation.** `nlargest` returns labels in value-descending order; `quantile` computes percentiles by default interpolation rules.\n",
    "\n",
    "</details>"
   ]
  },
  {
   "cell_type": "code",
   "execution_count": 99,
   "id": "020d945c",
   "metadata": {
    "tags": [
     "exercise"
    ]
   },
   "outputs": [
    {
     "data": {
      "text/plain": [
       "(['e', 'c', 'a'],\n",
       " 0.1    2.8\n",
       " 0.9    8.2\n",
       " dtype: float64)"
      ]
     },
     "execution_count": 99,
     "metadata": {},
     "output_type": "execute_result"
    }
   ],
   "source": [
    "# Your code here\n",
    "# srt.rank(method='dense', ascending=False).sort_values()[:3].index\n",
    "srt.nlargest(3).index.tolist(), srt.quantile([0.1,0.9])"
   ]
  },
  {
   "cell_type": "markdown",
   "id": "8e73d4b0",
   "metadata": {},
   "source": [
    "## Cumulative, Difference, Lag, Return"
   ]
  },
  {
   "cell_type": "code",
   "execution_count": 100,
   "id": "2eee3f3b",
   "metadata": {},
   "outputs": [],
   "source": [
    "chg = pd.Series([100, 110, 121], index=['t0','t1','t2'])"
   ]
  },
  {
   "cell_type": "code",
   "execution_count": 101,
   "id": "88b6b4a7",
   "metadata": {},
   "outputs": [
    {
     "data": {
      "text/plain": [
       "t0    100\n",
       "t1    210\n",
       "t2    331\n",
       "dtype: int64"
      ]
     },
     "execution_count": 101,
     "metadata": {},
     "output_type": "execute_result"
    }
   ],
   "source": [
    "chg.cumsum()"
   ]
  },
  {
   "cell_type": "code",
   "execution_count": 102,
   "id": "db79f795",
   "metadata": {},
   "outputs": [
    {
     "data": {
      "text/plain": [
       "t0      NaN\n",
       "t1    100.0\n",
       "t2    110.0\n",
       "dtype: float64"
      ]
     },
     "execution_count": 102,
     "metadata": {},
     "output_type": "execute_result"
    }
   ],
   "source": [
    "chg.shift(1)"
   ]
  },
  {
   "cell_type": "code",
   "execution_count": 103,
   "id": "fe4b6fc5",
   "metadata": {},
   "outputs": [
    {
     "data": {
      "text/plain": [
       "t0     NaN\n",
       "t1    10.0\n",
       "t2    11.0\n",
       "dtype: float64"
      ]
     },
     "execution_count": 103,
     "metadata": {},
     "output_type": "execute_result"
    }
   ],
   "source": [
    "chg.diff(1)"
   ]
  },
  {
   "cell_type": "code",
   "execution_count": 104,
   "id": "0227bd81",
   "metadata": {},
   "outputs": [
    {
     "data": {
      "text/plain": [
       "t0    NaN\n",
       "t1    0.1\n",
       "t2    0.1\n",
       "dtype: float64"
      ]
     },
     "execution_count": 104,
     "metadata": {},
     "output_type": "execute_result"
    }
   ],
   "source": [
    "chg.pct_change(1)"
   ]
  },
  {
   "cell_type": "code",
   "execution_count": 105,
   "id": "b273d870",
   "metadata": {},
   "outputs": [
    {
     "data": {
      "text/plain": [
       "t0     NaN\n",
       "t1     NaN\n",
       "t2    21.0\n",
       "dtype: float64"
      ]
     },
     "execution_count": 105,
     "metadata": {},
     "output_type": "execute_result"
    }
   ],
   "source": [
    "chg.diff(2)"
   ]
  },
  {
   "cell_type": "code",
   "execution_count": 106,
   "id": "11e123eb",
   "metadata": {},
   "outputs": [
    {
     "data": {
      "text/plain": [
       "t0    110.0\n",
       "t1    121.0\n",
       "t2      NaN\n",
       "dtype: float64"
      ]
     },
     "execution_count": 106,
     "metadata": {},
     "output_type": "execute_result"
    }
   ],
   "source": [
    "chg.shift(-1)"
   ]
  },
  {
   "cell_type": "markdown",
   "id": "941fc293",
   "metadata": {},
   "source": [
    "**Exercise (Cumulative/Change):**\n",
    "- Compute a 2-step percentage change: `chg / chg.shift(2) - 1`.\n",
    "- Use `shift(fill_value=...)` to avoid leading/trailing `NaN` and redo `diff`.\n"
   ]
  },
  {
   "cell_type": "markdown",
   "id": "b6295de8",
   "metadata": {
    "tags": [
     "solution",
     "toggle"
    ]
   },
   "source": [
    "<details>\n",
    "<summary><b>Show solution</b></summary>\n",
    "\n",
    "```python\n",
    "import pandas as pd\n",
    "chg = pd.Series([100, 110, 121], index=['t0','t1','t2'])\n",
    "pct2 = chg / chg.shift(2) - 1\n",
    "diff_no_nan = chg.diff().fillna(0)\n",
    "pct2, diff_no_nan\n",
    "```\n",
    "\n",
    "**Explanation.** The first two entries of the 2-step percent change are undefined and thus `NaN`. Filling after `diff` removes edge `NaN` but changes semantics; call this out when teaching.\n",
    "\n",
    "</details>"
   ]
  },
  {
   "cell_type": "code",
   "execution_count": 117,
   "id": "111abb08",
   "metadata": {
    "tags": [
     "exercise"
    ]
   },
   "outputs": [
    {
     "data": {
      "text/plain": [
       "t0     0.0\n",
       "t1    10.0\n",
       "t2    11.0\n",
       "dtype: float64"
      ]
     },
     "execution_count": 117,
     "metadata": {},
     "output_type": "execute_result"
    }
   ],
   "source": [
    "# Your code here\n",
    "chg / chg.shift(2) - 1, chg.diff(1).fillna(0)"
   ]
  }
 ],
 "metadata": {
  "celltoolbar": "Tags",
  "kernelspec": {
   "display_name": "Python 3 (ipykernel)",
   "language": "python",
   "name": "python3"
  },
  "language_info": {
   "codemirror_mode": {
    "name": "ipython",
    "version": 3
   },
   "file_extension": ".py",
   "mimetype": "text/x-python",
   "name": "python",
   "nbconvert_exporter": "python",
   "pygments_lexer": "ipython3",
   "version": "3.10.18"
  }
 },
 "nbformat": 4,
 "nbformat_minor": 5
}
