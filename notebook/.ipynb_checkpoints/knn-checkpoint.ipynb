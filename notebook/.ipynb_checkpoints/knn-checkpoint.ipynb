{
 "cells": [
  {
   "cell_type": "code",
   "execution_count": 2,
   "id": "418cd70f-0b31-471a-afd6-dbbc3c2f927d",
   "metadata": {},
   "outputs": [],
   "source": [
    "import numpy as np\n",
    "import heapq"
   ]
  },
  {
   "cell_type": "code",
   "execution_count": 139,
   "id": "95c2ca10-9103-4aff-b566-915b606eebc9",
   "metadata": {},
   "outputs": [],
   "source": [
    "d = 5\n",
    "data = np.random.normal(0, 20, (100, d))\n",
    "np.random.shuffle(data)\n",
    "q = np.random.normal(0, 20, d)\n",
    "k = 3"
   ]
  },
  {
   "cell_type": "code",
   "execution_count": 102,
   "id": "cc52f0b6-271a-4e8e-bb5a-77cf92c1c1ff",
   "metadata": {},
   "outputs": [],
   "source": [
    "def distance(d, q):\n",
    "    return np.add.reduce((d-q)**2, axis=1)"
   ]
  },
  {
   "cell_type": "markdown",
   "id": "04569571-aecc-4b44-bf4f-d7c7101e8449",
   "metadata": {},
   "source": [
    "### baseline KNN"
   ]
  },
  {
   "cell_type": "code",
   "execution_count": 115,
   "id": "99f20077-8b90-4787-8529-1f4bd77544fe",
   "metadata": {},
   "outputs": [],
   "source": [
    "data1 = distance(data,q)\n",
    "heap = []\n",
    "for i, d in enumerate(data1.tolist()):\n",
    "    heapq.heappush(heap, (-d, i))\n",
    "    if len(heap) > k:\n",
    "        heapq.heappop(heap)\n",
    "ind = np.array(heap)[:,1].astype(int) # 가장 가까운 원소 k개의 index를 반환"
   ]
  },
  {
   "cell_type": "code",
   "execution_count": 128,
   "id": "d887d1ba-fd97-4516-9cd9-aa9f282426e7",
   "metadata": {},
   "outputs": [
    {
     "name": "stdout",
     "output_type": "stream",
     "text": [
      "데이터 q:\t [ 32.48752858   1.09566161   0.06163878 -12.25777447  -8.52109092]\n",
      "데이터 7:\t [ 13.65714253   5.80998071  -1.10041929 -12.2630388  -26.14216378], 거리: 26.242348578844304\n",
      "데이터 75:\t [  9.97696162  -6.00910521   0.75921347 -10.34061601  -6.03531261], 거리: 23.823193257580552\n",
      "데이터 92:\t [ 20.39456905   5.03509057 -16.70913761 -14.53920643  -1.50416001], 거리: 22.303810498177864\n"
     ]
    }
   ],
   "source": [
    "print(f'데이터 q:\\t {q}')\n",
    "for i, d in zip(ind, data[ind]):\n",
    "    print(f'데이터 {i}:\\t {d}, 거리: {np.sqrt(np.sum((d-q)**2))}')"
   ]
  },
  {
   "cell_type": "markdown",
   "id": "46f73936-8238-48a7-88df-0f75100b10fd",
   "metadata": {},
   "source": [
    "### KNN with KD-tree"
   ]
  },
  {
   "cell_type": "code",
   "execution_count": 134,
   "id": "325b362b-46ce-45ff-b663-e9110c3a15a6",
   "metadata": {},
   "outputs": [],
   "source": [
    "def dist(p: np.ndarray, b: np.ndarray) -> np.ndarray:\n",
    "    '''\n",
    "    p: (k)-dim np.ndarray\n",
    "    b: (k,1) or (k,2)-dim np.ndarray\n",
    "    out: (1)-dim np.ndarray\n",
    "    '''\n",
    "    if b.ndim > 1: # len(b.shape)\n",
    "        temp = ((b-p)>0)\n",
    "        mask1 = np.all(temp, axis=1) # b>p\n",
    "        mask2 = np.all(~temp, axis=1) # b<p\n",
    "        blp = b[mask1][:,0]-p[mask1]\n",
    "        bgp = b[mask2][:,1]-p[mask2]\n",
    "        return np.sum(blp**2)+np.sum(bgp**2)\n",
    "    else:\n",
    "        dist_sq = np.sum((p - b.ravel())**2)\n",
    "        return np.sqrt(dist_sq)"
   ]
  },
  {
   "cell_type": "code",
   "execution_count": 188,
   "id": "b6cefdea-a2cd-4652-b8b1-66d00daaadb0",
   "metadata": {},
   "outputs": [],
   "source": [
    "ls = 2 # leaf size\n",
    "def c_kdt(d: np.ndarray, depth: int):\n",
    "    size = d.shape[0] # array length\n",
    "    if size <= ls:\n",
    "        return d\n",
    "    dim = d.shape[1] # point dimension\n",
    "    r = depth % dim # selected axis\n",
    "    mi = np.argpartition(d[:,r], kth=size//2)[size//2] # TODO: 이거 좀 더 이해하기. 대체 뭐임??\n",
    "    p = d[mi]\n",
    "    rd = np.delete(d, mi, axis=0)\n",
    "    ml = rd[:,r] <= p[r]\n",
    "    return (p, c_kdt(rd[ml], depth+1), c_kdt(rd[~ml], depth+1))\n",
    "kdtree = c_kdt(data, 0)"
   ]
  },
  {
   "cell_type": "code",
   "execution_count": 196,
   "id": "6586b293-8674-49d8-b0fe-c1e737cd9f31",
   "metadata": {},
   "outputs": [],
   "source": [
    "def is_leaf(tree):\n",
    "    return not isinstance(tree, tuple)"
   ]
  },
  {
   "cell_type": "markdown",
   "id": "c5cdba6c-a6c0-4e45-bdb1-28e8065b218d",
   "metadata": {},
   "source": [
    "#### One Queue"
   ]
  },
  {
   "cell_type": "code",
   "execution_count": 201,
   "id": "56702864-ed53-44d7-b223-2601385f96ec",
   "metadata": {},
   "outputs": [],
   "source": [
    "def kdt_search(kdtree: tuple, query, k):\n",
    "    pq = [(0, 'node', kdtree)]\n",
    "    heapq.heapify(pq)\n",
    "    result = [] # Contain (dist, point) in ascending order\n",
    "    while pq and len(result) < k:\n",
    "        key, kind, tr = heapq.heappop(pq)\n",
    "        if kind == 'point':\n",
    "            result.append((key, tr))\n",
    "            continue\n",
    "\n",
    "        if is_leaf(tr):\n",
    "            for point in tr:\n",
    "                d = dist(query, point)\n",
    "                heapq.heappush(pq, (d, 'point', point))\n",
    "        else:\n",
    "            lbl = dist(tr[1][0], query)\n",
    "            lbr = dist(tr[2][0], query)\n",
    "            heapq.heappush(pq, (lbl, 'node', tr[1]))\n",
    "            heapq.heappush(pq, (lbr, 'node', tr[2]))\n",
    "    return result"
   ]
  },
  {
   "cell_type": "code",
   "execution_count": 202,
   "id": "06dc7bbd-b12f-470f-99de-d28625893e47",
   "metadata": {},
   "outputs": [
    {
     "data": {
      "text/plain": [
       "[(np.float64(38.832389101279894),\n",
       "  array([ -3.17110616, -23.88504447,  11.84150113,  36.6289676 ,\n",
       "         -31.41702688])),\n",
       " (np.float64(40.79060663402517),\n",
       "  array([-12.9246372 , -11.12465565,   6.0563385 ,  18.68290921,\n",
       "          -7.84197982])),\n",
       " (np.float64(41.2315872117607),\n",
       "  array([-12.69452964, -30.86323103,  12.48987864,  -6.60664743,\n",
       "         -23.95672778]))]"
      ]
     },
     "execution_count": 202,
     "metadata": {},
     "output_type": "execute_result"
    }
   ],
   "source": [
    "kdt_search(kdtree, q, k)"
   ]
  },
  {
   "cell_type": "markdown",
   "id": "51e9ba04-5221-4fce-a7c7-3d4fb7efc8f0",
   "metadata": {},
   "source": [
    "#### Two Queue"
   ]
  },
  {
   "cell_type": "code",
   "execution_count": 220,
   "id": "5ae7f6a0-cf03-4dc8-87d0-2ebaa902f53d",
   "metadata": {},
   "outputs": [],
   "source": [
    "def kdt_search2(kdtree: tuple, query, k):\n",
    "    pq_nodes = [(0, kdtree)]\n",
    "    pq_nbrs = []\n",
    "    tau = np.inf\n",
    "    while pq_nodes and pq_nodes[0][0] < tau:\n",
    "        _, node = heapq.heappop(pq_nodes)\n",
    "        if is_leaf(node):\n",
    "            for point in node:\n",
    "                d = dist(query, point)\n",
    "                heapq.heappush(pq_nbrs, (-d, point))\n",
    "                if len(pq_nbrs) > k:\n",
    "                    heapq.heappop(pq_nbrs)\n",
    "                tau = -pq_nbrs[0][0]\n",
    "        else:\n",
    "            lbl = dist(node[1][0], query)\n",
    "            lbr = dist(node[2][0], query)\n",
    "            # 분할점 누락\n",
    "            if lbl < tau:\n",
    "                heapq.heappush(pq_nodes, (lbl, node[1])) # box를 가지고 거리를 계산해야 되는데, 내부점을 가지고 거리를 계산하고 앉았음...\n",
    "            if lbr < tau:\n",
    "                heapq.heappush(pq_nodes, (lbr, node[2]))\n",
    "    return sorted(pq_nbrs, key=lambda t: -t[0])"
   ]
  },
  {
   "cell_type": "code",
   "execution_count": 219,
   "id": "a0cb0555-409f-4b6b-a5fe-025c5fc54c89",
   "metadata": {},
   "outputs": [
    {
     "data": {
      "text/plain": [
       "[(np.float64(-38.832389101279894),\n",
       "  array([ -3.17110616, -23.88504447,  11.84150113,  36.6289676 ,\n",
       "         -31.41702688])),\n",
       " (np.float64(-40.79060663402517),\n",
       "  array([-12.9246372 , -11.12465565,   6.0563385 ,  18.68290921,\n",
       "          -7.84197982]))]"
      ]
     },
     "execution_count": 219,
     "metadata": {},
     "output_type": "execute_result"
    }
   ],
   "source": [
    "kdt_search2(kdtree, q, k) # 지금은 수정하기 어려운 버그가 있음..."
   ]
  },
  {
   "cell_type": "markdown",
   "id": "64248fb1-3e15-4ba1-a63d-0c905ee46668",
   "metadata": {},
   "source": [
    "### ANN (DiskANN)"
   ]
  },
  {
   "cell_type": "code",
   "execution_count": null,
   "id": "e8b2a34d-b732-461b-ae53-586f45438717",
   "metadata": {},
   "outputs": [],
   "source": []
  }
 ],
 "metadata": {
  "kernelspec": {
   "display_name": "Python 3 (ipykernel)",
   "language": "python",
   "name": "python3"
  },
  "language_info": {
   "codemirror_mode": {
    "name": "ipython",
    "version": 3
   },
   "file_extension": ".py",
   "mimetype": "text/x-python",
   "name": "python",
   "nbconvert_exporter": "python",
   "pygments_lexer": "ipython3",
   "version": "3.10.18"
  }
 },
 "nbformat": 4,
 "nbformat_minor": 5
}
