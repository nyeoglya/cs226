{
 "cells": [
  {
   "cell_type": "markdown",
   "id": "66fa0717",
   "metadata": {},
   "source": [
    "# NumPy Advanced Exercises (34–100)\n",
    "\n",
    "_Problem-only notebook generated from the attached PDF. For each exercise, write your solution in the empty code cell that follows the problem._\n",
    "\n",
    "**Instructions:**\n",
    "- Use vectorized NumPy where possible (avoid Python loops unless asked).\n",
    "- Do not modify input arrays unless the task explicitly says so.\n",
    "- Add additional cells if you want experiments or tests.\n"
   ]
  },
  {
   "cell_type": "code",
   "execution_count": 2,
   "id": "65b34d1f-ee29-4507-a569-2a473072595d",
   "metadata": {},
   "outputs": [],
   "source": [
    "import numpy as np"
   ]
  },
  {
   "cell_type": "markdown",
   "id": "964bf53d",
   "metadata": {},
   "source": [
    "### Exercise 34\n",
    "\n",
    "**Problem.** Create a NumPy array of all calendar dates in **July 2016** with dtype `datetime64[D]`. The range should include 2016‑07‑01 and exclude 2016‑08‑01."
   ]
  },
  {
   "cell_type": "code",
   "execution_count": 3,
   "id": "58d24805",
   "metadata": {},
   "outputs": [
    {
     "data": {
      "text/plain": [
       "array(['2016-07-01', '2016-07-02', '2016-07-03', '2016-07-04',\n",
       "       '2016-07-05', '2016-07-06', '2016-07-07', '2016-07-08',\n",
       "       '2016-07-09', '2016-07-10', '2016-07-11', '2016-07-12',\n",
       "       '2016-07-13', '2016-07-14', '2016-07-15', '2016-07-16',\n",
       "       '2016-07-17', '2016-07-18', '2016-07-19', '2016-07-20',\n",
       "       '2016-07-21', '2016-07-22', '2016-07-23', '2016-07-24',\n",
       "       '2016-07-25', '2016-07-26', '2016-07-27', '2016-07-28',\n",
       "       '2016-07-29', '2016-07-30', '2016-07-31'], dtype='datetime64[D]')"
      ]
     },
     "execution_count": 3,
     "metadata": {},
     "output_type": "execute_result"
    }
   ],
   "source": [
    "c = np.arange('2016-07-01','2016-08-01',dtype=\"datetime64[D]\")\n",
    "c"
   ]
  },
  {
   "cell_type": "markdown",
   "id": "ef172694",
   "metadata": {},
   "source": [
    "### Exercise 35\n",
    "\n",
    "**Problem.** Demonstrate **in‑place ufunc operations** using the `out=` parameter. Use at least two arrays and show one or more ufuncs that write results back into an existing array (no new temporaries)."
   ]
  },
  {
   "cell_type": "code",
   "execution_count": null,
   "id": "1f36dbe2",
   "metadata": {},
   "outputs": [],
   "source": []
  },
  {
   "cell_type": "markdown",
   "id": "ee369f16",
   "metadata": {},
   "source": [
    "### Exercise 36\n",
    "\n",
    "**Problem.** Given a 1‑D array of random floats in `[0, 10)`, compute the **integer part** of each value using several different methods (e.g., arithmetic with `%`, `floor`, `ceil - 1`, `astype(int)`, `trunc`). Note differences that could arise for negative inputs (do not implement negatives here)."
   ]
  },
  {
   "cell_type": "code",
   "execution_count": 16,
   "id": "3151e1b4",
   "metadata": {},
   "outputs": [
    {
     "data": {
      "text/plain": [
       "(array([6.46834144, 6.63919971, 0.29901652, 1.77831342, 5.73496649,\n",
       "        5.51164018, 5.26920442, 3.74242814, 0.60794097, 3.6999257 ]),\n",
       " array([6., 6., 0., 1., 5., 5., 5., 3., 0., 3.]),\n",
       " array([6., 6., 0., 1., 5., 5., 5., 3., 0., 3.]),\n",
       " array([6., 6., 0., 1., 5., 5., 5., 3., 0., 3.]),\n",
       " array([6., 6., 0., 1., 5., 5., 5., 3., 0., 3.]),\n",
       " array([6., 6., 0., 1., 5., 5., 5., 3., 0., 3.]))"
      ]
     },
     "execution_count": 16,
     "metadata": {},
     "output_type": "execute_result"
    }
   ],
   "source": [
    "rng = np.random.default_rng(200)\n",
    "r = rng.random(10)*10\n",
    "r, np.floor(r), np.ceil(r) - 1, r // 1 , r.astype(int).astype(float), np.trunc(r)"
   ]
  },
  {
   "cell_type": "markdown",
   "id": "2096f003",
   "metadata": {},
   "source": [
    "### Exercise 37\n",
    "\n",
    "**Problem.** Start with a `(5, 5)` array of zeros. **Broadcast-add** the vector `np.arange(5)` across the rows so that row `i` equals `np.arange(5)`."
   ]
  },
  {
   "cell_type": "code",
   "execution_count": 43,
   "id": "a8c4fb19",
   "metadata": {},
   "outputs": [
    {
     "data": {
      "text/plain": [
       "array([[0., 1., 2., 3., 4.],\n",
       "       [0., 1., 2., 3., 4.],\n",
       "       [0., 1., 2., 3., 4.],\n",
       "       [0., 1., 2., 3., 4.],\n",
       "       [0., 1., 2., 3., 4.]])"
      ]
     },
     "execution_count": 43,
     "metadata": {},
     "output_type": "execute_result"
    }
   ],
   "source": [
    "z = np.zeros((5,5))\n",
    "z + np.arange(5)"
   ]
  },
  {
   "cell_type": "markdown",
   "id": "271a916b",
   "metadata": {},
   "source": [
    "### Exercise 38\n",
    "\n",
    "**Problem.** Build a 1‑D NumPy array **from a Python iterator/generator** that yields numbers `0..9` as floats using `np.fromiter`."
   ]
  },
  {
   "cell_type": "code",
   "execution_count": 47,
   "id": "58e54b82",
   "metadata": {},
   "outputs": [
    {
     "data": {
      "text/plain": [
       "array([0, 1, 2, 3, 4, 5, 6, 7, 8, 9])"
      ]
     },
     "execution_count": 47,
     "metadata": {},
     "output_type": "execute_result"
    }
   ],
   "source": [
    "def gen():\n",
    "    for i in range(10):\n",
    "        yield i\n",
    "\n",
    "np.fromiter(gen(), dtype=\"int\")"
   ]
  },
  {
   "cell_type": "markdown",
   "id": "c652e52d",
   "metadata": {},
   "source": [
    "### Exercise 39\n",
    "\n",
    "**Problem.** Generate evenly spaced **interior points in the open interval (0, 1)** — i.e., exclude both endpoints — using NumPy. Return a 1‑D array."
   ]
  },
  {
   "cell_type": "code",
   "execution_count": 5,
   "id": "bd7ed5c7",
   "metadata": {},
   "outputs": [
    {
     "data": {
      "text/plain": [
       "array([0.11111111, 0.22222222, 0.33333333, 0.44444444, 0.55555556,\n",
       "       0.66666667, 0.77777778, 0.88888889])"
      ]
     },
     "execution_count": 5,
     "metadata": {},
     "output_type": "execute_result"
    }
   ],
   "source": [
    "np.linspace(0, 1, 10)[1:-1]"
   ]
  },
  {
   "cell_type": "markdown",
   "id": "fba4b8d6",
   "metadata": {},
   "source": [
    "### Exercise 40\n",
    "\n",
    "**Problem.** Create a length‑10 array of random floats in `[0,1)` and **sort it in place** (mutate the original array rather than allocating a new one)."
   ]
  },
  {
   "cell_type": "code",
   "execution_count": 11,
   "id": "14cefcc7",
   "metadata": {},
   "outputs": [
    {
     "data": {
      "text/plain": [
       "array([0.07765824, 0.09111929, 0.16753423, 0.40928047, 0.47720368,\n",
       "       0.48131256, 0.49345227, 0.65417374, 0.65663707, 0.80614614])"
      ]
     },
     "execution_count": 11,
     "metadata": {},
     "output_type": "execute_result"
    }
   ],
   "source": [
    "rng = np.random.default_rng()\n",
    "x = rng.random(10)\n",
    "x.sort()\n",
    "x"
   ]
  },
  {
   "cell_type": "markdown",
   "id": "c2770196",
   "metadata": {},
   "source": [
    "### Exercise 41\n",
    "\n",
    "**Problem.** Using a vector `Z = np.arange(10)`, compute the sum via a **ufunc reduction** (e.g., `np.add.reduce(Z)`) rather than `Z.sum()`."
   ]
  },
  {
   "cell_type": "code",
   "execution_count": 14,
   "id": "100204e3",
   "metadata": {},
   "outputs": [
    {
     "data": {
      "text/plain": [
       "np.int64(45)"
      ]
     },
     "execution_count": 14,
     "metadata": {},
     "output_type": "execute_result"
    }
   ],
   "source": [
    "Z = np.arange(10)\n",
    "np.add.reduce(Z)"
   ]
  },
  {
   "cell_type": "markdown",
   "id": "212fc632",
   "metadata": {},
   "source": [
    "### Exercise 42\n",
    "\n",
    "**Problem.** Construct two arrays `A` and `B` and evaluate **`np.allclose(A, B)` vs `np.array_equal(A, B)`**. Return the two booleans. (Allclose tolerates tiny float differences; `array_equal` requires exact match and same shape.)"
   ]
  },
  {
   "cell_type": "code",
   "execution_count": 19,
   "id": "4fb911f2",
   "metadata": {},
   "outputs": [
    {
     "data": {
      "text/plain": [
       "(True, False)"
      ]
     },
     "execution_count": 19,
     "metadata": {},
     "output_type": "execute_result"
    }
   ],
   "source": [
    "A=np.array([1,2,3])\n",
    "B=A+1e-5\n",
    "np.allclose(A,B), np.array_equal(A,B)"
   ]
  },
  {
   "cell_type": "markdown",
   "id": "a4003859",
   "metadata": {},
   "source": [
    "### Exercise 43\n",
    "\n",
    "**Problem.** Create an array and make it **read‑only** (set the writeable flag to `False`). Verify that assignment would raise an error (you do not need to actually trigger an exception)."
   ]
  },
  {
   "cell_type": "code",
   "execution_count": 26,
   "id": "b90c5561",
   "metadata": {},
   "outputs": [],
   "source": [
    "a = np.array([1,2,3])\n",
    "a.flags.writeable = False"
   ]
  },
  {
   "cell_type": "markdown",
   "id": "e0d7042c",
   "metadata": {},
   "source": [
    "### Exercise 44\n",
    "\n",
    "**Problem.** Given a `(10, 2)` array `Z` whose rows are 2‑D points `(x, y)`, compute **polar coordinates** `(R, T)` where `R = sqrt(x^2 + y^2)` and `T = arctan2(y, x)`. Return the two 1‑D arrays."
   ]
  },
  {
   "cell_type": "code",
   "execution_count": 32,
   "id": "e37dcac1",
   "metadata": {},
   "outputs": [
    {
     "data": {
      "text/plain": [
       "(array([1.06850946, 0.70229693, 0.23134317, 0.21283644, 1.03352988,\n",
       "        1.0130506 , 0.73704424, 1.1232301 , 0.76483624, 1.23318741]),\n",
       " array([1.20044851, 0.01729753, 0.95164315, 0.97628166, 0.32504482,\n",
       "        0.68896328, 0.41805976, 1.03970455, 0.70465183, 0.81152669]))"
      ]
     },
     "execution_count": 32,
     "metadata": {},
     "output_type": "execute_result"
    }
   ],
   "source": [
    "rng = np.random.default_rng()\n",
    "Z = rng.random((10,2))\n",
    "X, Y = Z[:,0], Z[:,1]\n",
    "R, T = np.sqrt(X**2+Y**2), np.arctan2(Y,X)\n",
    "R, T"
   ]
  },
  {
   "cell_type": "markdown",
   "id": "03d3dc76",
   "metadata": {},
   "source": [
    "### Exercise 45\n",
    "\n",
    "**Problem.** Create a length‑10 random array and **replace its maximum element with 0**, in place, using vectorized indexing (no Python loops)."
   ]
  },
  {
   "cell_type": "code",
   "execution_count": 35,
   "id": "d9f831b8",
   "metadata": {},
   "outputs": [
    {
     "data": {
      "text/plain": [
       "array([0.37188325, 0.42164849, 0.50709955, 0.53860889, 0.51986375,\n",
       "       0.10318916, 0.        , 0.16413753, 0.25983461, 0.13706116])"
      ]
     },
     "execution_count": 35,
     "metadata": {},
     "output_type": "execute_result"
    }
   ],
   "source": [
    "rng = np.random.default_rng()\n",
    "a = rng.random(10)\n",
    "a[a.argmax()] = 0\n",
    "a"
   ]
  },
  {
   "cell_type": "markdown",
   "id": "93736455",
   "metadata": {},
   "source": [
    "### Exercise 46\n",
    "\n",
    "**Problem.** Create a **structured grid** `Z` of shape `(5, 5)` with two float fields `'x'` and `'y'`. Fill each cell with its coordinate on a uniform grid over `[0,1]×[0,1]` using either `meshgrid` or broadcasting."
   ]
  },
  {
   "cell_type": "code",
   "execution_count": 50,
   "id": "9aebe6a6",
   "metadata": {},
   "outputs": [
    {
     "data": {
      "text/plain": [
       "(array([[0.  , 0.25, 0.5 , 0.75, 1.  ],\n",
       "        [0.  , 0.25, 0.5 , 0.75, 1.  ],\n",
       "        [0.  , 0.25, 0.5 , 0.75, 1.  ],\n",
       "        [0.  , 0.25, 0.5 , 0.75, 1.  ],\n",
       "        [0.  , 0.25, 0.5 , 0.75, 1.  ]]),\n",
       " array([[0.  , 0.  , 0.  , 0.  , 0.  ],\n",
       "        [0.25, 0.25, 0.25, 0.25, 0.25],\n",
       "        [0.5 , 0.5 , 0.5 , 0.5 , 0.5 ],\n",
       "        [0.75, 0.75, 0.75, 0.75, 0.75],\n",
       "        [1.  , 1.  , 1.  , 1.  , 1.  ]]))"
      ]
     },
     "execution_count": 50,
     "metadata": {},
     "output_type": "execute_result"
    }
   ],
   "source": [
    "nx, ny = (5, 5)\n",
    "x = np.linspace(0, 1, nx)\n",
    "y = np.linspace(0, 1, ny)\n",
    "xv, yv = np.meshgrid(x, y)\n",
    "xv, yv"
   ]
  },
  {
   "cell_type": "markdown",
   "id": "a67ef9d6",
   "metadata": {},
   "source": [
    "### Exercise 47\n",
    "\n",
    "**Problem.** Let `X = np.arange(8)` and `Y = X + 0.5`. Build the **Cauchy matrix** `C` with entries `C[i, j] = 1 / (X[i] - Y[j])` using broadcasting/outer operations, then compute `det(C)`."
   ]
  },
  {
   "cell_type": "code",
   "execution_count": 56,
   "id": "7cdd498a",
   "metadata": {},
   "outputs": [
    {
     "data": {
      "text/plain": [
       "(np.float64(1.0), np.float64(3638.163637117973))"
      ]
     },
     "execution_count": 56,
     "metadata": {},
     "output_type": "execute_result"
    }
   ],
   "source": [
    "X = np.arange(8)\n",
    "Y = X + 0.5\n",
    "C = 1 / (X[:,None] - Y[None,:])\n",
    "C[1,2] * (X[1] - Y[2]), np.linalg.det(C)"
   ]
  },
  {
   "cell_type": "markdown",
   "id": "5aeb4d69",
   "metadata": {},
   "source": [
    "### Exercise 50\n",
    "\n",
    "**Problem.** Given a 1‑D array `Z` of numbers (e.g., `0..99`) and a scalar `v`, return the single element of `Z` whose value is **closest to `v`**. Formally, find index `i` minimizing `|Z[i] − v|` and return `Z[i]`. Break ties by the first such element. Use **vectorized NumPy operations** (no Python loops)."
   ]
  },
  {
   "cell_type": "code",
   "execution_count": 60,
   "id": "4bc76e85",
   "metadata": {},
   "outputs": [
    {
     "data": {
      "text/plain": [
       "np.int64(12)"
      ]
     },
     "execution_count": 60,
     "metadata": {},
     "output_type": "execute_result"
    }
   ],
   "source": [
    "v = 12.5\n",
    "Z = np.arange(100)\n",
    "np.argmin(np.abs(Z-v))"
   ]
  },
  {
   "cell_type": "markdown",
   "id": "5c35ed06",
   "metadata": {},
   "source": [
    "### Exercise 51\n",
    "\n",
    "**Problem.** Create a **nested structured dtype** array of length 10 with fields `position.x`, `position.y` and `color.r`, `color.g`, `color.b` (all floats). Initialize it (values arbitrary)."
   ]
  },
  {
   "cell_type": "code",
   "execution_count": 67,
   "id": "38252c73",
   "metadata": {},
   "outputs": [
    {
     "data": {
      "text/plain": [
       "array([[0.04620453, 0.54972225, 0.57552084, 0.66551153, 0.30890593],\n",
       "       [0.00495369, 0.02629785, 0.99372429, 0.93325094, 0.95755553],\n",
       "       [0.9785822 , 0.78784475, 0.65870582, 0.56684479, 0.79808885],\n",
       "       [0.81583993, 0.30986667, 0.18738386, 0.40023684, 0.00612563],\n",
       "       [0.54855062, 0.21084411, 0.32683854, 0.76344004, 0.13733922],\n",
       "       [0.81105601, 0.76441386, 0.97133971, 0.14161304, 0.55153148],\n",
       "       [0.71970494, 0.373309  , 0.98040169, 0.86239471, 0.91694912],\n",
       "       [0.5889087 , 0.12076965, 0.83110554, 0.90884247, 0.60104391],\n",
       "       [0.18480919, 0.76790804, 0.25830689, 0.88809165, 0.18667762],\n",
       "       [0.7863288 , 0.15555549, 0.9786187 , 0.03032644, 0.64499372]])"
      ]
     },
     "execution_count": 67,
     "metadata": {},
     "output_type": "execute_result"
    }
   ],
   "source": [
    "rng = np.random.default_rng()\n",
    "pos = rng.random((10,2), dtype=float)\n",
    "col = rng.random((10,3), dtype=float)\n",
    "np.hstack([pos, col])"
   ]
  },
  {
   "cell_type": "markdown",
   "id": "b3a61902",
   "metadata": {},
   "source": [
    "### Exercise 52\n",
    "\n",
    "**Problem.** Given `Z` of shape `(n, 2)`, compute the full **pairwise Euclidean distance matrix** `D` of shape `(n, n)` *without Python loops*, using broadcasting and reductions."
   ]
  },
  {
   "cell_type": "code",
   "execution_count": 78,
   "id": "a0ac52b6",
   "metadata": {},
   "outputs": [
    {
     "data": {
      "text/plain": [
       "array([[0.        , 0.40072719, 0.574288  , 0.46459306, 0.16861741],\n",
       "       [0.40072719, 0.        , 0.84199276, 0.43195526, 0.0497778 ],\n",
       "       [0.574288  , 0.84199276, 0.        , 0.08221942, 0.67816288],\n",
       "       [0.46459306, 0.43195526, 0.08221942, 0.        , 0.36914909],\n",
       "       [0.16861741, 0.0497778 , 0.67816288, 0.36914909, 0.        ]])"
      ]
     },
     "execution_count": 78,
     "metadata": {},
     "output_type": "execute_result"
    }
   ],
   "source": [
    "N = 5\n",
    "rng = np.random.default_rng()\n",
    "pos = rng.random((N,2), dtype=float)\n",
    "D = pos[:,None,:]-pos[None,:,:]\n",
    "# np.sqrt(D[:,:,0]**2+D[:,:,1]**2)\n",
    "np.add.reduce(D**2,axis=2)"
   ]
  },
  {
   "cell_type": "markdown",
   "id": "0a1b9866",
   "metadata": {},
   "source": [
    "### Exercise 53\n",
    "\n",
    "**Problem.** Create a float32 array, then **reinterpret the same bytes as `int32`** using `.view()` (no copy). Show that writing the float values into the viewed array changes its integer bit patterns."
   ]
  },
  {
   "cell_type": "code",
   "execution_count": 86,
   "id": "2a04779a",
   "metadata": {},
   "outputs": [
    {
     "data": {
      "text/plain": [
       "(array([         0, 1065353216, 1073741824, 1077936128, 1082130432],\n",
       "       dtype=int32),\n",
       " array([0., 1., 2., 3., 4.], dtype=float32))"
      ]
     },
     "execution_count": 86,
     "metadata": {},
     "output_type": "execute_result"
    }
   ],
   "source": [
    "a = np.arange(5, dtype=np.float32)\n",
    "a.view(dtype=np.int32), a"
   ]
  },
  {
   "cell_type": "markdown",
   "id": "48aea1b0",
   "metadata": {},
   "source": [
    "### Exercise 55\n",
    "\n",
    "**Problem.** For a 2‑D array `Z` of shape `(m, n)`: (1) produce the ordered list of pairs `((i, j), Z[i, j])` for all elements; (2) produce the ordered list of all **index tuples** `(i, j)` over `{0..m-1}×{0..n-1}`. Return both lists."
   ]
  },
  {
   "cell_type": "code",
   "execution_count": 182,
   "id": "76ae121c",
   "metadata": {},
   "outputs": [
    {
     "data": {
      "text/plain": [
       "(array([[ 0.        ,  0.        ,  0.24034486],\n",
       "        [ 0.        ,  1.        , -0.90233817],\n",
       "        [ 0.        ,  2.        ,  1.07284402],\n",
       "        [ 1.        ,  0.        ,  2.72190931],\n",
       "        [ 1.        ,  1.        , -0.18510672],\n",
       "        [ 1.        ,  2.        ,  0.3243922 ]]),\n",
       " array([[0, 0],\n",
       "        [0, 1],\n",
       "        [0, 2],\n",
       "        [1, 0],\n",
       "        [1, 1],\n",
       "        [1, 2]]))"
      ]
     },
     "execution_count": 182,
     "metadata": {},
     "output_type": "execute_result"
    }
   ],
   "source": [
    "Z = np.random.normal(0,1,6).reshape(2,3)\n",
    "index = np.indices(Z.shape)\n",
    "ind = np.column_stack([\n",
    "    index[0].ravel(),\n",
    "    index[1].ravel()\n",
    "])\n",
    "res = np.column_stack([ind,Z.ravel()])\n",
    "res, ind"
   ]
  },
  {
   "cell_type": "markdown",
   "id": "6fba0d56",
   "metadata": {},
   "source": [
    "### Exercise 57\n",
    "\n",
    "**Problem.** Given integers `n ≥ 1` and `0 ≤ p ≤ n^2`, create an `n×n` zero array `Z`. Using **flat indexing only** (indices `0..n^2−1`) sample `p` **distinct** indices without replacement and set those positions to 1. Return `Z`. Do **not** use 2‑D index tuples."
   ]
  },
  {
   "cell_type": "code",
   "execution_count": 196,
   "id": "b8a98045",
   "metadata": {},
   "outputs": [
    {
     "data": {
      "text/plain": [
       "array([[0., 0., 1.],\n",
       "       [0., 1., 0.],\n",
       "       [0., 0., 0.]])"
      ]
     },
     "execution_count": 196,
     "metadata": {},
     "output_type": "execute_result"
    }
   ],
   "source": [
    "n = 3\n",
    "p = 2\n",
    "\n",
    "Z = np.zeros((n,n))\n",
    "Zr = Z.ravel()\n",
    "rng = np.random.default_rng()\n",
    "Zr[np.random.choice(n**2, p)] = 1\n",
    "Zr.reshape((n,n))"
   ]
  },
  {
   "cell_type": "markdown",
   "id": "064aeb7e",
   "metadata": {},
   "source": [
    "### Exercise 58\n",
    "\n",
    "**Problem.** Given a matrix `X` of shape `(m, n)`, **mean‑center each row** by subtracting the per‑row mean using broadcasting (`keepdims=True`). Return the centered matrix."
   ]
  },
  {
   "cell_type": "code",
   "execution_count": 213,
   "id": "f55e49c4",
   "metadata": {},
   "outputs": [
    {
     "data": {
      "text/plain": [
       "array([[-2.22156287,  0.14618767,  2.0753752 ],\n",
       "       [-0.60652429,  0.27331287,  0.33321142],\n",
       "       [ 0.15747943, -0.27613865,  0.11865922],\n",
       "       [ 0.62074592,  0.33357655, -0.95432246]])"
      ]
     },
     "execution_count": 213,
     "metadata": {},
     "output_type": "execute_result"
    }
   ],
   "source": [
    "m, n = 4, 3\n",
    "X = np.random.normal(0,1,m*n).reshape(m,n)\n",
    "X - np.mean(X, axis=1, keepdims=True)"
   ]
  },
  {
   "cell_type": "markdown",
   "id": "0a26afd1",
   "metadata": {},
   "source": [
    "### Exercise 59\n",
    "\n",
    "**Problem.** Given `Z ∈ R^{m×n}` and a column index `k`, **stably sort the rows** by column `k` in ascending order using NumPy (no Python loops). Return the reordered array. Preserve relative order of ties (stable sort)."
   ]
  },
  {
   "cell_type": "code",
   "execution_count": 220,
   "id": "a2aea560",
   "metadata": {},
   "outputs": [
    {
     "data": {
      "text/plain": [
       "(array([[ 0.96463118,  0.11851392, -0.873184  ],\n",
       "        [ 0.21439745, -0.82306085, -0.94567357],\n",
       "        [ 0.75207097,  0.82101441, -0.59691119],\n",
       "        [ 0.37103991, -1.73896576, -2.50343748]]),\n",
       " array([1, 3, 2, 0]),\n",
       " array([[ 0.21439745, -0.82306085, -0.94567357],\n",
       "        [ 0.37103991, -1.73896576, -2.50343748],\n",
       "        [ 0.75207097,  0.82101441, -0.59691119],\n",
       "        [ 0.96463118,  0.11851392, -0.873184  ]]))"
      ]
     },
     "execution_count": 220,
     "metadata": {},
     "output_type": "execute_result"
    }
   ],
   "source": [
    "m, n = 4, 3\n",
    "X = np.random.normal(0,1,m*n).reshape(m,n)\n",
    "k = np.arange(m)\n",
    "np.random.shuffle(k)\n",
    "X, np.argsort(k), X[np.argsort(k)]"
   ]
  },
  {
   "cell_type": "markdown",
   "id": "edf65978",
   "metadata": {},
   "source": [
    "### Exercise 60\n",
    "\n",
    "**Problem.** Given a numeric `m×n` array `Z`, decide whether there exists **any all‑zero column**. Return a single Python `bool` that is `True` iff some column is entirely zeros. Use vectorized NumPy ops only."
   ]
  },
  {
   "cell_type": "code",
   "execution_count": 240,
   "id": "11c203f3",
   "metadata": {},
   "outputs": [
    {
     "data": {
      "text/plain": [
       "array([ True, False, False, False])"
      ]
     },
     "execution_count": 240,
     "metadata": {},
     "output_type": "execute_result"
    }
   ],
   "source": [
    "Z = np.array([\n",
    "    [0,1,0,1],\n",
    "    [0,0,-1,1],\n",
    "    [0,1,0,1],\n",
    "])\n",
    "np.all(Z == 0, axis=0)"
   ]
  },
  {
   "cell_type": "markdown",
   "id": "48fc23b3",
   "metadata": {},
   "source": [
    "### Exercise 61\n",
    "\n",
    "**Problem.** Given a 1‑D array `Z` of random floats and a scalar `z`, find and return the **element nearest to `z`** using the flat view (`Z.flat[...]`). Avoid Python loops."
   ]
  },
  {
   "cell_type": "code",
   "execution_count": 247,
   "id": "67c9539d",
   "metadata": {},
   "outputs": [
    {
     "data": {
      "text/plain": [
       "np.float64(8.021969807540398)"
      ]
     },
     "execution_count": 247,
     "metadata": {},
     "output_type": "execute_result"
    }
   ],
   "source": [
    "Z = np.random.uniform(0, 10, 10).reshape(2, 5)\n",
    "z = 7.5\n",
    "ad = np.abs(Z - z)\n",
    "index = np.argmin(ad)\n",
    "Z.flat[index]"
   ]
  },
  {
   "cell_type": "markdown",
   "id": "ac8fb4ce",
   "metadata": {},
   "source": [
    "### Exercise 62\n",
    "\n",
    "**Problem.** Let `A ∈ R^{m×1}` and `B ∈ R^{1×n}` be broadcastable arrays. Using `np.nditer` with an explicit **allocated output operand**, compute `C ∈ R^{m×n}` with entries `C[i, j] = A[i, 0] + B[0, j]`. Avoid hand‑allocating temporaries; let `nditer` allocate the output."
   ]
  },
  {
   "cell_type": "code",
   "execution_count": null,
   "id": "c0dd632e",
   "metadata": {},
   "outputs": [],
   "source": []
  },
  {
   "cell_type": "markdown",
   "id": "6e00fad7",
   "metadata": {},
   "source": [
    "### Exercise 65\n",
    "\n",
    "**Problem.** Given equal‑length arrays: integer **bin indices** `I` and **weights** `X`, compute `F` of length `1 + max(I)` where `F[k] = sum_{t} X[t] * 1[I[t] = k]`. Use vectorized NumPy (no loops). Bins with no hits should be 0."
   ]
  },
  {
   "cell_type": "code",
   "execution_count": null,
   "id": "ff05ca98",
   "metadata": {},
   "outputs": [],
   "source": []
  },
  {
   "cell_type": "markdown",
   "id": "1cbfe9b8",
   "metadata": {},
   "source": [
    "### Exercise 66\n",
    "\n",
    "**Problem.** Create a random `h×w×3` array of 8‑bit RGB values and compute the **number of unique colors** present. Hint: pack the three bytes per pixel into a single 24‑bit integer before `np.unique`."
   ]
  },
  {
   "cell_type": "code",
   "execution_count": null,
   "id": "c5ae3f30",
   "metadata": {},
   "outputs": [],
   "source": []
  },
  {
   "cell_type": "markdown",
   "id": "9c9cc5f4",
   "metadata": {},
   "source": [
    "### Exercise 67\n",
    "\n",
    "**Problem.** Let `A` have shape `(..., p, q)`. Show that **summing over the last two axes** equals reshaping them into one axis and summing once: `A.sum(axis=(-2, -1)) == A.reshape(A.shape[:-2] + (-1,)).sum(axis=-1)`."
   ]
  },
  {
   "cell_type": "code",
   "execution_count": null,
   "id": "b129d0cb",
   "metadata": {},
   "outputs": [],
   "source": []
  },
  {
   "cell_type": "markdown",
   "id": "d7afd55d",
   "metadata": {},
   "source": [
    "### Exercise 68\n",
    "\n",
    "**Problem.** Given data values `D` and integer group labels `S` (same length), compute **group means** using `np.bincount` (sums and counts) and compare to `pandas` `groupby().mean()` (if available)."
   ]
  },
  {
   "cell_type": "code",
   "execution_count": null,
   "id": "057c175a",
   "metadata": {},
   "outputs": [],
   "source": []
  },
  {
   "cell_type": "markdown",
   "id": "6a2e54fb",
   "metadata": {},
   "source": [
    "### Exercise 69\n",
    "\n",
    "**Problem.** For square matrices `A, B` of the same shape, show that `diag(A @ B)` equals `sum(A * B.T, axis=1)` and also `np.einsum('ij,ji->i', A, B)`. Compute the **diagonal of a product** three ways."
   ]
  },
  {
   "cell_type": "code",
   "execution_count": null,
   "id": "1a576e3d",
   "metadata": {},
   "outputs": [],
   "source": []
  },
  {
   "cell_type": "markdown",
   "id": "e33d885d",
   "metadata": {},
   "source": [
    "### Exercise 70\n",
    "\n",
    "**Problem.** Given a 1‑D array `Z` and integer `nz ≥ 1`, create a new array that **inserts `nz` zeros between consecutive values** of `Z`."
   ]
  },
  {
   "cell_type": "code",
   "execution_count": null,
   "id": "92f239bb",
   "metadata": {},
   "outputs": [],
   "source": []
  },
  {
   "cell_type": "markdown",
   "id": "7aa5198d",
   "metadata": {},
   "source": [
    "### Exercise 71\n",
    "\n",
    "**Problem.** Given `A` of shape `(H, W, 3)` and `B` of shape `(H, W)`, **broadcast** `B` across the channel dimension so that each channel of `A` is scaled by `B`. Return the resulting `(H, W, 3)` array."
   ]
  },
  {
   "cell_type": "code",
   "execution_count": null,
   "id": "2c565726",
   "metadata": {},
   "outputs": [],
   "source": []
  },
  {
   "cell_type": "markdown",
   "id": "a51c4432",
   "metadata": {},
   "source": [
    "### Exercise 72\n",
    "\n",
    "**Problem.** Given a 2‑D array `A`, **swap two rows** using fancy indexing (no loops, no temporary explicit copy)."
   ]
  },
  {
   "cell_type": "code",
   "execution_count": null,
   "id": "735c8419",
   "metadata": {},
   "outputs": [],
   "source": []
  },
  {
   "cell_type": "markdown",
   "id": "b79a5439",
   "metadata": {},
   "source": [
    "### Exercise 73\n",
    "\n",
    "**Problem.** Given a list of triangular faces as an integer array of shape `(t, 3)`, list all **undirected edges** once (deduplicate), e.g., by sorting endpoints and using `np.unique` on a structured view."
   ]
  },
  {
   "cell_type": "code",
   "execution_count": null,
   "id": "14010fc6",
   "metadata": {},
   "outputs": [],
   "source": []
  },
  {
   "cell_type": "markdown",
   "id": "5166be29",
   "metadata": {},
   "source": [
    "### Exercise 74\n",
    "\n",
    "**Problem.** Given the **counts per value** as a 1‑D array `C` (e.g., from `np.bincount`), **expand** back to the full sequence by repeating each index `i` exactly `C[i]` times."
   ]
  },
  {
   "cell_type": "code",
   "execution_count": null,
   "id": "1bd8424a",
   "metadata": {},
   "outputs": [],
   "source": []
  },
  {
   "cell_type": "markdown",
   "id": "5434d214",
   "metadata": {},
   "source": [
    "### Exercise 75\n",
    "\n",
    "**Problem.** Implement a length‑`n` **moving average** using the cumulative sum trick so the sliding window average is computed in `O(N)` overall."
   ]
  },
  {
   "cell_type": "code",
   "execution_count": null,
   "id": "88d3f465",
   "metadata": {},
   "outputs": [],
   "source": []
  },
  {
   "cell_type": "markdown",
   "id": "e804c1db",
   "metadata": {},
   "source": [
    "### Exercise 76\n",
    "\n",
    "**Problem.** Using `numpy.lib.stride_tricks.as_strided`, form **rolling 1‑D windows** of length `w` from a 1‑D array as a 2‑D view of shape `(N−w+1, w)` without copies."
   ]
  },
  {
   "cell_type": "code",
   "execution_count": null,
   "id": "59072f0e",
   "metadata": {},
   "outputs": [],
   "source": []
  },
  {
   "cell_type": "markdown",
   "id": "95dea784",
   "metadata": {},
   "source": [
    "### Exercise 77\n",
    "\n",
    "**Problem.** Demonstrate **in‑place logical and arithmetic flips**: flip a 0/1 integer array with `np.logical_not(..., out=...)` and flip the sign of a float array with `np.negative(..., out=...)`."
   ]
  },
  {
   "cell_type": "code",
   "execution_count": null,
   "id": "12a01aa1",
   "metadata": {},
   "outputs": [],
   "source": []
  },
  {
   "cell_type": "markdown",
   "id": "1d33f96f",
   "metadata": {},
   "source": [
    "### Exercise 78\n",
    "\n",
    "**Problem.** Given `k` line segments with endpoints `P0[i], P1[i]` in 2‑D and a query point `p`, compute the vector of **perpendicular distances** from `p` to each segment, using vectorized NumPy operations."
   ]
  },
  {
   "cell_type": "code",
   "execution_count": null,
   "id": "ca7fd7f7",
   "metadata": {},
   "outputs": [],
   "source": []
  },
  {
   "cell_type": "markdown",
   "id": "bb17f62a",
   "metadata": {},
   "source": [
    "### Exercise 79\n",
    "\n",
    "**Problem.** Extend the previous task: given many query points `P`, compute distances **from each point to each segment** efficiently (vectorize across points; avoid Python loops over segments)."
   ]
  },
  {
   "cell_type": "code",
   "execution_count": null,
   "id": "5fdc076c",
   "metadata": {},
   "outputs": [],
   "source": []
  },
  {
   "cell_type": "markdown",
   "id": "98940b15",
   "metadata": {},
   "source": [
    "### Exercise 80\n",
    "\n",
    "**Problem.** Given an image array `Z` and a center `position = (row, col)`, extract a **centered crop (ROI)** of a given `shape` with **boundary checks**. Out‑of‑bounds regions should be filled with a constant `fill` value."
   ]
  },
  {
   "cell_type": "code",
   "execution_count": null,
   "id": "f226f544",
   "metadata": {},
   "outputs": [],
   "source": []
  },
  {
   "cell_type": "markdown",
   "id": "79d96ea0",
   "metadata": {},
   "source": [
    "### Exercise 81\n",
    "\n",
    "**Problem.** From a 1‑D array `Z`, construct a 2‑D view whose rows are all **sliding windows** of fixed width `w` (`(len(Z)−w+1, w)`), using `as_strided` (no copies)."
   ]
  },
  {
   "cell_type": "code",
   "execution_count": null,
   "id": "9c6a46be",
   "metadata": {},
   "outputs": [],
   "source": []
  },
  {
   "cell_type": "markdown",
   "id": "dd4133a8",
   "metadata": {},
   "source": [
    "### Exercise 82\n",
    "\n",
    "**Problem.** Estimate the **numerical rank** of a square matrix via SVD: compute singular values and count those above a small tolerance (e.g., `1e‑10`)."
   ]
  },
  {
   "cell_type": "code",
   "execution_count": null,
   "id": "56e223ce",
   "metadata": {},
   "outputs": [],
   "source": []
  },
  {
   "cell_type": "markdown",
   "id": "3eba1f50",
   "metadata": {},
   "source": [
    "### Exercise 83\n",
    "\n",
    "**Problem.** Given an integer array, compute its **mode** using `np.bincount(...).argmax()`."
   ]
  },
  {
   "cell_type": "code",
   "execution_count": null,
   "id": "a33475d5",
   "metadata": {},
   "outputs": [],
   "source": []
  },
  {
   "cell_type": "markdown",
   "id": "40aee3df",
   "metadata": {},
   "source": [
    "### Exercise 84\n",
    "\n",
    "**Problem.** Given a `(H, W)` image of integers, produce a 4‑D strided view of **all 3×3 patches** with shape `((H−2), (W−2), 3, 3)` using `as_strided` (no copies)."
   ]
  },
  {
   "cell_type": "code",
   "execution_count": null,
   "id": "f4e0af9f",
   "metadata": {},
   "outputs": [],
   "source": []
  },
  {
   "cell_type": "markdown",
   "id": "8adeab0f",
   "metadata": {},
   "source": [
    "### Exercise 85\n",
    "\n",
    "**Problem.** Given a square matrix `Z`, **enforce symmetry** either by mirroring `Z` with `Z + Z.T − diag(diag(Z))` or by subclassing to mirror writes. Implement one approach."
   ]
  },
  {
   "cell_type": "code",
   "execution_count": null,
   "id": "2b429fbb",
   "metadata": {},
   "outputs": [],
   "source": []
  },
  {
   "cell_type": "markdown",
   "id": "c775982e",
   "metadata": {},
   "source": [
    "### Exercise 86\n",
    "\n",
    "**Problem.** Let `M` have shape `(p, n, n)` and `V` have shape `(p, n, 1)`. Use `np.tensordot` to perform a **tensor contraction** over the correct axes so that the result has shape `(n, 1)`."
   ]
  },
  {
   "cell_type": "code",
   "execution_count": null,
   "id": "e83ae0e1",
   "metadata": {},
   "outputs": [],
   "source": []
  },
  {
   "cell_type": "markdown",
   "id": "ef959474",
   "metadata": {},
   "source": [
    "### Exercise 87\n",
    "\n",
    "**Problem.** Given a 2‑D array `Z` and block size `k`, compute **block sums** (coarse pooling) by reducing along both axes with `np.add.reduceat` at strides of `k`."
   ]
  },
  {
   "cell_type": "code",
   "execution_count": null,
   "id": "57bc44e8",
   "metadata": {},
   "outputs": [],
   "source": []
  },
  {
   "cell_type": "markdown",
   "id": "2d23713b",
   "metadata": {},
   "source": [
    "### Exercise 88\n",
    "\n",
    "**Problem.** Implement one **update step of Conway’s Game of Life** on a binary grid `Z` by summing the 8 neighbors via shifted slices and applying birth/survival rules to the inner grid."
   ]
  },
  {
   "cell_type": "code",
   "execution_count": null,
   "id": "60dee7c0",
   "metadata": {},
   "outputs": [],
   "source": []
  },
  {
   "cell_type": "markdown",
   "id": "0e6d7a87",
   "metadata": {},
   "source": [
    "### Exercise 89\n",
    "\n",
    "**Problem.** Given a large 1‑D array `Z` and integer `n`, extract the **top‑k elements** two ways: using `np.argsort` (exactly sorted) and `np.argpartition` (faster selection, unordered). Return both sets."
   ]
  },
  {
   "cell_type": "code",
   "execution_count": null,
   "id": "91bd7caf",
   "metadata": {},
   "outputs": [],
   "source": []
  },
  {
   "cell_type": "markdown",
   "id": "7cea0214",
   "metadata": {},
   "source": [
    "### Exercise 90\n",
    "\n",
    "**Problem.** Write a function that computes the **Cartesian product** of several 1‑D arrays, returning an array of shape `(N, d)` containing all combinations (where `N` is the product of lengths)."
   ]
  },
  {
   "cell_type": "code",
   "execution_count": null,
   "id": "5661f663",
   "metadata": {},
   "outputs": [],
   "source": []
  },
  {
   "cell_type": "markdown",
   "id": "247af7e4",
   "metadata": {},
   "source": [
    "### Exercise 91\n",
    "\n",
    "**Problem.** From a 2‑D array of columns with mixed types (string/float/int), create a **record array** with named fields using `np.core.records.fromarrays`."
   ]
  },
  {
   "cell_type": "code",
   "execution_count": null,
   "id": "bcdaf3bc",
   "metadata": {},
   "outputs": [],
   "source": []
  },
  {
   "cell_type": "markdown",
   "id": "cad6e7e5",
   "metadata": {},
   "source": [
    "### Exercise 92\n",
    "\n",
    "**Problem.** Given a large 1‑D float array `x`, compute `x**3` using **vectorized power** (`np.power(x, 3)`)."
   ]
  },
  {
   "cell_type": "code",
   "execution_count": null,
   "id": "32966435",
   "metadata": {},
   "outputs": [],
   "source": []
  },
  {
   "cell_type": "markdown",
   "id": "454bfa32",
   "metadata": {},
   "source": [
    "### Exercise 93\n",
    "\n",
    "**Problem.** Given `A` of shape `(m, d)` with small integers and `B` of shape `(r, 2)`, test **row containment**: return the indices of rows `i` in `A` that contain all required values in `B` (broadcast comparisons and reduce with `any`/`all`)."
   ]
  },
  {
   "cell_type": "code",
   "execution_count": null,
   "id": "d074d353",
   "metadata": {},
   "outputs": [],
   "source": []
  },
  {
   "cell_type": "markdown",
   "id": "5ed328c4",
   "metadata": {},
   "source": [
    "### Exercise 94\n",
    "\n",
    "**Problem.** Given a 2‑D integer array `Z`, **drop rows that are constant across all columns** (e.g., `[c, c, c, ...]`) using vectorized comparisons and boolean indexing."
   ]
  },
  {
   "cell_type": "code",
   "execution_count": null,
   "id": "1155c048",
   "metadata": {},
   "outputs": [],
   "source": []
  },
  {
   "cell_type": "markdown",
   "id": "0b558d49",
   "metadata": {},
   "source": [
    "### Exercise 95\n",
    "\n",
    "**Problem.** Given a 1‑D array `I` of bytes (0..255), compute its **bit decomposition** as a 2‑D array of 0/1s with 8 columns (most‑significant bit first)."
   ]
  },
  {
   "cell_type": "code",
   "execution_count": null,
   "id": "70bf7770",
   "metadata": {},
   "outputs": [],
   "source": []
  },
  {
   "cell_type": "markdown",
   "id": "4e768845",
   "metadata": {},
   "source": [
    "### Exercise 96\n",
    "\n",
    "**Problem.** Given a 2‑D integer array `Z`, return the **unique rows** efficiently by viewing each row as a fixed‑width bytes object (`np.void`) and applying `np.unique` to obtain unique indices."
   ]
  },
  {
   "cell_type": "code",
   "execution_count": null,
   "id": "c9105750",
   "metadata": {},
   "outputs": [],
   "source": []
  },
  {
   "cell_type": "markdown",
   "id": "27cce8a6",
   "metadata": {},
   "source": [
    "### Exercise 97\n",
    "\n",
    "**Problem.** A short **einsum mini‑tour**: show examples for (a) sum of a vector, (b) elementwise product, (c) dot product, and (d) outer product, using `np.einsum` equations."
   ]
  },
  {
   "cell_type": "code",
   "execution_count": null,
   "id": "80ac864c",
   "metadata": {},
   "outputs": [],
   "source": []
  },
  {
   "cell_type": "markdown",
   "id": "c6ce1e92",
   "metadata": {},
   "source": [
    "### Exercise 98\n",
    "\n",
    "**Problem.** Given a parametric 2‑D curve `(x(t), y(t))` sampled by parameter `t`, **re‑sample uniformly by arc length**: compute cumulative chord lengths, then linearly interpolate `x` and `y` at equal arc‑length steps."
   ]
  },
  {
   "cell_type": "code",
   "execution_count": null,
   "id": "ceddad16",
   "metadata": {},
   "outputs": [],
   "source": []
  },
  {
   "cell_type": "markdown",
   "id": "5c1002b3",
   "metadata": {},
   "source": [
    "### Exercise 99\n",
    "\n",
    "**Problem.** Given a small 2‑D float array `X`, **filter rows whose entries are all integers** and whose row‑sum equals a given integer `n`. Return the filtered subarray."
   ]
  },
  {
   "cell_type": "code",
   "execution_count": null,
   "id": "abbd4b77",
   "metadata": {},
   "outputs": [],
   "source": []
  },
  {
   "cell_type": "markdown",
   "id": "18772612",
   "metadata": {},
   "source": [
    "### Exercise 100\n",
    "\n",
    "**Problem.** Given a 1‑D sample `X`, perform a **bootstrap** for the mean: draw `N` bootstrap resamples (with replacement), compute the resample means, and report a two‑sided percentile **confidence interval** (e.g., 2.5% and 97.5%)."
   ]
  },
  {
   "cell_type": "code",
   "execution_count": null,
   "id": "b07eaf88",
   "metadata": {},
   "outputs": [],
   "source": []
  }
 ],
 "metadata": {
  "kernelspec": {
   "display_name": "Python 3 (ipykernel)",
   "language": "python",
   "name": "python3"
  },
  "language_info": {
   "codemirror_mode": {
    "name": "ipython",
    "version": 3
   },
   "file_extension": ".py",
   "mimetype": "text/x-python",
   "name": "python",
   "nbconvert_exporter": "python",
   "pygments_lexer": "ipython3",
   "version": "3.10.18"
  }
 },
 "nbformat": 4,
 "nbformat_minor": 5
}
